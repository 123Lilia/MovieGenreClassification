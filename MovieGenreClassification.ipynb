{
  "cells": [
    {
      "cell_type": "markdown",
      "id": "3c5e9a96",
      "metadata": {
        "id": "3c5e9a96"
      },
      "source": [
        "# Movie Genre Classification"
      ]
    },
    {
      "cell_type": "markdown",
      "id": "e4cd4b85",
      "metadata": {
        "id": "e4cd4b85"
      },
      "source": [
        "Movies are a popular means of entertainment all around the world. With a lot of streaming services and websites available and with more on the horizon, building a predictive model that automatically generates the genre of a movie based on the its plot summary is definitely beneficial as it may reduce the expense of manually tagging the movies."
      ]
    },
    {
      "cell_type": "markdown",
      "id": "9e11513a",
      "metadata": {
        "id": "9e11513a"
      },
      "source": [
        "# Data Understanding"
      ]
    },
    {
      "cell_type": "markdown",
      "id": "db211956",
      "metadata": {
        "id": "db211956"
      },
      "source": [
        "## Preprocessing and Exploratory Data Analysis"
      ]
    },
    {
      "cell_type": "markdown",
      "id": "29e71731",
      "metadata": {
        "id": "29e71731"
      },
      "source": [
        "#### IMPORT NEEDED PACKAGES\n"
      ]
    },
    {
      "cell_type": "code",
      "execution_count": 2,
      "id": "e5210717",
      "metadata": {
        "colab": {
          "base_uri": "https://localhost:8080/"
        },
        "id": "e5210717",
        "outputId": "04f72e64-000d-46c8-ff30-cf7fb1634a7a"
      },
      "outputs": [
        {
          "output_type": "stream",
          "name": "stderr",
          "text": [
            "[nltk_data] Downloading package punkt to /root/nltk_data...\n",
            "[nltk_data]   Unzipping tokenizers/punkt.zip.\n",
            "[nltk_data] Downloading package stopwords to /root/nltk_data...\n",
            "[nltk_data]   Unzipping corpora/stopwords.zip.\n",
            "[nltk_data] Downloading package wordnet to /root/nltk_data...\n"
          ]
        }
      ],
      "source": [
        "import pandas as pd\n",
        "from google.colab import drive\n",
        "import re\n",
        "import numpy as np\n",
        "import nltk\n",
        "import matplotlib.pyplot as plt\n",
        "nltk.download('punkt')\n",
        "nltk.download('stopwords')\n",
        "nltk.download('wordnet')\n",
        "from collections import Counter\n",
        "from sklearn.preprocessing import MinMaxScaler, StandardScaler\n",
        "import chardet\n",
        "from nltk.corpus import stopwords\n",
        "from nltk.tokenize import word_tokenize\n",
        "from bs4 import BeautifulSoup\n",
        "import nltk\n",
        "from nltk.corpus import stopwords\n",
        "import spacy\n",
        "from tqdm import tqdm\n",
        "import pandas as pd\n",
        "from google.colab import drive\n",
        "import tensorflow as tf\n",
        "from tensorflow.keras.layers import Dense, Input\n",
        "from tensorflow.keras.optimizers import Adam\n",
        "from tensorflow.keras.models import Model\n",
        "from tensorflow.keras.callbacks import ModelCheckpoint\n",
        "from transformers import TFBertModel, BertTokenizer\n",
        "from sklearn.metrics import classification_report, confusion_matrix\n",
        "from sklearn.ensemble import VotingClassifier\n",
        "from sklearn.preprocessing import StandardScaler\n",
        "from sklearn.ensemble import GradientBoostingClassifier\n",
        "from sklearn.metrics import accuracy_score\n",
        "import xgboost as xgb\n",
        "from sklearn.preprocessing import LabelEncoder\n",
        "from sklearn.model_selection import train_test_split\n",
        "from sklearn.metrics import accuracy_score\n",
        "from sklearn.preprocessing import LabelEncoder\n",
        "from sklearn.model_selection import train_test_split\n",
        "from sklearn.ensemble import RandomForestClassifier\n",
        "from sklearn.decomposition import PCA\n",
        "from sklearn.naive_bayes import GaussianNB\n",
        "import gensim.downloader as api\n",
        "from google.colab import files\n",
        "\n"
      ]
    },
    {
      "cell_type": "markdown",
      "id": "6ad22b06",
      "metadata": {
        "id": "6ad22b06"
      },
      "source": [
        "### Data Information"
      ]
    },
    {
      "cell_type": "code",
      "execution_count": null,
      "id": "8261e661",
      "metadata": {
        "colab": {
          "base_uri": "https://localhost:8080/"
        },
        "id": "8261e661",
        "outputId": "0935fb9b-86e9-4e5e-ecfe-7e71d5e19ac2"
      },
      "outputs": [
        {
          "name": "stdout",
          "output_type": "stream",
          "text": [
            "Drive already mounted at /content/drive; to attempt to forcibly remount, call drive.mount(\"/content/drive\", force_remount=True).\n"
          ]
        }
      ],
      "source": [
        "# Loading the dataset\n",
        "drive.mount('/content/drive')\n",
        "file_path = '/content/drive/My Drive/train_data.csv'\n",
        "\n",
        "data = pd.read_csv(file_path, sep=',', engine='python', header=None)\n",
        "\n",
        "data.columns = ['Source', 'ID', 'TITLE', 'YEAR','CERTIFICATE','RUNTIME','GENRE','RATING','DESCRIPTION',\n",
        "                'DIRECTOR','DIR_ID','START','S_ID','VOTES','GROSS']"
      ]
    },
    {
      "cell_type": "code",
      "execution_count": null,
      "id": "4hQmJaz6NHV2",
      "metadata": {
        "id": "4hQmJaz6NHV2"
      },
      "outputs": [],
      "source": [
        "df=data"
      ]
    },
    {
      "cell_type": "code",
      "execution_count": null,
      "id": "lxe7MK0LGXHX",
      "metadata": {
        "id": "lxe7MK0LGXHX"
      },
      "outputs": [],
      "source": [
        "# Remove the first row\n",
        "data = data.drop(0)\n",
        "\n",
        "# Reset the index if needed\n",
        "data = data.reset_index(drop=True)"
      ]
    },
    {
      "cell_type": "code",
      "execution_count": null,
      "id": "89fd658d",
      "metadata": {
        "colab": {
          "base_uri": "https://localhost:8080/",
          "height": 679
        },
        "id": "89fd658d",
        "outputId": "c35b1026-1642-479a-bfcf-666761dad7e7"
      },
      "outputs": [
        {
          "name": "stdout",
          "output_type": "stream",
          "text": [
            "Number of instances = 363008\n",
            "Number of attributes = 15\n"
          ]
        },
        {
          "data": {
            "application/vnd.google.colaboratory.intrinsic+json": {
              "type": "dataframe",
              "variable_name": "data"
            },
            "text/html": [
              "\n",
              "  <div id=\"df-d844e58a-3657-4e7c-ba3e-1e0f097d22d0\" class=\"colab-df-container\">\n",
              "    <div>\n",
              "<style scoped>\n",
              "    .dataframe tbody tr th:only-of-type {\n",
              "        vertical-align: middle;\n",
              "    }\n",
              "\n",
              "    .dataframe tbody tr th {\n",
              "        vertical-align: top;\n",
              "    }\n",
              "\n",
              "    .dataframe thead th {\n",
              "        text-align: right;\n",
              "    }\n",
              "</style>\n",
              "<table border=\"1\" class=\"dataframe\">\n",
              "  <thead>\n",
              "    <tr style=\"text-align: right;\">\n",
              "      <th></th>\n",
              "      <th>Source</th>\n",
              "      <th>ID</th>\n",
              "      <th>TITLE</th>\n",
              "      <th>YEAR</th>\n",
              "      <th>CERTIFICATE</th>\n",
              "      <th>RUNTIME</th>\n",
              "      <th>GENRE</th>\n",
              "      <th>RATING</th>\n",
              "      <th>DESCRIPTION</th>\n",
              "      <th>DIRECTOR</th>\n",
              "      <th>DIR_ID</th>\n",
              "      <th>START</th>\n",
              "      <th>S_ID</th>\n",
              "      <th>VOTES</th>\n",
              "      <th>GROSS</th>\n",
              "    </tr>\n",
              "  </thead>\n",
              "  <tbody>\n",
              "    <tr>\n",
              "      <th>0</th>\n",
              "      <td>action.csv</td>\n",
              "      <td>tt9114286</td>\n",
              "      <td>Black Panther: Wakanda Forever</td>\n",
              "      <td>2022</td>\n",
              "      <td>PG-13</td>\n",
              "      <td>161 min</td>\n",
              "      <td>Action, Adventure, Drama</td>\n",
              "      <td>6.9</td>\n",
              "      <td>The people of Wakanda fight to protect their h...</td>\n",
              "      <td>Ryan Coogler</td>\n",
              "      <td>/name/nm3363032/</td>\n",
              "      <td>Letitia Wright, \\nLupita Nyong'o, \\nDanai Guri...</td>\n",
              "      <td>/name/nm4004793/,/name/nm2143282/,/name/nm1775...</td>\n",
              "      <td>204835</td>\n",
              "      <td>NaN</td>\n",
              "    </tr>\n",
              "    <tr>\n",
              "      <th>1</th>\n",
              "      <td>action.csv</td>\n",
              "      <td>tt1630029</td>\n",
              "      <td>Avatar: The Way of Water</td>\n",
              "      <td>2022</td>\n",
              "      <td>PG-13</td>\n",
              "      <td>192 min</td>\n",
              "      <td>Action, Adventure, Fantasy</td>\n",
              "      <td>7.8</td>\n",
              "      <td>Jake Sully lives with his newfound family form...</td>\n",
              "      <td>James Cameron</td>\n",
              "      <td>/name/nm0000116/</td>\n",
              "      <td>Sam Worthington, \\nZoe Saldana, \\nSigourney We...</td>\n",
              "      <td>/name/nm0941777/,/name/nm0757855/,/name/nm0000...</td>\n",
              "      <td>295119</td>\n",
              "      <td>NaN</td>\n",
              "    </tr>\n",
              "    <tr>\n",
              "      <th>2</th>\n",
              "      <td>action.csv</td>\n",
              "      <td>tt5884796</td>\n",
              "      <td>Plane</td>\n",
              "      <td>2023</td>\n",
              "      <td>R</td>\n",
              "      <td>107 min</td>\n",
              "      <td>Action, Thriller</td>\n",
              "      <td>6.5</td>\n",
              "      <td>A pilot finds himself caught in a war zone aft...</td>\n",
              "      <td>Jean-François Richet</td>\n",
              "      <td>/name/nm0724938/</td>\n",
              "      <td>Gerard Butler, \\nMike Colter, \\nTony Goldwyn, ...</td>\n",
              "      <td>/name/nm0124930/,/name/nm1591496/,/name/nm0001...</td>\n",
              "      <td>26220</td>\n",
              "      <td>NaN</td>\n",
              "    </tr>\n",
              "    <tr>\n",
              "      <th>3</th>\n",
              "      <td>action.csv</td>\n",
              "      <td>tt6710474</td>\n",
              "      <td>Everything Everywhere All at Once</td>\n",
              "      <td>2022</td>\n",
              "      <td>R</td>\n",
              "      <td>139 min</td>\n",
              "      <td>Action, Adventure, Comedy</td>\n",
              "      <td>8</td>\n",
              "      <td>A middle-aged Chinese immigrant is swept up in...</td>\n",
              "      <td>Dan Kwan, \\nDaniel Scheinert</td>\n",
              "      <td>/name/nm3453283/</td>\n",
              "      <td>Michelle Yeoh, \\nStephanie Hsu, \\nJamie Lee Cu...</td>\n",
              "      <td>/name/nm3215397/,/name/nm0000706/,/name/nm3513...</td>\n",
              "      <td>327858</td>\n",
              "      <td>NaN</td>\n",
              "    </tr>\n",
              "    <tr>\n",
              "      <th>4</th>\n",
              "      <td>action.csv</td>\n",
              "      <td>tt5433140</td>\n",
              "      <td>Fast X</td>\n",
              "      <td>2023</td>\n",
              "      <td>NaN</td>\n",
              "      <td>NaN</td>\n",
              "      <td>Action, Crime, Mystery</td>\n",
              "      <td>NaN</td>\n",
              "      <td>Dom Toretto and his family are targeted by the...</td>\n",
              "      <td>Louis Leterrier</td>\n",
              "      <td>/name/nm0504642/</td>\n",
              "      <td>Vin Diesel, \\nJordana Brewster, \\nTyrese Gibso...</td>\n",
              "      <td>/name/nm0004874/,/name/nm0108287/,/name/nm0879...</td>\n",
              "      <td>NaN</td>\n",
              "      <td>NaN</td>\n",
              "    </tr>\n",
              "  </tbody>\n",
              "</table>\n",
              "</div>\n",
              "    <div class=\"colab-df-buttons\">\n",
              "\n",
              "  <div class=\"colab-df-container\">\n",
              "    <button class=\"colab-df-convert\" onclick=\"convertToInteractive('df-d844e58a-3657-4e7c-ba3e-1e0f097d22d0')\"\n",
              "            title=\"Convert this dataframe to an interactive table.\"\n",
              "            style=\"display:none;\">\n",
              "\n",
              "  <svg xmlns=\"http://www.w3.org/2000/svg\" height=\"24px\" viewBox=\"0 -960 960 960\">\n",
              "    <path d=\"M120-120v-720h720v720H120Zm60-500h600v-160H180v160Zm220 220h160v-160H400v160Zm0 220h160v-160H400v160ZM180-400h160v-160H180v160Zm440 0h160v-160H620v160ZM180-180h160v-160H180v160Zm440 0h160v-160H620v160Z\"/>\n",
              "  </svg>\n",
              "    </button>\n",
              "\n",
              "  <style>\n",
              "    .colab-df-container {\n",
              "      display:flex;\n",
              "      gap: 12px;\n",
              "    }\n",
              "\n",
              "    .colab-df-convert {\n",
              "      background-color: #E8F0FE;\n",
              "      border: none;\n",
              "      border-radius: 50%;\n",
              "      cursor: pointer;\n",
              "      display: none;\n",
              "      fill: #1967D2;\n",
              "      height: 32px;\n",
              "      padding: 0 0 0 0;\n",
              "      width: 32px;\n",
              "    }\n",
              "\n",
              "    .colab-df-convert:hover {\n",
              "      background-color: #E2EBFA;\n",
              "      box-shadow: 0px 1px 2px rgba(60, 64, 67, 0.3), 0px 1px 3px 1px rgba(60, 64, 67, 0.15);\n",
              "      fill: #174EA6;\n",
              "    }\n",
              "\n",
              "    .colab-df-buttons div {\n",
              "      margin-bottom: 4px;\n",
              "    }\n",
              "\n",
              "    [theme=dark] .colab-df-convert {\n",
              "      background-color: #3B4455;\n",
              "      fill: #D2E3FC;\n",
              "    }\n",
              "\n",
              "    [theme=dark] .colab-df-convert:hover {\n",
              "      background-color: #434B5C;\n",
              "      box-shadow: 0px 1px 3px 1px rgba(0, 0, 0, 0.15);\n",
              "      filter: drop-shadow(0px 1px 2px rgba(0, 0, 0, 0.3));\n",
              "      fill: #FFFFFF;\n",
              "    }\n",
              "  </style>\n",
              "\n",
              "    <script>\n",
              "      const buttonEl =\n",
              "        document.querySelector('#df-d844e58a-3657-4e7c-ba3e-1e0f097d22d0 button.colab-df-convert');\n",
              "      buttonEl.style.display =\n",
              "        google.colab.kernel.accessAllowed ? 'block' : 'none';\n",
              "\n",
              "      async function convertToInteractive(key) {\n",
              "        const element = document.querySelector('#df-d844e58a-3657-4e7c-ba3e-1e0f097d22d0');\n",
              "        const dataTable =\n",
              "          await google.colab.kernel.invokeFunction('convertToInteractive',\n",
              "                                                    [key], {});\n",
              "        if (!dataTable) return;\n",
              "\n",
              "        const docLinkHtml = 'Like what you see? Visit the ' +\n",
              "          '<a target=\"_blank\" href=https://colab.research.google.com/notebooks/data_table.ipynb>data table notebook</a>'\n",
              "          + ' to learn more about interactive tables.';\n",
              "        element.innerHTML = '';\n",
              "        dataTable['output_type'] = 'display_data';\n",
              "        await google.colab.output.renderOutput(dataTable, element);\n",
              "        const docLink = document.createElement('div');\n",
              "        docLink.innerHTML = docLinkHtml;\n",
              "        element.appendChild(docLink);\n",
              "      }\n",
              "    </script>\n",
              "  </div>\n",
              "\n",
              "\n",
              "<div id=\"df-9066a690-9979-46bf-ba2e-ea052b3ca2de\">\n",
              "  <button class=\"colab-df-quickchart\" onclick=\"quickchart('df-9066a690-9979-46bf-ba2e-ea052b3ca2de')\"\n",
              "            title=\"Suggest charts\"\n",
              "            style=\"display:none;\">\n",
              "\n",
              "<svg xmlns=\"http://www.w3.org/2000/svg\" height=\"24px\"viewBox=\"0 0 24 24\"\n",
              "     width=\"24px\">\n",
              "    <g>\n",
              "        <path d=\"M19 3H5c-1.1 0-2 .9-2 2v14c0 1.1.9 2 2 2h14c1.1 0 2-.9 2-2V5c0-1.1-.9-2-2-2zM9 17H7v-7h2v7zm4 0h-2V7h2v10zm4 0h-2v-4h2v4z\"/>\n",
              "    </g>\n",
              "</svg>\n",
              "  </button>\n",
              "\n",
              "<style>\n",
              "  .colab-df-quickchart {\n",
              "      --bg-color: #E8F0FE;\n",
              "      --fill-color: #1967D2;\n",
              "      --hover-bg-color: #E2EBFA;\n",
              "      --hover-fill-color: #174EA6;\n",
              "      --disabled-fill-color: #AAA;\n",
              "      --disabled-bg-color: #DDD;\n",
              "  }\n",
              "\n",
              "  [theme=dark] .colab-df-quickchart {\n",
              "      --bg-color: #3B4455;\n",
              "      --fill-color: #D2E3FC;\n",
              "      --hover-bg-color: #434B5C;\n",
              "      --hover-fill-color: #FFFFFF;\n",
              "      --disabled-bg-color: #3B4455;\n",
              "      --disabled-fill-color: #666;\n",
              "  }\n",
              "\n",
              "  .colab-df-quickchart {\n",
              "    background-color: var(--bg-color);\n",
              "    border: none;\n",
              "    border-radius: 50%;\n",
              "    cursor: pointer;\n",
              "    display: none;\n",
              "    fill: var(--fill-color);\n",
              "    height: 32px;\n",
              "    padding: 0;\n",
              "    width: 32px;\n",
              "  }\n",
              "\n",
              "  .colab-df-quickchart:hover {\n",
              "    background-color: var(--hover-bg-color);\n",
              "    box-shadow: 0 1px 2px rgba(60, 64, 67, 0.3), 0 1px 3px 1px rgba(60, 64, 67, 0.15);\n",
              "    fill: var(--button-hover-fill-color);\n",
              "  }\n",
              "\n",
              "  .colab-df-quickchart-complete:disabled,\n",
              "  .colab-df-quickchart-complete:disabled:hover {\n",
              "    background-color: var(--disabled-bg-color);\n",
              "    fill: var(--disabled-fill-color);\n",
              "    box-shadow: none;\n",
              "  }\n",
              "\n",
              "  .colab-df-spinner {\n",
              "    border: 2px solid var(--fill-color);\n",
              "    border-color: transparent;\n",
              "    border-bottom-color: var(--fill-color);\n",
              "    animation:\n",
              "      spin 1s steps(1) infinite;\n",
              "  }\n",
              "\n",
              "  @keyframes spin {\n",
              "    0% {\n",
              "      border-color: transparent;\n",
              "      border-bottom-color: var(--fill-color);\n",
              "      border-left-color: var(--fill-color);\n",
              "    }\n",
              "    20% {\n",
              "      border-color: transparent;\n",
              "      border-left-color: var(--fill-color);\n",
              "      border-top-color: var(--fill-color);\n",
              "    }\n",
              "    30% {\n",
              "      border-color: transparent;\n",
              "      border-left-color: var(--fill-color);\n",
              "      border-top-color: var(--fill-color);\n",
              "      border-right-color: var(--fill-color);\n",
              "    }\n",
              "    40% {\n",
              "      border-color: transparent;\n",
              "      border-right-color: var(--fill-color);\n",
              "      border-top-color: var(--fill-color);\n",
              "    }\n",
              "    60% {\n",
              "      border-color: transparent;\n",
              "      border-right-color: var(--fill-color);\n",
              "    }\n",
              "    80% {\n",
              "      border-color: transparent;\n",
              "      border-right-color: var(--fill-color);\n",
              "      border-bottom-color: var(--fill-color);\n",
              "    }\n",
              "    90% {\n",
              "      border-color: transparent;\n",
              "      border-bottom-color: var(--fill-color);\n",
              "    }\n",
              "  }\n",
              "</style>\n",
              "\n",
              "  <script>\n",
              "    async function quickchart(key) {\n",
              "      const quickchartButtonEl =\n",
              "        document.querySelector('#' + key + ' button');\n",
              "      quickchartButtonEl.disabled = true;  // To prevent multiple clicks.\n",
              "      quickchartButtonEl.classList.add('colab-df-spinner');\n",
              "      try {\n",
              "        const charts = await google.colab.kernel.invokeFunction(\n",
              "            'suggestCharts', [key], {});\n",
              "      } catch (error) {\n",
              "        console.error('Error during call to suggestCharts:', error);\n",
              "      }\n",
              "      quickchartButtonEl.classList.remove('colab-df-spinner');\n",
              "      quickchartButtonEl.classList.add('colab-df-quickchart-complete');\n",
              "    }\n",
              "    (() => {\n",
              "      let quickchartButtonEl =\n",
              "        document.querySelector('#df-9066a690-9979-46bf-ba2e-ea052b3ca2de button');\n",
              "      quickchartButtonEl.style.display =\n",
              "        google.colab.kernel.accessAllowed ? 'block' : 'none';\n",
              "    })();\n",
              "  </script>\n",
              "</div>\n",
              "\n",
              "    </div>\n",
              "  </div>\n"
            ],
            "text/plain": [
              "       Source         ID                              TITLE  YEAR CERTIFICATE  \\\n",
              "0  action.csv  tt9114286     Black Panther: Wakanda Forever  2022       PG-13   \n",
              "1  action.csv  tt1630029           Avatar: The Way of Water  2022       PG-13   \n",
              "2  action.csv  tt5884796                              Plane  2023           R   \n",
              "3  action.csv  tt6710474  Everything Everywhere All at Once  2022           R   \n",
              "4  action.csv  tt5433140                             Fast X  2023         NaN   \n",
              "\n",
              "   RUNTIME                       GENRE RATING  \\\n",
              "0  161 min    Action, Adventure, Drama    6.9   \n",
              "1  192 min  Action, Adventure, Fantasy    7.8   \n",
              "2  107 min            Action, Thriller    6.5   \n",
              "3  139 min   Action, Adventure, Comedy      8   \n",
              "4      NaN      Action, Crime, Mystery    NaN   \n",
              "\n",
              "                                         DESCRIPTION  \\\n",
              "0  The people of Wakanda fight to protect their h...   \n",
              "1  Jake Sully lives with his newfound family form...   \n",
              "2  A pilot finds himself caught in a war zone aft...   \n",
              "3  A middle-aged Chinese immigrant is swept up in...   \n",
              "4  Dom Toretto and his family are targeted by the...   \n",
              "\n",
              "                       DIRECTOR            DIR_ID  \\\n",
              "0                  Ryan Coogler  /name/nm3363032/   \n",
              "1                 James Cameron  /name/nm0000116/   \n",
              "2          Jean-François Richet  /name/nm0724938/   \n",
              "3  Dan Kwan, \\nDaniel Scheinert  /name/nm3453283/   \n",
              "4               Louis Leterrier  /name/nm0504642/   \n",
              "\n",
              "                                               START  \\\n",
              "0  Letitia Wright, \\nLupita Nyong'o, \\nDanai Guri...   \n",
              "1  Sam Worthington, \\nZoe Saldana, \\nSigourney We...   \n",
              "2  Gerard Butler, \\nMike Colter, \\nTony Goldwyn, ...   \n",
              "3  Michelle Yeoh, \\nStephanie Hsu, \\nJamie Lee Cu...   \n",
              "4  Vin Diesel, \\nJordana Brewster, \\nTyrese Gibso...   \n",
              "\n",
              "                                                S_ID   VOTES GROSS  \n",
              "0  /name/nm4004793/,/name/nm2143282/,/name/nm1775...  204835   NaN  \n",
              "1  /name/nm0941777/,/name/nm0757855/,/name/nm0000...  295119   NaN  \n",
              "2  /name/nm0124930/,/name/nm1591496/,/name/nm0001...   26220   NaN  \n",
              "3  /name/nm3215397/,/name/nm0000706/,/name/nm3513...  327858   NaN  \n",
              "4  /name/nm0004874/,/name/nm0108287/,/name/nm0879...     NaN   NaN  "
            ]
          },
          "execution_count": 5,
          "metadata": {},
          "output_type": "execute_result"
        }
      ],
      "source": [
        "print('Number of instances = %d' % (data.shape[0]))\n",
        "print('Number of attributes = %d' % (data.shape[1]))\n",
        "data.head()"
      ]
    },
    {
      "cell_type": "markdown",
      "id": "8fe45ba7",
      "metadata": {
        "id": "8fe45ba7"
      },
      "source": [
        "#### Data Types"
      ]
    },
    {
      "cell_type": "code",
      "execution_count": null,
      "id": "3ee1cc02",
      "metadata": {
        "colab": {
          "base_uri": "https://localhost:8080/"
        },
        "id": "3ee1cc02",
        "outputId": "9ce8754c-ae62-4c68-f4b7-5c1b5d276419"
      },
      "outputs": [
        {
          "data": {
            "text/plain": [
              "Source         object\n",
              "ID             object\n",
              "TITLE          object\n",
              "YEAR           object\n",
              "CERTIFICATE    object\n",
              "RUNTIME        object\n",
              "GENRE          object\n",
              "RATING         object\n",
              "DESCRIPTION    object\n",
              "DIRECTOR       object\n",
              "DIR_ID         object\n",
              "START          object\n",
              "S_ID           object\n",
              "VOTES          object\n",
              "GROSS          object\n",
              "dtype: object"
            ]
          },
          "execution_count": 6,
          "metadata": {},
          "output_type": "execute_result"
        }
      ],
      "source": [
        "# Printing data types of DataFrame\n",
        "data.dtypes"
      ]
    },
    {
      "cell_type": "code",
      "execution_count": null,
      "id": "8abc2e77",
      "metadata": {
        "id": "8abc2e77"
      },
      "outputs": [],
      "source": [
        "#remove not used columns\n",
        "columns_to_keep = ['ID', 'TITLE', 'GENRE', 'DESCRIPTION']\n",
        "data = data[columns_to_keep]"
      ]
    },
    {
      "cell_type": "code",
      "execution_count": null,
      "id": "b65e4990",
      "metadata": {
        "colab": {
          "base_uri": "https://localhost:8080/"
        },
        "id": "b65e4990",
        "outputId": "18fabfbd-50e5-427e-9c46-0e303e2c4d7d"
      },
      "outputs": [
        {
          "data": {
            "text/plain": [
              "Index(['ID', 'TITLE', 'GENRE', 'DESCRIPTION'], dtype='object')"
            ]
          },
          "execution_count": 8,
          "metadata": {},
          "output_type": "execute_result"
        }
      ],
      "source": [
        "data.columns"
      ]
    },
    {
      "cell_type": "code",
      "execution_count": null,
      "id": "d09aa8ee",
      "metadata": {
        "colab": {
          "base_uri": "https://localhost:8080/",
          "height": 206
        },
        "id": "d09aa8ee",
        "outputId": "623e60d9-850b-434b-a0b6-c2c994ba204f"
      },
      "outputs": [
        {
          "data": {
            "application/vnd.google.colaboratory.intrinsic+json": {
              "type": "dataframe",
              "variable_name": "data"
            },
            "text/html": [
              "\n",
              "  <div id=\"df-56c93a0f-f9f9-4b69-b3b8-2c1145bec783\" class=\"colab-df-container\">\n",
              "    <div>\n",
              "<style scoped>\n",
              "    .dataframe tbody tr th:only-of-type {\n",
              "        vertical-align: middle;\n",
              "    }\n",
              "\n",
              "    .dataframe tbody tr th {\n",
              "        vertical-align: top;\n",
              "    }\n",
              "\n",
              "    .dataframe thead th {\n",
              "        text-align: right;\n",
              "    }\n",
              "</style>\n",
              "<table border=\"1\" class=\"dataframe\">\n",
              "  <thead>\n",
              "    <tr style=\"text-align: right;\">\n",
              "      <th></th>\n",
              "      <th>ID</th>\n",
              "      <th>TITLE</th>\n",
              "      <th>GENRE</th>\n",
              "      <th>DESCRIPTION</th>\n",
              "    </tr>\n",
              "  </thead>\n",
              "  <tbody>\n",
              "    <tr>\n",
              "      <th>0</th>\n",
              "      <td>tt9114286</td>\n",
              "      <td>Black Panther: Wakanda Forever</td>\n",
              "      <td>Action, Adventure, Drama</td>\n",
              "      <td>The people of Wakanda fight to protect their h...</td>\n",
              "    </tr>\n",
              "    <tr>\n",
              "      <th>1</th>\n",
              "      <td>tt1630029</td>\n",
              "      <td>Avatar: The Way of Water</td>\n",
              "      <td>Action, Adventure, Fantasy</td>\n",
              "      <td>Jake Sully lives with his newfound family form...</td>\n",
              "    </tr>\n",
              "    <tr>\n",
              "      <th>2</th>\n",
              "      <td>tt5884796</td>\n",
              "      <td>Plane</td>\n",
              "      <td>Action, Thriller</td>\n",
              "      <td>A pilot finds himself caught in a war zone aft...</td>\n",
              "    </tr>\n",
              "    <tr>\n",
              "      <th>3</th>\n",
              "      <td>tt6710474</td>\n",
              "      <td>Everything Everywhere All at Once</td>\n",
              "      <td>Action, Adventure, Comedy</td>\n",
              "      <td>A middle-aged Chinese immigrant is swept up in...</td>\n",
              "    </tr>\n",
              "    <tr>\n",
              "      <th>4</th>\n",
              "      <td>tt5433140</td>\n",
              "      <td>Fast X</td>\n",
              "      <td>Action, Crime, Mystery</td>\n",
              "      <td>Dom Toretto and his family are targeted by the...</td>\n",
              "    </tr>\n",
              "  </tbody>\n",
              "</table>\n",
              "</div>\n",
              "    <div class=\"colab-df-buttons\">\n",
              "\n",
              "  <div class=\"colab-df-container\">\n",
              "    <button class=\"colab-df-convert\" onclick=\"convertToInteractive('df-56c93a0f-f9f9-4b69-b3b8-2c1145bec783')\"\n",
              "            title=\"Convert this dataframe to an interactive table.\"\n",
              "            style=\"display:none;\">\n",
              "\n",
              "  <svg xmlns=\"http://www.w3.org/2000/svg\" height=\"24px\" viewBox=\"0 -960 960 960\">\n",
              "    <path d=\"M120-120v-720h720v720H120Zm60-500h600v-160H180v160Zm220 220h160v-160H400v160Zm0 220h160v-160H400v160ZM180-400h160v-160H180v160Zm440 0h160v-160H620v160ZM180-180h160v-160H180v160Zm440 0h160v-160H620v160Z\"/>\n",
              "  </svg>\n",
              "    </button>\n",
              "\n",
              "  <style>\n",
              "    .colab-df-container {\n",
              "      display:flex;\n",
              "      gap: 12px;\n",
              "    }\n",
              "\n",
              "    .colab-df-convert {\n",
              "      background-color: #E8F0FE;\n",
              "      border: none;\n",
              "      border-radius: 50%;\n",
              "      cursor: pointer;\n",
              "      display: none;\n",
              "      fill: #1967D2;\n",
              "      height: 32px;\n",
              "      padding: 0 0 0 0;\n",
              "      width: 32px;\n",
              "    }\n",
              "\n",
              "    .colab-df-convert:hover {\n",
              "      background-color: #E2EBFA;\n",
              "      box-shadow: 0px 1px 2px rgba(60, 64, 67, 0.3), 0px 1px 3px 1px rgba(60, 64, 67, 0.15);\n",
              "      fill: #174EA6;\n",
              "    }\n",
              "\n",
              "    .colab-df-buttons div {\n",
              "      margin-bottom: 4px;\n",
              "    }\n",
              "\n",
              "    [theme=dark] .colab-df-convert {\n",
              "      background-color: #3B4455;\n",
              "      fill: #D2E3FC;\n",
              "    }\n",
              "\n",
              "    [theme=dark] .colab-df-convert:hover {\n",
              "      background-color: #434B5C;\n",
              "      box-shadow: 0px 1px 3px 1px rgba(0, 0, 0, 0.15);\n",
              "      filter: drop-shadow(0px 1px 2px rgba(0, 0, 0, 0.3));\n",
              "      fill: #FFFFFF;\n",
              "    }\n",
              "  </style>\n",
              "\n",
              "    <script>\n",
              "      const buttonEl =\n",
              "        document.querySelector('#df-56c93a0f-f9f9-4b69-b3b8-2c1145bec783 button.colab-df-convert');\n",
              "      buttonEl.style.display =\n",
              "        google.colab.kernel.accessAllowed ? 'block' : 'none';\n",
              "\n",
              "      async function convertToInteractive(key) {\n",
              "        const element = document.querySelector('#df-56c93a0f-f9f9-4b69-b3b8-2c1145bec783');\n",
              "        const dataTable =\n",
              "          await google.colab.kernel.invokeFunction('convertToInteractive',\n",
              "                                                    [key], {});\n",
              "        if (!dataTable) return;\n",
              "\n",
              "        const docLinkHtml = 'Like what you see? Visit the ' +\n",
              "          '<a target=\"_blank\" href=https://colab.research.google.com/notebooks/data_table.ipynb>data table notebook</a>'\n",
              "          + ' to learn more about interactive tables.';\n",
              "        element.innerHTML = '';\n",
              "        dataTable['output_type'] = 'display_data';\n",
              "        await google.colab.output.renderOutput(dataTable, element);\n",
              "        const docLink = document.createElement('div');\n",
              "        docLink.innerHTML = docLinkHtml;\n",
              "        element.appendChild(docLink);\n",
              "      }\n",
              "    </script>\n",
              "  </div>\n",
              "\n",
              "\n",
              "<div id=\"df-25a364cc-9e3d-4dd0-8424-fdc36900ba76\">\n",
              "  <button class=\"colab-df-quickchart\" onclick=\"quickchart('df-25a364cc-9e3d-4dd0-8424-fdc36900ba76')\"\n",
              "            title=\"Suggest charts\"\n",
              "            style=\"display:none;\">\n",
              "\n",
              "<svg xmlns=\"http://www.w3.org/2000/svg\" height=\"24px\"viewBox=\"0 0 24 24\"\n",
              "     width=\"24px\">\n",
              "    <g>\n",
              "        <path d=\"M19 3H5c-1.1 0-2 .9-2 2v14c0 1.1.9 2 2 2h14c1.1 0 2-.9 2-2V5c0-1.1-.9-2-2-2zM9 17H7v-7h2v7zm4 0h-2V7h2v10zm4 0h-2v-4h2v4z\"/>\n",
              "    </g>\n",
              "</svg>\n",
              "  </button>\n",
              "\n",
              "<style>\n",
              "  .colab-df-quickchart {\n",
              "      --bg-color: #E8F0FE;\n",
              "      --fill-color: #1967D2;\n",
              "      --hover-bg-color: #E2EBFA;\n",
              "      --hover-fill-color: #174EA6;\n",
              "      --disabled-fill-color: #AAA;\n",
              "      --disabled-bg-color: #DDD;\n",
              "  }\n",
              "\n",
              "  [theme=dark] .colab-df-quickchart {\n",
              "      --bg-color: #3B4455;\n",
              "      --fill-color: #D2E3FC;\n",
              "      --hover-bg-color: #434B5C;\n",
              "      --hover-fill-color: #FFFFFF;\n",
              "      --disabled-bg-color: #3B4455;\n",
              "      --disabled-fill-color: #666;\n",
              "  }\n",
              "\n",
              "  .colab-df-quickchart {\n",
              "    background-color: var(--bg-color);\n",
              "    border: none;\n",
              "    border-radius: 50%;\n",
              "    cursor: pointer;\n",
              "    display: none;\n",
              "    fill: var(--fill-color);\n",
              "    height: 32px;\n",
              "    padding: 0;\n",
              "    width: 32px;\n",
              "  }\n",
              "\n",
              "  .colab-df-quickchart:hover {\n",
              "    background-color: var(--hover-bg-color);\n",
              "    box-shadow: 0 1px 2px rgba(60, 64, 67, 0.3), 0 1px 3px 1px rgba(60, 64, 67, 0.15);\n",
              "    fill: var(--button-hover-fill-color);\n",
              "  }\n",
              "\n",
              "  .colab-df-quickchart-complete:disabled,\n",
              "  .colab-df-quickchart-complete:disabled:hover {\n",
              "    background-color: var(--disabled-bg-color);\n",
              "    fill: var(--disabled-fill-color);\n",
              "    box-shadow: none;\n",
              "  }\n",
              "\n",
              "  .colab-df-spinner {\n",
              "    border: 2px solid var(--fill-color);\n",
              "    border-color: transparent;\n",
              "    border-bottom-color: var(--fill-color);\n",
              "    animation:\n",
              "      spin 1s steps(1) infinite;\n",
              "  }\n",
              "\n",
              "  @keyframes spin {\n",
              "    0% {\n",
              "      border-color: transparent;\n",
              "      border-bottom-color: var(--fill-color);\n",
              "      border-left-color: var(--fill-color);\n",
              "    }\n",
              "    20% {\n",
              "      border-color: transparent;\n",
              "      border-left-color: var(--fill-color);\n",
              "      border-top-color: var(--fill-color);\n",
              "    }\n",
              "    30% {\n",
              "      border-color: transparent;\n",
              "      border-left-color: var(--fill-color);\n",
              "      border-top-color: var(--fill-color);\n",
              "      border-right-color: var(--fill-color);\n",
              "    }\n",
              "    40% {\n",
              "      border-color: transparent;\n",
              "      border-right-color: var(--fill-color);\n",
              "      border-top-color: var(--fill-color);\n",
              "    }\n",
              "    60% {\n",
              "      border-color: transparent;\n",
              "      border-right-color: var(--fill-color);\n",
              "    }\n",
              "    80% {\n",
              "      border-color: transparent;\n",
              "      border-right-color: var(--fill-color);\n",
              "      border-bottom-color: var(--fill-color);\n",
              "    }\n",
              "    90% {\n",
              "      border-color: transparent;\n",
              "      border-bottom-color: var(--fill-color);\n",
              "    }\n",
              "  }\n",
              "</style>\n",
              "\n",
              "  <script>\n",
              "    async function quickchart(key) {\n",
              "      const quickchartButtonEl =\n",
              "        document.querySelector('#' + key + ' button');\n",
              "      quickchartButtonEl.disabled = true;  // To prevent multiple clicks.\n",
              "      quickchartButtonEl.classList.add('colab-df-spinner');\n",
              "      try {\n",
              "        const charts = await google.colab.kernel.invokeFunction(\n",
              "            'suggestCharts', [key], {});\n",
              "      } catch (error) {\n",
              "        console.error('Error during call to suggestCharts:', error);\n",
              "      }\n",
              "      quickchartButtonEl.classList.remove('colab-df-spinner');\n",
              "      quickchartButtonEl.classList.add('colab-df-quickchart-complete');\n",
              "    }\n",
              "    (() => {\n",
              "      let quickchartButtonEl =\n",
              "        document.querySelector('#df-25a364cc-9e3d-4dd0-8424-fdc36900ba76 button');\n",
              "      quickchartButtonEl.style.display =\n",
              "        google.colab.kernel.accessAllowed ? 'block' : 'none';\n",
              "    })();\n",
              "  </script>\n",
              "</div>\n",
              "\n",
              "    </div>\n",
              "  </div>\n"
            ],
            "text/plain": [
              "          ID                              TITLE                       GENRE  \\\n",
              "0  tt9114286     Black Panther: Wakanda Forever    Action, Adventure, Drama   \n",
              "1  tt1630029           Avatar: The Way of Water  Action, Adventure, Fantasy   \n",
              "2  tt5884796                              Plane            Action, Thriller   \n",
              "3  tt6710474  Everything Everywhere All at Once   Action, Adventure, Comedy   \n",
              "4  tt5433140                             Fast X      Action, Crime, Mystery   \n",
              "\n",
              "                                         DESCRIPTION  \n",
              "0  The people of Wakanda fight to protect their h...  \n",
              "1  Jake Sully lives with his newfound family form...  \n",
              "2  A pilot finds himself caught in a war zone aft...  \n",
              "3  A middle-aged Chinese immigrant is swept up in...  \n",
              "4  Dom Toretto and his family are targeted by the...  "
            ]
          },
          "execution_count": 9,
          "metadata": {},
          "output_type": "execute_result"
        }
      ],
      "source": [
        "data.head(5)"
      ]
    },
    {
      "cell_type": "markdown",
      "id": "2f3b5666",
      "metadata": {
        "id": "2f3b5666"
      },
      "source": [
        "#### Dataframe Statistics"
      ]
    },
    {
      "cell_type": "code",
      "execution_count": null,
      "id": "c3b48ec2",
      "metadata": {
        "colab": {
          "base_uri": "https://localhost:8080/",
          "height": 175
        },
        "id": "c3b48ec2",
        "outputId": "f49dbcab-8eb1-4b18-c942-46ca50adc460"
      },
      "outputs": [
        {
          "data": {
            "application/vnd.google.colaboratory.intrinsic+json": {
              "summary": "{\n  \"name\": \"data\",\n  \"rows\": 4,\n  \"fields\": [\n    {\n      \"column\": \"count\",\n      \"properties\": {\n        \"dtype\": \"date\",\n        \"min\": \"363004\",\n        \"max\": \"363008\",\n        \"num_unique_values\": 2,\n        \"samples\": [\n          \"363004\",\n          \"363008\"\n        ],\n        \"semantic_type\": \"\",\n        \"description\": \"\"\n      }\n    },\n    {\n      \"column\": \"unique\",\n      \"properties\": {\n        \"dtype\": \"date\",\n        \"min\": 1729,\n        \"max\": 240049,\n        \"num_unique_values\": 4,\n        \"samples\": [\n          210942,\n          184988\n        ],\n        \"semantic_type\": \"\",\n        \"description\": \"\"\n      }\n    },\n    {\n      \"column\": \"top\",\n      \"properties\": {\n        \"dtype\": \"string\",\n        \"num_unique_values\": 4,\n        \"samples\": [\n          \"Alone\",\n          \"Add a Plot\"\n        ],\n        \"semantic_type\": \"\",\n        \"description\": \"\"\n      }\n    },\n    {\n      \"column\": \"freq\",\n      \"properties\": {\n        \"dtype\": \"date\",\n        \"min\": \"10\",\n        \"max\": \"66447\",\n        \"num_unique_values\": 4,\n        \"samples\": [\n          \"53\",\n          \"66447\"\n        ],\n        \"semantic_type\": \"\",\n        \"description\": \"\"\n      }\n    }\n  ]\n}",
              "type": "dataframe"
            },
            "text/html": [
              "\n",
              "  <div id=\"df-1155535f-74b9-44c1-8f4c-7ea43766e1d4\" class=\"colab-df-container\">\n",
              "    <div>\n",
              "<style scoped>\n",
              "    .dataframe tbody tr th:only-of-type {\n",
              "        vertical-align: middle;\n",
              "    }\n",
              "\n",
              "    .dataframe tbody tr th {\n",
              "        vertical-align: top;\n",
              "    }\n",
              "\n",
              "    .dataframe thead th {\n",
              "        text-align: right;\n",
              "    }\n",
              "</style>\n",
              "<table border=\"1\" class=\"dataframe\">\n",
              "  <thead>\n",
              "    <tr style=\"text-align: right;\">\n",
              "      <th></th>\n",
              "      <th>count</th>\n",
              "      <th>unique</th>\n",
              "      <th>top</th>\n",
              "      <th>freq</th>\n",
              "    </tr>\n",
              "  </thead>\n",
              "  <tbody>\n",
              "    <tr>\n",
              "      <th>ID</th>\n",
              "      <td>363008</td>\n",
              "      <td>240049</td>\n",
              "      <td>tt1800393</td>\n",
              "      <td>10</td>\n",
              "    </tr>\n",
              "    <tr>\n",
              "      <th>TITLE</th>\n",
              "      <td>363004</td>\n",
              "      <td>210942</td>\n",
              "      <td>Alone</td>\n",
              "      <td>53</td>\n",
              "    </tr>\n",
              "    <tr>\n",
              "      <th>GENRE</th>\n",
              "      <td>363008</td>\n",
              "      <td>1729</td>\n",
              "      <td>Horror</td>\n",
              "      <td>16050</td>\n",
              "    </tr>\n",
              "    <tr>\n",
              "      <th>DESCRIPTION</th>\n",
              "      <td>363008</td>\n",
              "      <td>184988</td>\n",
              "      <td>Add a Plot</td>\n",
              "      <td>66447</td>\n",
              "    </tr>\n",
              "  </tbody>\n",
              "</table>\n",
              "</div>\n",
              "    <div class=\"colab-df-buttons\">\n",
              "\n",
              "  <div class=\"colab-df-container\">\n",
              "    <button class=\"colab-df-convert\" onclick=\"convertToInteractive('df-1155535f-74b9-44c1-8f4c-7ea43766e1d4')\"\n",
              "            title=\"Convert this dataframe to an interactive table.\"\n",
              "            style=\"display:none;\">\n",
              "\n",
              "  <svg xmlns=\"http://www.w3.org/2000/svg\" height=\"24px\" viewBox=\"0 -960 960 960\">\n",
              "    <path d=\"M120-120v-720h720v720H120Zm60-500h600v-160H180v160Zm220 220h160v-160H400v160Zm0 220h160v-160H400v160ZM180-400h160v-160H180v160Zm440 0h160v-160H620v160ZM180-180h160v-160H180v160Zm440 0h160v-160H620v160Z\"/>\n",
              "  </svg>\n",
              "    </button>\n",
              "\n",
              "  <style>\n",
              "    .colab-df-container {\n",
              "      display:flex;\n",
              "      gap: 12px;\n",
              "    }\n",
              "\n",
              "    .colab-df-convert {\n",
              "      background-color: #E8F0FE;\n",
              "      border: none;\n",
              "      border-radius: 50%;\n",
              "      cursor: pointer;\n",
              "      display: none;\n",
              "      fill: #1967D2;\n",
              "      height: 32px;\n",
              "      padding: 0 0 0 0;\n",
              "      width: 32px;\n",
              "    }\n",
              "\n",
              "    .colab-df-convert:hover {\n",
              "      background-color: #E2EBFA;\n",
              "      box-shadow: 0px 1px 2px rgba(60, 64, 67, 0.3), 0px 1px 3px 1px rgba(60, 64, 67, 0.15);\n",
              "      fill: #174EA6;\n",
              "    }\n",
              "\n",
              "    .colab-df-buttons div {\n",
              "      margin-bottom: 4px;\n",
              "    }\n",
              "\n",
              "    [theme=dark] .colab-df-convert {\n",
              "      background-color: #3B4455;\n",
              "      fill: #D2E3FC;\n",
              "    }\n",
              "\n",
              "    [theme=dark] .colab-df-convert:hover {\n",
              "      background-color: #434B5C;\n",
              "      box-shadow: 0px 1px 3px 1px rgba(0, 0, 0, 0.15);\n",
              "      filter: drop-shadow(0px 1px 2px rgba(0, 0, 0, 0.3));\n",
              "      fill: #FFFFFF;\n",
              "    }\n",
              "  </style>\n",
              "\n",
              "    <script>\n",
              "      const buttonEl =\n",
              "        document.querySelector('#df-1155535f-74b9-44c1-8f4c-7ea43766e1d4 button.colab-df-convert');\n",
              "      buttonEl.style.display =\n",
              "        google.colab.kernel.accessAllowed ? 'block' : 'none';\n",
              "\n",
              "      async function convertToInteractive(key) {\n",
              "        const element = document.querySelector('#df-1155535f-74b9-44c1-8f4c-7ea43766e1d4');\n",
              "        const dataTable =\n",
              "          await google.colab.kernel.invokeFunction('convertToInteractive',\n",
              "                                                    [key], {});\n",
              "        if (!dataTable) return;\n",
              "\n",
              "        const docLinkHtml = 'Like what you see? Visit the ' +\n",
              "          '<a target=\"_blank\" href=https://colab.research.google.com/notebooks/data_table.ipynb>data table notebook</a>'\n",
              "          + ' to learn more about interactive tables.';\n",
              "        element.innerHTML = '';\n",
              "        dataTable['output_type'] = 'display_data';\n",
              "        await google.colab.output.renderOutput(dataTable, element);\n",
              "        const docLink = document.createElement('div');\n",
              "        docLink.innerHTML = docLinkHtml;\n",
              "        element.appendChild(docLink);\n",
              "      }\n",
              "    </script>\n",
              "  </div>\n",
              "\n",
              "\n",
              "<div id=\"df-3a5c112d-01f6-4d5a-9608-8acb4ab82b36\">\n",
              "  <button class=\"colab-df-quickchart\" onclick=\"quickchart('df-3a5c112d-01f6-4d5a-9608-8acb4ab82b36')\"\n",
              "            title=\"Suggest charts\"\n",
              "            style=\"display:none;\">\n",
              "\n",
              "<svg xmlns=\"http://www.w3.org/2000/svg\" height=\"24px\"viewBox=\"0 0 24 24\"\n",
              "     width=\"24px\">\n",
              "    <g>\n",
              "        <path d=\"M19 3H5c-1.1 0-2 .9-2 2v14c0 1.1.9 2 2 2h14c1.1 0 2-.9 2-2V5c0-1.1-.9-2-2-2zM9 17H7v-7h2v7zm4 0h-2V7h2v10zm4 0h-2v-4h2v4z\"/>\n",
              "    </g>\n",
              "</svg>\n",
              "  </button>\n",
              "\n",
              "<style>\n",
              "  .colab-df-quickchart {\n",
              "      --bg-color: #E8F0FE;\n",
              "      --fill-color: #1967D2;\n",
              "      --hover-bg-color: #E2EBFA;\n",
              "      --hover-fill-color: #174EA6;\n",
              "      --disabled-fill-color: #AAA;\n",
              "      --disabled-bg-color: #DDD;\n",
              "  }\n",
              "\n",
              "  [theme=dark] .colab-df-quickchart {\n",
              "      --bg-color: #3B4455;\n",
              "      --fill-color: #D2E3FC;\n",
              "      --hover-bg-color: #434B5C;\n",
              "      --hover-fill-color: #FFFFFF;\n",
              "      --disabled-bg-color: #3B4455;\n",
              "      --disabled-fill-color: #666;\n",
              "  }\n",
              "\n",
              "  .colab-df-quickchart {\n",
              "    background-color: var(--bg-color);\n",
              "    border: none;\n",
              "    border-radius: 50%;\n",
              "    cursor: pointer;\n",
              "    display: none;\n",
              "    fill: var(--fill-color);\n",
              "    height: 32px;\n",
              "    padding: 0;\n",
              "    width: 32px;\n",
              "  }\n",
              "\n",
              "  .colab-df-quickchart:hover {\n",
              "    background-color: var(--hover-bg-color);\n",
              "    box-shadow: 0 1px 2px rgba(60, 64, 67, 0.3), 0 1px 3px 1px rgba(60, 64, 67, 0.15);\n",
              "    fill: var(--button-hover-fill-color);\n",
              "  }\n",
              "\n",
              "  .colab-df-quickchart-complete:disabled,\n",
              "  .colab-df-quickchart-complete:disabled:hover {\n",
              "    background-color: var(--disabled-bg-color);\n",
              "    fill: var(--disabled-fill-color);\n",
              "    box-shadow: none;\n",
              "  }\n",
              "\n",
              "  .colab-df-spinner {\n",
              "    border: 2px solid var(--fill-color);\n",
              "    border-color: transparent;\n",
              "    border-bottom-color: var(--fill-color);\n",
              "    animation:\n",
              "      spin 1s steps(1) infinite;\n",
              "  }\n",
              "\n",
              "  @keyframes spin {\n",
              "    0% {\n",
              "      border-color: transparent;\n",
              "      border-bottom-color: var(--fill-color);\n",
              "      border-left-color: var(--fill-color);\n",
              "    }\n",
              "    20% {\n",
              "      border-color: transparent;\n",
              "      border-left-color: var(--fill-color);\n",
              "      border-top-color: var(--fill-color);\n",
              "    }\n",
              "    30% {\n",
              "      border-color: transparent;\n",
              "      border-left-color: var(--fill-color);\n",
              "      border-top-color: var(--fill-color);\n",
              "      border-right-color: var(--fill-color);\n",
              "    }\n",
              "    40% {\n",
              "      border-color: transparent;\n",
              "      border-right-color: var(--fill-color);\n",
              "      border-top-color: var(--fill-color);\n",
              "    }\n",
              "    60% {\n",
              "      border-color: transparent;\n",
              "      border-right-color: var(--fill-color);\n",
              "    }\n",
              "    80% {\n",
              "      border-color: transparent;\n",
              "      border-right-color: var(--fill-color);\n",
              "      border-bottom-color: var(--fill-color);\n",
              "    }\n",
              "    90% {\n",
              "      border-color: transparent;\n",
              "      border-bottom-color: var(--fill-color);\n",
              "    }\n",
              "  }\n",
              "</style>\n",
              "\n",
              "  <script>\n",
              "    async function quickchart(key) {\n",
              "      const quickchartButtonEl =\n",
              "        document.querySelector('#' + key + ' button');\n",
              "      quickchartButtonEl.disabled = true;  // To prevent multiple clicks.\n",
              "      quickchartButtonEl.classList.add('colab-df-spinner');\n",
              "      try {\n",
              "        const charts = await google.colab.kernel.invokeFunction(\n",
              "            'suggestCharts', [key], {});\n",
              "      } catch (error) {\n",
              "        console.error('Error during call to suggestCharts:', error);\n",
              "      }\n",
              "      quickchartButtonEl.classList.remove('colab-df-spinner');\n",
              "      quickchartButtonEl.classList.add('colab-df-quickchart-complete');\n",
              "    }\n",
              "    (() => {\n",
              "      let quickchartButtonEl =\n",
              "        document.querySelector('#df-3a5c112d-01f6-4d5a-9608-8acb4ab82b36 button');\n",
              "      quickchartButtonEl.style.display =\n",
              "        google.colab.kernel.accessAllowed ? 'block' : 'none';\n",
              "    })();\n",
              "  </script>\n",
              "</div>\n",
              "\n",
              "    </div>\n",
              "  </div>\n"
            ],
            "text/plain": [
              "              count  unique         top   freq\n",
              "ID           363008  240049   tt1800393     10\n",
              "TITLE        363004  210942       Alone     53\n",
              "GENRE        363008    1729      Horror  16050\n",
              "DESCRIPTION  363008  184988  Add a Plot  66447"
            ]
          },
          "execution_count": 10,
          "metadata": {},
          "output_type": "execute_result"
        }
      ],
      "source": [
        "# Printing description of DataFrame\n",
        "data.describe().T"
      ]
    },
    {
      "cell_type": "code",
      "execution_count": null,
      "id": "2u81s4er2fMF",
      "metadata": {
        "colab": {
          "base_uri": "https://localhost:8080/",
          "height": 206
        },
        "id": "2u81s4er2fMF",
        "outputId": "44c9ead1-17b9-4550-d240-01dd62c091d6"
      },
      "outputs": [
        {
          "data": {
            "application/vnd.google.colaboratory.intrinsic+json": {
              "type": "dataframe",
              "variable_name": "data"
            },
            "text/html": [
              "\n",
              "  <div id=\"df-d67976bb-5980-4d1b-9c03-a316171a1e08\" class=\"colab-df-container\">\n",
              "    <div>\n",
              "<style scoped>\n",
              "    .dataframe tbody tr th:only-of-type {\n",
              "        vertical-align: middle;\n",
              "    }\n",
              "\n",
              "    .dataframe tbody tr th {\n",
              "        vertical-align: top;\n",
              "    }\n",
              "\n",
              "    .dataframe thead th {\n",
              "        text-align: right;\n",
              "    }\n",
              "</style>\n",
              "<table border=\"1\" class=\"dataframe\">\n",
              "  <thead>\n",
              "    <tr style=\"text-align: right;\">\n",
              "      <th></th>\n",
              "      <th>ID</th>\n",
              "      <th>TITLE</th>\n",
              "      <th>GENRE</th>\n",
              "      <th>DESCRIPTION</th>\n",
              "    </tr>\n",
              "  </thead>\n",
              "  <tbody>\n",
              "    <tr>\n",
              "      <th>0</th>\n",
              "      <td>tt1630029</td>\n",
              "      <td>Avatar: The Way of Water</td>\n",
              "      <td>Action, Adventure, Fantasy</td>\n",
              "      <td>Jake Sully lives with his newfound family form...</td>\n",
              "    </tr>\n",
              "    <tr>\n",
              "      <th>1</th>\n",
              "      <td>tt5884796</td>\n",
              "      <td>Plane</td>\n",
              "      <td>Action, Thriller</td>\n",
              "      <td>A pilot finds himself caught in a war zone aft...</td>\n",
              "    </tr>\n",
              "    <tr>\n",
              "      <th>2</th>\n",
              "      <td>tt6710474</td>\n",
              "      <td>Everything Everywhere All at Once</td>\n",
              "      <td>Action, Adventure, Comedy</td>\n",
              "      <td>A middle-aged Chinese immigrant is swept up in...</td>\n",
              "    </tr>\n",
              "    <tr>\n",
              "      <th>3</th>\n",
              "      <td>tt5433140</td>\n",
              "      <td>Fast X</td>\n",
              "      <td>Action, Crime, Mystery</td>\n",
              "      <td>Dom Toretto and his family are targeted by the...</td>\n",
              "    </tr>\n",
              "    <tr>\n",
              "      <th>4</th>\n",
              "      <td>tt10954600</td>\n",
              "      <td>Ant-Man and the Wasp: Quantumania</td>\n",
              "      <td>Action, Adventure, Comedy</td>\n",
              "      <td>Scott Lang and Hope Van Dyne, along with Hank ...</td>\n",
              "    </tr>\n",
              "  </tbody>\n",
              "</table>\n",
              "</div>\n",
              "    <div class=\"colab-df-buttons\">\n",
              "\n",
              "  <div class=\"colab-df-container\">\n",
              "    <button class=\"colab-df-convert\" onclick=\"convertToInteractive('df-d67976bb-5980-4d1b-9c03-a316171a1e08')\"\n",
              "            title=\"Convert this dataframe to an interactive table.\"\n",
              "            style=\"display:none;\">\n",
              "\n",
              "  <svg xmlns=\"http://www.w3.org/2000/svg\" height=\"24px\" viewBox=\"0 -960 960 960\">\n",
              "    <path d=\"M120-120v-720h720v720H120Zm60-500h600v-160H180v160Zm220 220h160v-160H400v160Zm0 220h160v-160H400v160ZM180-400h160v-160H180v160Zm440 0h160v-160H620v160ZM180-180h160v-160H180v160Zm440 0h160v-160H620v160Z\"/>\n",
              "  </svg>\n",
              "    </button>\n",
              "\n",
              "  <style>\n",
              "    .colab-df-container {\n",
              "      display:flex;\n",
              "      gap: 12px;\n",
              "    }\n",
              "\n",
              "    .colab-df-convert {\n",
              "      background-color: #E8F0FE;\n",
              "      border: none;\n",
              "      border-radius: 50%;\n",
              "      cursor: pointer;\n",
              "      display: none;\n",
              "      fill: #1967D2;\n",
              "      height: 32px;\n",
              "      padding: 0 0 0 0;\n",
              "      width: 32px;\n",
              "    }\n",
              "\n",
              "    .colab-df-convert:hover {\n",
              "      background-color: #E2EBFA;\n",
              "      box-shadow: 0px 1px 2px rgba(60, 64, 67, 0.3), 0px 1px 3px 1px rgba(60, 64, 67, 0.15);\n",
              "      fill: #174EA6;\n",
              "    }\n",
              "\n",
              "    .colab-df-buttons div {\n",
              "      margin-bottom: 4px;\n",
              "    }\n",
              "\n",
              "    [theme=dark] .colab-df-convert {\n",
              "      background-color: #3B4455;\n",
              "      fill: #D2E3FC;\n",
              "    }\n",
              "\n",
              "    [theme=dark] .colab-df-convert:hover {\n",
              "      background-color: #434B5C;\n",
              "      box-shadow: 0px 1px 3px 1px rgba(0, 0, 0, 0.15);\n",
              "      filter: drop-shadow(0px 1px 2px rgba(0, 0, 0, 0.3));\n",
              "      fill: #FFFFFF;\n",
              "    }\n",
              "  </style>\n",
              "\n",
              "    <script>\n",
              "      const buttonEl =\n",
              "        document.querySelector('#df-d67976bb-5980-4d1b-9c03-a316171a1e08 button.colab-df-convert');\n",
              "      buttonEl.style.display =\n",
              "        google.colab.kernel.accessAllowed ? 'block' : 'none';\n",
              "\n",
              "      async function convertToInteractive(key) {\n",
              "        const element = document.querySelector('#df-d67976bb-5980-4d1b-9c03-a316171a1e08');\n",
              "        const dataTable =\n",
              "          await google.colab.kernel.invokeFunction('convertToInteractive',\n",
              "                                                    [key], {});\n",
              "        if (!dataTable) return;\n",
              "\n",
              "        const docLinkHtml = 'Like what you see? Visit the ' +\n",
              "          '<a target=\"_blank\" href=https://colab.research.google.com/notebooks/data_table.ipynb>data table notebook</a>'\n",
              "          + ' to learn more about interactive tables.';\n",
              "        element.innerHTML = '';\n",
              "        dataTable['output_type'] = 'display_data';\n",
              "        await google.colab.output.renderOutput(dataTable, element);\n",
              "        const docLink = document.createElement('div');\n",
              "        docLink.innerHTML = docLinkHtml;\n",
              "        element.appendChild(docLink);\n",
              "      }\n",
              "    </script>\n",
              "  </div>\n",
              "\n",
              "\n",
              "<div id=\"df-56b98eee-b3b0-4ff4-a522-8465677ebbef\">\n",
              "  <button class=\"colab-df-quickchart\" onclick=\"quickchart('df-56b98eee-b3b0-4ff4-a522-8465677ebbef')\"\n",
              "            title=\"Suggest charts\"\n",
              "            style=\"display:none;\">\n",
              "\n",
              "<svg xmlns=\"http://www.w3.org/2000/svg\" height=\"24px\"viewBox=\"0 0 24 24\"\n",
              "     width=\"24px\">\n",
              "    <g>\n",
              "        <path d=\"M19 3H5c-1.1 0-2 .9-2 2v14c0 1.1.9 2 2 2h14c1.1 0 2-.9 2-2V5c0-1.1-.9-2-2-2zM9 17H7v-7h2v7zm4 0h-2V7h2v10zm4 0h-2v-4h2v4z\"/>\n",
              "    </g>\n",
              "</svg>\n",
              "  </button>\n",
              "\n",
              "<style>\n",
              "  .colab-df-quickchart {\n",
              "      --bg-color: #E8F0FE;\n",
              "      --fill-color: #1967D2;\n",
              "      --hover-bg-color: #E2EBFA;\n",
              "      --hover-fill-color: #174EA6;\n",
              "      --disabled-fill-color: #AAA;\n",
              "      --disabled-bg-color: #DDD;\n",
              "  }\n",
              "\n",
              "  [theme=dark] .colab-df-quickchart {\n",
              "      --bg-color: #3B4455;\n",
              "      --fill-color: #D2E3FC;\n",
              "      --hover-bg-color: #434B5C;\n",
              "      --hover-fill-color: #FFFFFF;\n",
              "      --disabled-bg-color: #3B4455;\n",
              "      --disabled-fill-color: #666;\n",
              "  }\n",
              "\n",
              "  .colab-df-quickchart {\n",
              "    background-color: var(--bg-color);\n",
              "    border: none;\n",
              "    border-radius: 50%;\n",
              "    cursor: pointer;\n",
              "    display: none;\n",
              "    fill: var(--fill-color);\n",
              "    height: 32px;\n",
              "    padding: 0;\n",
              "    width: 32px;\n",
              "  }\n",
              "\n",
              "  .colab-df-quickchart:hover {\n",
              "    background-color: var(--hover-bg-color);\n",
              "    box-shadow: 0 1px 2px rgba(60, 64, 67, 0.3), 0 1px 3px 1px rgba(60, 64, 67, 0.15);\n",
              "    fill: var(--button-hover-fill-color);\n",
              "  }\n",
              "\n",
              "  .colab-df-quickchart-complete:disabled,\n",
              "  .colab-df-quickchart-complete:disabled:hover {\n",
              "    background-color: var(--disabled-bg-color);\n",
              "    fill: var(--disabled-fill-color);\n",
              "    box-shadow: none;\n",
              "  }\n",
              "\n",
              "  .colab-df-spinner {\n",
              "    border: 2px solid var(--fill-color);\n",
              "    border-color: transparent;\n",
              "    border-bottom-color: var(--fill-color);\n",
              "    animation:\n",
              "      spin 1s steps(1) infinite;\n",
              "  }\n",
              "\n",
              "  @keyframes spin {\n",
              "    0% {\n",
              "      border-color: transparent;\n",
              "      border-bottom-color: var(--fill-color);\n",
              "      border-left-color: var(--fill-color);\n",
              "    }\n",
              "    20% {\n",
              "      border-color: transparent;\n",
              "      border-left-color: var(--fill-color);\n",
              "      border-top-color: var(--fill-color);\n",
              "    }\n",
              "    30% {\n",
              "      border-color: transparent;\n",
              "      border-left-color: var(--fill-color);\n",
              "      border-top-color: var(--fill-color);\n",
              "      border-right-color: var(--fill-color);\n",
              "    }\n",
              "    40% {\n",
              "      border-color: transparent;\n",
              "      border-right-color: var(--fill-color);\n",
              "      border-top-color: var(--fill-color);\n",
              "    }\n",
              "    60% {\n",
              "      border-color: transparent;\n",
              "      border-right-color: var(--fill-color);\n",
              "    }\n",
              "    80% {\n",
              "      border-color: transparent;\n",
              "      border-right-color: var(--fill-color);\n",
              "      border-bottom-color: var(--fill-color);\n",
              "    }\n",
              "    90% {\n",
              "      border-color: transparent;\n",
              "      border-bottom-color: var(--fill-color);\n",
              "    }\n",
              "  }\n",
              "</style>\n",
              "\n",
              "  <script>\n",
              "    async function quickchart(key) {\n",
              "      const quickchartButtonEl =\n",
              "        document.querySelector('#' + key + ' button');\n",
              "      quickchartButtonEl.disabled = true;  // To prevent multiple clicks.\n",
              "      quickchartButtonEl.classList.add('colab-df-spinner');\n",
              "      try {\n",
              "        const charts = await google.colab.kernel.invokeFunction(\n",
              "            'suggestCharts', [key], {});\n",
              "      } catch (error) {\n",
              "        console.error('Error during call to suggestCharts:', error);\n",
              "      }\n",
              "      quickchartButtonEl.classList.remove('colab-df-spinner');\n",
              "      quickchartButtonEl.classList.add('colab-df-quickchart-complete');\n",
              "    }\n",
              "    (() => {\n",
              "      let quickchartButtonEl =\n",
              "        document.querySelector('#df-56b98eee-b3b0-4ff4-a522-8465677ebbef button');\n",
              "      quickchartButtonEl.style.display =\n",
              "        google.colab.kernel.accessAllowed ? 'block' : 'none';\n",
              "    })();\n",
              "  </script>\n",
              "</div>\n",
              "\n",
              "    </div>\n",
              "  </div>\n"
            ],
            "text/plain": [
              "           ID                              TITLE                       GENRE  \\\n",
              "0   tt1630029           Avatar: The Way of Water  Action, Adventure, Fantasy   \n",
              "1   tt5884796                              Plane            Action, Thriller   \n",
              "2   tt6710474  Everything Everywhere All at Once   Action, Adventure, Comedy   \n",
              "3   tt5433140                             Fast X      Action, Crime, Mystery   \n",
              "4  tt10954600  Ant-Man and the Wasp: Quantumania   Action, Adventure, Comedy   \n",
              "\n",
              "                                         DESCRIPTION  \n",
              "0  Jake Sully lives with his newfound family form...  \n",
              "1  A pilot finds himself caught in a war zone aft...  \n",
              "2  A middle-aged Chinese immigrant is swept up in...  \n",
              "3  Dom Toretto and his family are targeted by the...  \n",
              "4  Scott Lang and Hope Van Dyne, along with Hank ...  "
            ]
          },
          "execution_count": 11,
          "metadata": {},
          "output_type": "execute_result"
        }
      ],
      "source": [
        "# Remove the first row (index 0) from the DataFrame\n",
        "data = data.drop(0)\n",
        "\n",
        "# Reset the index after dropping the row\n",
        "data.reset_index(drop=True, inplace=True)\n",
        "\n",
        "# Print the updated DataFrame to verify\n",
        "data.head()"
      ]
    },
    {
      "cell_type": "markdown",
      "id": "6a207643",
      "metadata": {
        "id": "6a207643"
      },
      "source": [
        "### Extract unique values of GENRE feature\n"
      ]
    },
    {
      "cell_type": "code",
      "execution_count": null,
      "id": "d4e5db9b-f621-4e8c-af08-9b51ba353124",
      "metadata": {
        "id": "d4e5db9b-f621-4e8c-af08-9b51ba353124"
      },
      "outputs": [],
      "source": [
        "# Convert values in 'GENRE' column to lowercase and remove leading/trailing whitespaces\n",
        "data['GENRE'] = data['GENRE'].str.lower().str.strip()"
      ]
    },
    {
      "cell_type": "code",
      "execution_count": null,
      "id": "0a882de5",
      "metadata": {
        "colab": {
          "base_uri": "https://localhost:8080/"
        },
        "id": "0a882de5",
        "outputId": "a9f37a7e-ca3b-44b2-babd-998028515119"
      },
      "outputs": [
        {
          "name": "stdout",
          "output_type": "stream",
          "text": [
            "Unique Genres:\n",
            "biography\n",
            "reality-tv\n",
            "sci-fi\n",
            "crime\n",
            "war\n",
            "mystery\n",
            "news\n",
            "thriller\n",
            "action\n",
            "western\n",
            "talk-show\n",
            "horror\n",
            "film-noir\n",
            "drama\n",
            "history\n",
            "sport\n",
            "short\n",
            "adventure\n",
            "musical\n",
            "music\n",
            "romance\n",
            "animation\n",
            "fantasy\n",
            "game-show\n",
            "comedy\n",
            "adult\n",
            "family\n",
            "Number of unique genres: 27\n"
          ]
        }
      ],
      "source": [
        "# Split the genres for each movie and create a list of all genres\n",
        "all_genres = [genre.strip() for sublist in data['GENRE'].str.split(',') for genre in sublist]\n",
        "# Extract unique genre values\n",
        "unique_genres = set(all_genres)\n",
        "\n",
        "# Count the unique genre values\n",
        "num_unique_genres = len(unique_genres)\n",
        "\n",
        "# Print unique genre values and count\n",
        "print(\"Unique Genres:\")\n",
        "for genre in unique_genres:\n",
        "    print(genre)\n",
        "print(\"Number of unique genres:\", num_unique_genres)"
      ]
    },
    {
      "cell_type": "markdown",
      "id": "94d056ce",
      "metadata": {
        "id": "94d056ce"
      },
      "source": [
        "### Print them with their frequency"
      ]
    },
    {
      "cell_type": "code",
      "execution_count": null,
      "id": "acfe297d",
      "metadata": {
        "colab": {
          "base_uri": "https://localhost:8080/"
        },
        "id": "acfe297d",
        "outputId": "7c1f0af9-fd1b-4de1-c175-84b4bf27d22a"
      },
      "outputs": [
        {
          "name": "stdout",
          "output_type": "stream",
          "text": [
            "Unique Genres and Their Counts:\n",
            "action: 104143\n",
            "adventure: 60956\n",
            "fantasy: 31084\n",
            "thriller: 73797\n",
            "comedy: 63674\n",
            "crime: 71083\n",
            "mystery: 36345\n",
            "romance: 60140\n",
            "drama: 135359\n",
            "war: 11608\n",
            "sci-fi: 25361\n",
            "history: 14890\n",
            "animation: 19018\n",
            "biography: 13478\n",
            "horror: 60636\n",
            "family: 25588\n",
            "western: 2418\n",
            "sport: 1527\n",
            "music: 4966\n",
            "film-noir: 2541\n",
            "musical: 5043\n",
            "adult: 7\n",
            "game-show: 8\n",
            "news: 26\n",
            "reality-tv: 33\n",
            "talk-show: 3\n",
            "short: 2\n"
          ]
        }
      ],
      "source": [
        "# Count the occurrences of each genre\n",
        "genre_counts = Counter(all_genres)\n",
        "\n",
        "# Print unique genres and their counts\n",
        "print(\"Unique Genres and Their Counts:\")\n",
        "for genre, count in genre_counts.items():\n",
        "    print(genre + \":\", count)"
      ]
    },
    {
      "cell_type": "markdown",
      "id": "a3b43f9c",
      "metadata": {
        "id": "a3b43f9c"
      },
      "source": [
        "### Plot them with their distribution"
      ]
    },
    {
      "cell_type": "code",
      "execution_count": null,
      "id": "55f85f07",
      "metadata": {
        "colab": {
          "base_uri": "https://localhost:8080/",
          "height": 596
        },
        "id": "55f85f07",
        "outputId": "9d1876bd-0b82-47ba-fbf7-0d85ade40af9"
      },
      "outputs": [
        {
          "data": {
            "image/png": "[encoded data removed]",
            "text/plain": [
              "<Figure size 1000x600 with 1 Axes>"
            ]
          },
          "metadata": {},
          "output_type": "display_data"
        }
      ],
      "source": [
        "# Count the occurrences of each genre\n",
        "genre_counts = Counter(all_genres)\n",
        "\n",
        "# Extract unique genre values\n",
        "unique_genres = list(genre_counts.keys())\n",
        "\n",
        "# Extract counts for each genre\n",
        "genre_values = list(genre_counts.values())\n",
        "\n",
        "# Plotting\n",
        "plt.figure(figsize=(10, 6))\n",
        "plt.bar(unique_genres, genre_values, color='skyblue')\n",
        "plt.xlabel('Genres')\n",
        "plt.ylabel('Count')\n",
        "plt.title('Distribution of Movie Genres')\n",
        "plt.xticks(rotation=45, ha='right')\n",
        "plt.tight_layout()\n",
        "plt.show()"
      ]
    },
    {
      "cell_type": "code",
      "execution_count": null,
      "id": "iy6a16W4VvX6",
      "metadata": {
        "id": "iy6a16W4VvX6"
      },
      "outputs": [],
      "source": [
        "## Handling missing values"
      ]
    },
    {
      "cell_type": "code",
      "execution_count": null,
      "id": "RgZ6MiM3V5eO",
      "metadata": {
        "colab": {
          "base_uri": "https://localhost:8080/"
        },
        "id": "RgZ6MiM3V5eO",
        "outputId": "47fe107a-badf-4b76-e438-c42f775c50ec"
      },
      "outputs": [
        {
          "name": "stdout",
          "output_type": "stream",
          "text": [
            "Source              0\n",
            "ID                  0\n",
            "TITLE               4\n",
            "YEAR            65367\n",
            "CERTIFICATE    259526\n",
            "RUNTIME        107684\n",
            "GENRE               0\n",
            "RATING         134813\n",
            "DESCRIPTION         0\n",
            "DIRECTOR        26455\n",
            "DIR_ID          26455\n",
            "START           57117\n",
            "S_ID            50524\n",
            "VOTES          134809\n",
            "GROSS          338447\n",
            "dtype: int64\n"
          ]
        }
      ],
      "source": [
        "# Assuming 'df' is your DataFrame\n",
        "missing_values_count = df.isnull().sum()\n",
        "print(missing_values_count)"
      ]
    },
    {
      "cell_type": "code",
      "execution_count": null,
      "id": "Vnu8kaLiWYEB",
      "metadata": {
        "id": "Vnu8kaLiWYEB"
      },
      "outputs": [],
      "source": [
        "columns_to_check = ['TITLE', 'YEAR', 'CERTIFICATE', 'RUNTIME', 'RATING', 'DIRECTOR', 'START', 'VOTES', 'GROSS']\n",
        "df.dropna(subset=columns_to_check, inplace=True)\n",
        "\n"
      ]
    },
    {
      "cell_type": "code",
      "execution_count": null,
      "id": "nayEyvdEWwFR",
      "metadata": {
        "colab": {
          "base_uri": "https://localhost:8080/"
        },
        "id": "nayEyvdEWwFR",
        "outputId": "351d2106-f6d0-4704-c8bc-27a3c274babe"
      },
      "outputs": [
        {
          "name": "stdout",
          "output_type": "stream",
          "text": [
            "Source         0\n",
            "ID             0\n",
            "TITLE          0\n",
            "YEAR           0\n",
            "CERTIFICATE    0\n",
            "RUNTIME        0\n",
            "GENRE          0\n",
            "RATING         0\n",
            "DESCRIPTION    0\n",
            "DIRECTOR       0\n",
            "DIR_ID         0\n",
            "START          0\n",
            "S_ID           0\n",
            "VOTES          0\n",
            "GROSS          0\n",
            "dtype: int64\n"
          ]
        }
      ],
      "source": [
        "# Assuming 'df' is your DataFrame\n",
        "missing_values_count = df.isnull().sum()\n",
        "print(missing_values_count)"
      ]
    },
    {
      "cell_type": "markdown",
      "id": "baa267f8",
      "metadata": {
        "id": "baa267f8"
      },
      "source": [
        "#           Data Cleaning and Standardization"
      ]
    },
    {
      "cell_type": "markdown",
      "id": "aae5967a",
      "metadata": {
        "id": "aae5967a"
      },
      "source": [
        " ### Removing HTML tags if the data is scraped from the web"
      ]
    },
    {
      "cell_type": "code",
      "execution_count": null,
      "id": "1760df57",
      "metadata": {
        "colab": {
          "base_uri": "https://localhost:8080/"
        },
        "id": "1760df57",
        "outputId": "811493a2-e405-44bc-a123-a8f2476bf517"
      },
      "outputs": [
        {
          "name": "stdout",
          "output_type": "stream",
          "text": [
            "Requirement already satisfied: beautifulsoup4 in /usr/local/lib/python3.10/dist-packages (4.12.3)\n",
            "Requirement already satisfied: soupsieve>1.2 in /usr/local/lib/python3.10/dist-packages (from beautifulsoup4) (2.5)\n"
          ]
        }
      ],
      "source": [
        "pip install beautifulsoup4\n"
      ]
    },
    {
      "cell_type": "code",
      "execution_count": null,
      "id": "9f20465a",
      "metadata": {
        "colab": {
          "base_uri": "https://localhost:8080/"
        },
        "id": "9f20465a",
        "outputId": "82beff85-99b5-4175-cbde-2cff0b13b3d4"
      },
      "outputs": [
        {
          "name": "stderr",
          "output_type": "stream",
          "text": [
            "<ipython-input-21-7393778d96c3>:4: MarkupResemblesLocatorWarning: The input looks more like a filename than markup. You may want to open this file and pass the filehandle into Beautiful Soup.\n",
            "  return BeautifulSoup(text, \"html.parser\").get_text()\n"
          ]
        }
      ],
      "source": [
        "from bs4 import BeautifulSoup\n",
        "# Function to remove HTML tags using BeautifulSoup\n",
        "def remove_html_tags(text):\n",
        "    return BeautifulSoup(text, \"html.parser\").get_text()\n",
        "\n",
        "# Apply the function to the DESCRIPTION column\n",
        "data['DESCRIPTION'] = data['DESCRIPTION'].apply(remove_html_tags)\n"
      ]
    },
    {
      "cell_type": "markdown",
      "id": "12f2509f",
      "metadata": {
        "id": "12f2509f"
      },
      "source": [
        " ### Removing special characters"
      ]
    },
    {
      "cell_type": "code",
      "execution_count": null,
      "id": "97cabf79",
      "metadata": {
        "id": "97cabf79"
      },
      "outputs": [],
      "source": [
        "def remove_special_characters(text):\n",
        "    # This pattern will keep only letters, numbers, and spaces\n",
        "    pattern = r'[^a-zA-Z0-9\\s]'\n",
        "    return re.sub(pattern, '', text)\n",
        "data['DESCRIPTION'] = data['DESCRIPTION'].apply(remove_special_characters)"
      ]
    },
    {
      "cell_type": "markdown",
      "id": "f2b7e025",
      "metadata": {
        "id": "f2b7e025"
      },
      "source": [
        " ### Removing emojis and  non-standard symbols"
      ]
    },
    {
      "cell_type": "code",
      "execution_count": null,
      "id": "5ffeb664",
      "metadata": {
        "id": "5ffeb664"
      },
      "outputs": [],
      "source": [
        "# Function to remove emojis and other non-standard symbols\n",
        "def remove_emojis_and_symbols(text):\n",
        "    emoji_pattern = re.compile(\"[\"\n",
        "        u\"\\U0001F600-\\U0001F64F\"\n",
        "        u\"\\U0001F300-\\U0001F5FF\"\n",
        "        u\"\\U0001F680-\\U0001F6FF\"\n",
        "        u\"\\U0001F700-\\U0001F77F\"\n",
        "        u\"\\U0001F780-\\U0001F7FF\"\n",
        "        u\"\\U0001F800-\\U0001F8FF\"\n",
        "        u\"\\U0001F900-\\U0001F9FF\"\n",
        "        u\"\\U0001FA00-\\U0001FA6F\"\n",
        "        u\"\\U0001FA70-\\U0001FAFF\"\n",
        "        u\"\\U00002702-\\U000027B0\"\n",
        "        u\"\\U000024C2-\\U0001F251\"\n",
        "        \"]+\", flags=re.UNICODE)\n",
        "    return emoji_pattern.sub(r'', text)\n",
        "data['DESCRIPTION'] = data['DESCRIPTION'].apply(remove_emojis_and_symbols)\n"
      ]
    },
    {
      "cell_type": "markdown",
      "id": "efc6942c",
      "metadata": {
        "id": "efc6942c"
      },
      "source": [
        "###   Converting to Lowercase:"
      ]
    },
    {
      "cell_type": "code",
      "execution_count": null,
      "id": "29f9770a",
      "metadata": {
        "colab": {
          "base_uri": "https://localhost:8080/"
        },
        "id": "29f9770a",
        "outputId": "2d3e34ba-7344-477b-a8ba-cc5a2d93e583"
      },
      "outputs": [
        {
          "name": "stdout",
          "output_type": "stream",
          "text": [
            "                                         DESCRIPTION\n",
            "0  jake sully lives with his newfound family form...\n",
            "1  a pilot finds himself caught in a war zone aft...\n",
            "2  a middleaged chinese immigrant is swept up int...\n",
            "3  dom toretto and his family are targeted by the...\n",
            "4  scott lang and hope van dyne along with hank p...\n",
            "                ID                              TITLE  \\\n",
            "0        tt1630029           Avatar: The Way of Water   \n",
            "1        tt5884796                              Plane   \n",
            "2        tt6710474  Everything Everywhere All at Once   \n",
            "3        tt5433140                             Fast X   \n",
            "4       tt10954600  Ant-Man and the Wasp: Quantumania   \n",
            "...            ...                                ...   \n",
            "363002  tt26698087                          Janissary   \n",
            "363003  tt26690183                World War 1 project   \n",
            "363004  tt26695367                                 74   \n",
            "363005  tt26698193                     Pandora Palace   \n",
            "363006  tt26733697   Spion 11: Operasjon Traelandsfos   \n",
            "\n",
            "                             GENRE  \\\n",
            "0       action, adventure, fantasy   \n",
            "1                 action, thriller   \n",
            "2        action, adventure, comedy   \n",
            "3           action, crime, mystery   \n",
            "4        action, adventure, comedy   \n",
            "...                            ...   \n",
            "363002         drama, history, war   \n",
            "363003                         war   \n",
            "363004                         war   \n",
            "363005    action, adventure, drama   \n",
            "363006                 comedy, war   \n",
            "\n",
            "                                              DESCRIPTION  \n",
            "0       jake sully lives with his newfound family form...  \n",
            "1       a pilot finds himself caught in a war zone aft...  \n",
            "2       a middleaged chinese immigrant is swept up int...  \n",
            "3       dom toretto and his family are targeted by the...  \n",
            "4       scott lang and hope van dyne along with hank p...  \n",
            "...                                                   ...  \n",
            "363002  a young man is captured and brainwashed to fig...  \n",
            "363003                                         add a plot  \n",
            "363004  74 centres on the lives of four women and the ...  \n",
            "363005  after rajmahone dictator alexander pandora lau...  \n",
            "363006                                         add a plot  \n",
            "\n",
            "[363007 rows x 4 columns]\n"
          ]
        }
      ],
      "source": [
        " # Convert DESCRIPTION column to lowercase\n",
        "data['DESCRIPTION'] = data['DESCRIPTION'].str.lower()\n",
        "\n",
        "\n",
        "# Print the first few rows to verify the changes\n",
        "print(data[['DESCRIPTION']].head())\n",
        "\n",
        "print(data)"
      ]
    },
    {
      "cell_type": "markdown",
      "id": "507a5274",
      "metadata": {
        "id": "507a5274"
      },
      "source": [
        "### Fixing Encoding Issues"
      ]
    },
    {
      "cell_type": "code",
      "execution_count": null,
      "id": "5f2234af",
      "metadata": {
        "colab": {
          "base_uri": "https://localhost:8080/"
        },
        "id": "5f2234af",
        "outputId": "b6e9263f-6fa2-4515-fb21-843087493c7e"
      },
      "outputs": [
        {
          "name": "stdout",
          "output_type": "stream",
          "text": [
            "Loaded with detected encoding: UTF-8-SIG\n"
          ]
        }
      ],
      "source": [
        "# Open the file in binary mode and read a sample of the data to detect encoding\n",
        "with open(file_path, 'rb') as file:\n",
        "    result = chardet.detect(file.read(10000))  # Adjust the number of bytes read as needed\n",
        "\n",
        "# Use the detected encoding to read the CSV file\n",
        "df = pd.read_csv(file_path, encoding=result['encoding'])\n",
        "print(f\"Loaded with detected encoding: {result['encoding']}\")\n"
      ]
    },
    {
      "cell_type": "code",
      "execution_count": null,
      "id": "f23be564",
      "metadata": {
        "colab": {
          "base_uri": "https://localhost:8080/",
          "height": 660
        },
        "id": "f23be564",
        "outputId": "fafc5bbc-1b70-47a9-f7b8-ab2fb43639e7"
      },
      "outputs": [
        {
          "data": {
            "application/vnd.google.colaboratory.intrinsic+json": {
              "type": "dataframe",
              "variable_name": "df"
            },
            "text/html": [
              "\n",
              "  <div id=\"df-5cf1deaa-68fb-42ad-bf5e-b8f0e14fd080\" class=\"colab-df-container\">\n",
              "    <div>\n",
              "<style scoped>\n",
              "    .dataframe tbody tr th:only-of-type {\n",
              "        vertical-align: middle;\n",
              "    }\n",
              "\n",
              "    .dataframe tbody tr th {\n",
              "        vertical-align: top;\n",
              "    }\n",
              "\n",
              "    .dataframe thead th {\n",
              "        text-align: right;\n",
              "    }\n",
              "</style>\n",
              "<table border=\"1\" class=\"dataframe\">\n",
              "  <thead>\n",
              "    <tr style=\"text-align: right;\">\n",
              "      <th></th>\n",
              "      <th>Source.Name</th>\n",
              "      <th>movie_id</th>\n",
              "      <th>movie_name</th>\n",
              "      <th>year</th>\n",
              "      <th>certificate</th>\n",
              "      <th>runtime</th>\n",
              "      <th>genre</th>\n",
              "      <th>rating</th>\n",
              "      <th>description</th>\n",
              "      <th>director</th>\n",
              "      <th>director_id</th>\n",
              "      <th>star</th>\n",
              "      <th>star_id</th>\n",
              "      <th>votes</th>\n",
              "      <th>gross(in $)</th>\n",
              "    </tr>\n",
              "  </thead>\n",
              "  <tbody>\n",
              "    <tr>\n",
              "      <th>0</th>\n",
              "      <td>action.csv</td>\n",
              "      <td>tt9114286</td>\n",
              "      <td>Black Panther: Wakanda Forever</td>\n",
              "      <td>2022.0</td>\n",
              "      <td>PG-13</td>\n",
              "      <td>161 min</td>\n",
              "      <td>Action, Adventure, Drama</td>\n",
              "      <td>6.9</td>\n",
              "      <td>The people of Wakanda fight to protect their h...</td>\n",
              "      <td>Ryan Coogler</td>\n",
              "      <td>/name/nm3363032/</td>\n",
              "      <td>Letitia Wright, \\nLupita Nyong'o, \\nDanai Guri...</td>\n",
              "      <td>/name/nm4004793/,/name/nm2143282/,/name/nm1775...</td>\n",
              "      <td>204835.0</td>\n",
              "      <td>NaN</td>\n",
              "    </tr>\n",
              "    <tr>\n",
              "      <th>1</th>\n",
              "      <td>action.csv</td>\n",
              "      <td>tt1630029</td>\n",
              "      <td>Avatar: The Way of Water</td>\n",
              "      <td>2022.0</td>\n",
              "      <td>PG-13</td>\n",
              "      <td>192 min</td>\n",
              "      <td>Action, Adventure, Fantasy</td>\n",
              "      <td>7.8</td>\n",
              "      <td>Jake Sully lives with his newfound family form...</td>\n",
              "      <td>James Cameron</td>\n",
              "      <td>/name/nm0000116/</td>\n",
              "      <td>Sam Worthington, \\nZoe Saldana, \\nSigourney We...</td>\n",
              "      <td>/name/nm0941777/,/name/nm0757855/,/name/nm0000...</td>\n",
              "      <td>295119.0</td>\n",
              "      <td>NaN</td>\n",
              "    </tr>\n",
              "    <tr>\n",
              "      <th>2</th>\n",
              "      <td>action.csv</td>\n",
              "      <td>tt5884796</td>\n",
              "      <td>Plane</td>\n",
              "      <td>2023.0</td>\n",
              "      <td>R</td>\n",
              "      <td>107 min</td>\n",
              "      <td>Action, Thriller</td>\n",
              "      <td>6.5</td>\n",
              "      <td>A pilot finds himself caught in a war zone aft...</td>\n",
              "      <td>Jean-François Richet</td>\n",
              "      <td>/name/nm0724938/</td>\n",
              "      <td>Gerard Butler, \\nMike Colter, \\nTony Goldwyn, ...</td>\n",
              "      <td>/name/nm0124930/,/name/nm1591496/,/name/nm0001...</td>\n",
              "      <td>26220.0</td>\n",
              "      <td>NaN</td>\n",
              "    </tr>\n",
              "    <tr>\n",
              "      <th>3</th>\n",
              "      <td>action.csv</td>\n",
              "      <td>tt6710474</td>\n",
              "      <td>Everything Everywhere All at Once</td>\n",
              "      <td>2022.0</td>\n",
              "      <td>R</td>\n",
              "      <td>139 min</td>\n",
              "      <td>Action, Adventure, Comedy</td>\n",
              "      <td>8.0</td>\n",
              "      <td>A middle-aged Chinese immigrant is swept up in...</td>\n",
              "      <td>Dan Kwan, \\nDaniel Scheinert</td>\n",
              "      <td>/name/nm3453283/</td>\n",
              "      <td>Michelle Yeoh, \\nStephanie Hsu, \\nJamie Lee Cu...</td>\n",
              "      <td>/name/nm3215397/,/name/nm0000706/,/name/nm3513...</td>\n",
              "      <td>327858.0</td>\n",
              "      <td>NaN</td>\n",
              "    </tr>\n",
              "    <tr>\n",
              "      <th>4</th>\n",
              "      <td>action.csv</td>\n",
              "      <td>tt5433140</td>\n",
              "      <td>Fast X</td>\n",
              "      <td>2023.0</td>\n",
              "      <td>NaN</td>\n",
              "      <td>NaN</td>\n",
              "      <td>Action, Crime, Mystery</td>\n",
              "      <td>NaN</td>\n",
              "      <td>Dom Toretto and his family are targeted by the...</td>\n",
              "      <td>Louis Leterrier</td>\n",
              "      <td>/name/nm0504642/</td>\n",
              "      <td>Vin Diesel, \\nJordana Brewster, \\nTyrese Gibso...</td>\n",
              "      <td>/name/nm0004874/,/name/nm0108287/,/name/nm0879...</td>\n",
              "      <td>NaN</td>\n",
              "      <td>NaN</td>\n",
              "    </tr>\n",
              "  </tbody>\n",
              "</table>\n",
              "</div>\n",
              "    <div class=\"colab-df-buttons\">\n",
              "\n",
              "  <div class=\"colab-df-container\">\n",
              "    <button class=\"colab-df-convert\" onclick=\"convertToInteractive('df-5cf1deaa-68fb-42ad-bf5e-b8f0e14fd080')\"\n",
              "            title=\"Convert this dataframe to an interactive table.\"\n",
              "            style=\"display:none;\">\n",
              "\n",
              "  <svg xmlns=\"http://www.w3.org/2000/svg\" height=\"24px\" viewBox=\"0 -960 960 960\">\n",
              "    <path d=\"M120-120v-720h720v720H120Zm60-500h600v-160H180v160Zm220 220h160v-160H400v160Zm0 220h160v-160H400v160ZM180-400h160v-160H180v160Zm440 0h160v-160H620v160ZM180-180h160v-160H180v160Zm440 0h160v-160H620v160Z\"/>\n",
              "  </svg>\n",
              "    </button>\n",
              "\n",
              "  <style>\n",
              "    .colab-df-container {\n",
              "      display:flex;\n",
              "      gap: 12px;\n",
              "    }\n",
              "\n",
              "    .colab-df-convert {\n",
              "      background-color: #E8F0FE;\n",
              "      border: none;\n",
              "      border-radius: 50%;\n",
              "      cursor: pointer;\n",
              "      display: none;\n",
              "      fill: #1967D2;\n",
              "      height: 32px;\n",
              "      padding: 0 0 0 0;\n",
              "      width: 32px;\n",
              "    }\n",
              "\n",
              "    .colab-df-convert:hover {\n",
              "      background-color: #E2EBFA;\n",
              "      box-shadow: 0px 1px 2px rgba(60, 64, 67, 0.3), 0px 1px 3px 1px rgba(60, 64, 67, 0.15);\n",
              "      fill: #174EA6;\n",
              "    }\n",
              "\n",
              "    .colab-df-buttons div {\n",
              "      margin-bottom: 4px;\n",
              "    }\n",
              "\n",
              "    [theme=dark] .colab-df-convert {\n",
              "      background-color: #3B4455;\n",
              "      fill: #D2E3FC;\n",
              "    }\n",
              "\n",
              "    [theme=dark] .colab-df-convert:hover {\n",
              "      background-color: #434B5C;\n",
              "      box-shadow: 0px 1px 3px 1px rgba(0, 0, 0, 0.15);\n",
              "      filter: drop-shadow(0px 1px 2px rgba(0, 0, 0, 0.3));\n",
              "      fill: #FFFFFF;\n",
              "    }\n",
              "  </style>\n",
              "\n",
              "    <script>\n",
              "      const buttonEl =\n",
              "        document.querySelector('#df-5cf1deaa-68fb-42ad-bf5e-b8f0e14fd080 button.colab-df-convert');\n",
              "      buttonEl.style.display =\n",
              "        google.colab.kernel.accessAllowed ? 'block' : 'none';\n",
              "\n",
              "      async function convertToInteractive(key) {\n",
              "        const element = document.querySelector('#df-5cf1deaa-68fb-42ad-bf5e-b8f0e14fd080');\n",
              "        const dataTable =\n",
              "          await google.colab.kernel.invokeFunction('convertToInteractive',\n",
              "                                                    [key], {});\n",
              "        if (!dataTable) return;\n",
              "\n",
              "        const docLinkHtml = 'Like what you see? Visit the ' +\n",
              "          '<a target=\"_blank\" href=https://colab.research.google.com/notebooks/data_table.ipynb>data table notebook</a>'\n",
              "          + ' to learn more about interactive tables.';\n",
              "        element.innerHTML = '';\n",
              "        dataTable['output_type'] = 'display_data';\n",
              "        await google.colab.output.renderOutput(dataTable, element);\n",
              "        const docLink = document.createElement('div');\n",
              "        docLink.innerHTML = docLinkHtml;\n",
              "        element.appendChild(docLink);\n",
              "      }\n",
              "    </script>\n",
              "  </div>\n",
              "\n",
              "\n",
              "<div id=\"df-97e4328e-cada-412c-a183-002f8f76d66b\">\n",
              "  <button class=\"colab-df-quickchart\" onclick=\"quickchart('df-97e4328e-cada-412c-a183-002f8f76d66b')\"\n",
              "            title=\"Suggest charts\"\n",
              "            style=\"display:none;\">\n",
              "\n",
              "<svg xmlns=\"http://www.w3.org/2000/svg\" height=\"24px\"viewBox=\"0 0 24 24\"\n",
              "     width=\"24px\">\n",
              "    <g>\n",
              "        <path d=\"M19 3H5c-1.1 0-2 .9-2 2v14c0 1.1.9 2 2 2h14c1.1 0 2-.9 2-2V5c0-1.1-.9-2-2-2zM9 17H7v-7h2v7zm4 0h-2V7h2v10zm4 0h-2v-4h2v4z\"/>\n",
              "    </g>\n",
              "</svg>\n",
              "  </button>\n",
              "\n",
              "<style>\n",
              "  .colab-df-quickchart {\n",
              "      --bg-color: #E8F0FE;\n",
              "      --fill-color: #1967D2;\n",
              "      --hover-bg-color: #E2EBFA;\n",
              "      --hover-fill-color: #174EA6;\n",
              "      --disabled-fill-color: #AAA;\n",
              "      --disabled-bg-color: #DDD;\n",
              "  }\n",
              "\n",
              "  [theme=dark] .colab-df-quickchart {\n",
              "      --bg-color: #3B4455;\n",
              "      --fill-color: #D2E3FC;\n",
              "      --hover-bg-color: #434B5C;\n",
              "      --hover-fill-color: #FFFFFF;\n",
              "      --disabled-bg-color: #3B4455;\n",
              "      --disabled-fill-color: #666;\n",
              "  }\n",
              "\n",
              "  .colab-df-quickchart {\n",
              "    background-color: var(--bg-color);\n",
              "    border: none;\n",
              "    border-radius: 50%;\n",
              "    cursor: pointer;\n",
              "    display: none;\n",
              "    fill: var(--fill-color);\n",
              "    height: 32px;\n",
              "    padding: 0;\n",
              "    width: 32px;\n",
              "  }\n",
              "\n",
              "  .colab-df-quickchart:hover {\n",
              "    background-color: var(--hover-bg-color);\n",
              "    box-shadow: 0 1px 2px rgba(60, 64, 67, 0.3), 0 1px 3px 1px rgba(60, 64, 67, 0.15);\n",
              "    fill: var(--button-hover-fill-color);\n",
              "  }\n",
              "\n",
              "  .colab-df-quickchart-complete:disabled,\n",
              "  .colab-df-quickchart-complete:disabled:hover {\n",
              "    background-color: var(--disabled-bg-color);\n",
              "    fill: var(--disabled-fill-color);\n",
              "    box-shadow: none;\n",
              "  }\n",
              "\n",
              "  .colab-df-spinner {\n",
              "    border: 2px solid var(--fill-color);\n",
              "    border-color: transparent;\n",
              "    border-bottom-color: var(--fill-color);\n",
              "    animation:\n",
              "      spin 1s steps(1) infinite;\n",
              "  }\n",
              "\n",
              "  @keyframes spin {\n",
              "    0% {\n",
              "      border-color: transparent;\n",
              "      border-bottom-color: var(--fill-color);\n",
              "      border-left-color: var(--fill-color);\n",
              "    }\n",
              "    20% {\n",
              "      border-color: transparent;\n",
              "      border-left-color: var(--fill-color);\n",
              "      border-top-color: var(--fill-color);\n",
              "    }\n",
              "    30% {\n",
              "      border-color: transparent;\n",
              "      border-left-color: var(--fill-color);\n",
              "      border-top-color: var(--fill-color);\n",
              "      border-right-color: var(--fill-color);\n",
              "    }\n",
              "    40% {\n",
              "      border-color: transparent;\n",
              "      border-right-color: var(--fill-color);\n",
              "      border-top-color: var(--fill-color);\n",
              "    }\n",
              "    60% {\n",
              "      border-color: transparent;\n",
              "      border-right-color: var(--fill-color);\n",
              "    }\n",
              "    80% {\n",
              "      border-color: transparent;\n",
              "      border-right-color: var(--fill-color);\n",
              "      border-bottom-color: var(--fill-color);\n",
              "    }\n",
              "    90% {\n",
              "      border-color: transparent;\n",
              "      border-bottom-color: var(--fill-color);\n",
              "    }\n",
              "  }\n",
              "</style>\n",
              "\n",
              "  <script>\n",
              "    async function quickchart(key) {\n",
              "      const quickchartButtonEl =\n",
              "        document.querySelector('#' + key + ' button');\n",
              "      quickchartButtonEl.disabled = true;  // To prevent multiple clicks.\n",
              "      quickchartButtonEl.classList.add('colab-df-spinner');\n",
              "      try {\n",
              "        const charts = await google.colab.kernel.invokeFunction(\n",
              "            'suggestCharts', [key], {});\n",
              "      } catch (error) {\n",
              "        console.error('Error during call to suggestCharts:', error);\n",
              "      }\n",
              "      quickchartButtonEl.classList.remove('colab-df-spinner');\n",
              "      quickchartButtonEl.classList.add('colab-df-quickchart-complete');\n",
              "    }\n",
              "    (() => {\n",
              "      let quickchartButtonEl =\n",
              "        document.querySelector('#df-97e4328e-cada-412c-a183-002f8f76d66b button');\n",
              "      quickchartButtonEl.style.display =\n",
              "        google.colab.kernel.accessAllowed ? 'block' : 'none';\n",
              "    })();\n",
              "  </script>\n",
              "</div>\n",
              "\n",
              "    </div>\n",
              "  </div>\n"
            ],
            "text/plain": [
              "  Source.Name   movie_id                         movie_name    year  \\\n",
              "0  action.csv  tt9114286     Black Panther: Wakanda Forever  2022.0   \n",
              "1  action.csv  tt1630029           Avatar: The Way of Water  2022.0   \n",
              "2  action.csv  tt5884796                              Plane  2023.0   \n",
              "3  action.csv  tt6710474  Everything Everywhere All at Once  2022.0   \n",
              "4  action.csv  tt5433140                             Fast X  2023.0   \n",
              "\n",
              "  certificate  runtime                       genre  rating  \\\n",
              "0       PG-13  161 min    Action, Adventure, Drama     6.9   \n",
              "1       PG-13  192 min  Action, Adventure, Fantasy     7.8   \n",
              "2           R  107 min            Action, Thriller     6.5   \n",
              "3           R  139 min   Action, Adventure, Comedy     8.0   \n",
              "4         NaN      NaN      Action, Crime, Mystery     NaN   \n",
              "\n",
              "                                         description  \\\n",
              "0  The people of Wakanda fight to protect their h...   \n",
              "1  Jake Sully lives with his newfound family form...   \n",
              "2  A pilot finds himself caught in a war zone aft...   \n",
              "3  A middle-aged Chinese immigrant is swept up in...   \n",
              "4  Dom Toretto and his family are targeted by the...   \n",
              "\n",
              "                       director       director_id  \\\n",
              "0                  Ryan Coogler  /name/nm3363032/   \n",
              "1                 James Cameron  /name/nm0000116/   \n",
              "2          Jean-François Richet  /name/nm0724938/   \n",
              "3  Dan Kwan, \\nDaniel Scheinert  /name/nm3453283/   \n",
              "4               Louis Leterrier  /name/nm0504642/   \n",
              "\n",
              "                                                star  \\\n",
              "0  Letitia Wright, \\nLupita Nyong'o, \\nDanai Guri...   \n",
              "1  Sam Worthington, \\nZoe Saldana, \\nSigourney We...   \n",
              "2  Gerard Butler, \\nMike Colter, \\nTony Goldwyn, ...   \n",
              "3  Michelle Yeoh, \\nStephanie Hsu, \\nJamie Lee Cu...   \n",
              "4  Vin Diesel, \\nJordana Brewster, \\nTyrese Gibso...   \n",
              "\n",
              "                                             star_id     votes  gross(in $)  \n",
              "0  /name/nm4004793/,/name/nm2143282/,/name/nm1775...  204835.0          NaN  \n",
              "1  /name/nm0941777/,/name/nm0757855/,/name/nm0000...  295119.0          NaN  \n",
              "2  /name/nm0124930/,/name/nm1591496/,/name/nm0001...   26220.0          NaN  \n",
              "3  /name/nm3215397/,/name/nm0000706/,/name/nm3513...  327858.0          NaN  \n",
              "4  /name/nm0004874/,/name/nm0108287/,/name/nm0879...       NaN          NaN  "
            ]
          },
          "execution_count": 26,
          "metadata": {},
          "output_type": "execute_result"
        }
      ],
      "source": [
        "df.head()\n"
      ]
    },
    {
      "cell_type": "markdown",
      "id": "9b274acc",
      "metadata": {
        "id": "9b274acc"
      },
      "source": [
        "###  Remove Extra Whitespace"
      ]
    },
    {
      "cell_type": "code",
      "execution_count": null,
      "id": "3023a854",
      "metadata": {
        "colab": {
          "base_uri": "https://localhost:8080/"
        },
        "id": "3023a854",
        "outputId": "4b64b27a-75cd-40eb-eb30-cbb974c75c9a"
      },
      "outputs": [
        {
          "name": "stdout",
          "output_type": "stream",
          "text": [
            "  Source.Name   movie_id                         movie_name    year  \\\n",
            "0  action.csv  tt9114286     Black Panther: Wakanda Forever  2022.0   \n",
            "1  action.csv  tt1630029           Avatar: The Way of Water  2022.0   \n",
            "2  action.csv  tt5884796                              Plane  2023.0   \n",
            "3  action.csv  tt6710474  Everything Everywhere All at Once  2022.0   \n",
            "4  action.csv  tt5433140                             Fast X  2023.0   \n",
            "\n",
            "  certificate  runtime                       genre  rating  \\\n",
            "0       PG-13  161 min    Action, Adventure, Drama     6.9   \n",
            "1       PG-13  192 min  Action, Adventure, Fantasy     7.8   \n",
            "2           R  107 min            Action, Thriller     6.5   \n",
            "3           R  139 min   Action, Adventure, Comedy     8.0   \n",
            "4         NaN      NaN      Action, Crime, Mystery     NaN   \n",
            "\n",
            "                                         description  \\\n",
            "0  The people of Wakanda fight to protect their h...   \n",
            "1  Jake Sully lives with his newfound family form...   \n",
            "2  A pilot finds himself caught in a war zone aft...   \n",
            "3  A middle-aged Chinese immigrant is swept up in...   \n",
            "4  Dom Toretto and his family are targeted by the...   \n",
            "\n",
            "                     director       director_id  \\\n",
            "0                Ryan Coogler  /name/nm3363032/   \n",
            "1               James Cameron  /name/nm0000116/   \n",
            "2        Jean-François Richet  /name/nm0724938/   \n",
            "3  Dan Kwan, Daniel Scheinert  /name/nm3453283/   \n",
            "4             Louis Leterrier  /name/nm0504642/   \n",
            "\n",
            "                                                star  \\\n",
            "0  Letitia Wright, Lupita Nyong'o, Danai Gurira, ...   \n",
            "1  Sam Worthington, Zoe Saldana, Sigourney Weaver...   \n",
            "2  Gerard Butler, Mike Colter, Tony Goldwyn, Yoso...   \n",
            "3  Michelle Yeoh, Stephanie Hsu, Jamie Lee Curtis...   \n",
            "4  Vin Diesel, Jordana Brewster, Tyrese Gibson, M...   \n",
            "\n",
            "                                             star_id     votes  gross(in $)  \n",
            "0  /name/nm4004793/,/name/nm2143282/,/name/nm1775...  204835.0          NaN  \n",
            "1  /name/nm0941777/,/name/nm0757855/,/name/nm0000...  295119.0          NaN  \n",
            "2  /name/nm0124930/,/name/nm1591496/,/name/nm0001...   26220.0          NaN  \n",
            "3  /name/nm3215397/,/name/nm0000706/,/name/nm3513...  327858.0          NaN  \n",
            "4  /name/nm0004874/,/name/nm0108287/,/name/nm0879...       NaN          NaN  \n"
          ]
        }
      ],
      "source": [
        "# Assuming 'df' is your DataFrame\n",
        "string_columns = df.select_dtypes(include=['object']).columns\n",
        "\n",
        "# Removing extra whitespace\n",
        "for col in string_columns:\n",
        "    df[col] = df[col].str.strip()  # Strip leading and trailing whitespace\n",
        "    df[col] = df[col].str.replace(r'\\s+', ' ', regex=True)  # Replace multiple internal spaces\n",
        "\n",
        "# Verify the changes\n",
        "print(df.head())\n"
      ]
    },
    {
      "cell_type": "markdown",
      "id": "d5d9dea0",
      "metadata": {
        "id": "d5d9dea0"
      },
      "source": [
        "### Checking Missing Values"
      ]
    },
    {
      "cell_type": "code",
      "execution_count": null,
      "id": "fe184d1a",
      "metadata": {
        "colab": {
          "base_uri": "https://localhost:8080/"
        },
        "id": "fe184d1a",
        "outputId": "5e2e9e02-2ac9-478f-c266-fb89a126f7d1"
      },
      "outputs": [
        {
          "name": "stdout",
          "output_type": "stream",
          "text": [
            "Missing values handled successfully.\n"
          ]
        }
      ],
      "source": [
        "# Handle missing values\n",
        "data.dropna(inplace=True)\n",
        "\n",
        "# Check for missing values\n",
        "assert not data.isnull().values.any(), \"Missing values are present in the data.\"\n",
        "\n",
        "# Print success message\n",
        "print(\"Missing values handled successfully.\")"
      ]
    },
    {
      "cell_type": "markdown",
      "id": "df010a9c",
      "metadata": {
        "id": "df010a9c"
      },
      "source": [
        "### Normalization"
      ]
    },
    {
      "cell_type": "code",
      "execution_count": null,
      "id": "336cbfd8",
      "metadata": {
        "colab": {
          "base_uri": "https://localhost:8080/"
        },
        "id": "336cbfd8",
        "outputId": "cfba6a58-ae3b-4aa1-d0e3-ee6a4d4f87d5"
      },
      "outputs": [
        {
          "name": "stdout",
          "output_type": "stream",
          "text": [
            "     rating     votes  gross(in $)\n",
            "0  0.655556  3.328685          NaN\n",
            "1  0.755556  4.868230          NaN\n",
            "2  0.611111  0.282899          NaN\n",
            "3  0.777778  5.426503          NaN\n",
            "4       NaN       NaN          NaN\n"
          ]
        }
      ],
      "source": [
        "# Initialize scalers\n",
        "min_max_scaler = MinMaxScaler()\n",
        "standard_scaler = StandardScaler()\n",
        "\n",
        "# Applying Min-Max Scaling to 'rating'\n",
        "df['rating'] = min_max_scaler.fit_transform(df[['rating']])\n",
        "\n",
        "# Applying Standard Scaling to 'votes' and 'gross(in $)'\n",
        "df[['votes', 'gross(in $)']] = standard_scaler.fit_transform(df[['votes', 'gross(in $)']])\n",
        "\n",
        "# Verify changes\n",
        "print(df[['rating', 'votes', 'gross(in $)']].head())\n"
      ]
    },
    {
      "cell_type": "markdown",
      "id": "0178d89c",
      "metadata": {
        "id": "0178d89c"
      },
      "source": [
        "### Non-informative words"
      ]
    },
    {
      "cell_type": "code",
      "execution_count": null,
      "id": "b6628002",
      "metadata": {
        "colab": {
          "base_uri": "https://localhost:8080/"
        },
        "id": "b6628002",
        "outputId": "c414b9ac-3d28-4b9a-e7a6-9734dc2e4d79"
      },
      "outputs": [
        {
          "name": "stderr",
          "output_type": "stream",
          "text": [
            "[nltk_data] Downloading package stopwords to /root/nltk_data...\n",
            "[nltk_data]   Package stopwords is already up-to-date!\n"
          ]
        },
        {
          "name": "stdout",
          "output_type": "stream",
          "text": [
            "                                   CLEAN_DESCRIPTION  contains_non_informative\n",
            "0  people Wakanda fight protect home intervening ...                     False\n",
            "1  Jake Sully lives newfound family formed extras...                     False\n",
            "2  pilot finds caught war zone he's forced land c...                     False\n",
            "3  middle-aged Chinese immigrant swept insane adv...                     False\n",
            "4  Dom Toretto family targeted vengeful son drug ...                     False\n",
            "{'Non-informative Words Removed': True}\n"
          ]
        }
      ],
      "source": [
        "# Download the set of stop words the first time\n",
        "nltk.download('stopwords')\n",
        "\n",
        "# Load the stop words\n",
        "non_informative_words = set(stopwords.words('english'))\n",
        "\n",
        "# Assuming you have loaded your DataFrame already; if not, load it here\n",
        "# df = pd.read_csv('path_to_your_file.csv')\n",
        "\n",
        "# Define the function to remove non-informative words\n",
        "def remove_non_informative(text):\n",
        "    # Split the text into words and remove non-informative words\n",
        "    return ' '.join(word for word in text.split() if word.lower() not in non_informative_words)\n",
        "\n",
        "# Apply the function to remove non-informative words from the 'DESCRIPTION' column\n",
        "df['CLEAN_DESCRIPTION'] = df['description'].apply(remove_non_informative)\n",
        "\n",
        "# Optionally, check again for non-informative words in 'CLEAN_DESCRIPTION'\n",
        "df['contains_non_informative'] = df['CLEAN_DESCRIPTION'].apply(\n",
        "    lambda x: any(word.lower() in non_informative_words for word in x.split())\n",
        ")\n",
        "\n",
        "# Display the DataFrame to verify the removal and create a summary\n",
        "display_df = df[['CLEAN_DESCRIPTION', 'contains_non_informative']]\n",
        "summary = {'Non-informative Words Removed': not df['contains_non_informative'].any()}\n",
        "\n",
        "print(display_df.head())  # Display first few rows to check\n",
        "print(summary)  # Display summary of checks\n"
      ]
    },
    {
      "cell_type": "markdown",
      "id": "45cb120d",
      "metadata": {
        "id": "45cb120d"
      },
      "source": [
        "### checking cleanliness"
      ]
    },
    {
      "cell_type": "code",
      "execution_count": null,
      "id": "e1f4aeff",
      "metadata": {
        "colab": {
          "base_uri": "https://localhost:8080/"
        },
        "id": "e1f4aeff",
        "outputId": "ed406c1e-8944-44e1-e998-a5668bde3c70"
      },
      "outputs": [
        {
          "name": "stderr",
          "output_type": "stream",
          "text": [
            "<ipython-input-31-4bc0b4dc900e>:11: MarkupResemblesLocatorWarning: The input looks more like a filename than markup. You may want to open this file and pass the filehandle into Beautiful Soup.\n",
            "  return BeautifulSoup(text, \"html.parser\").get_text()\n",
            "[nltk_data] Downloading package stopwords to /root/nltk_data...\n",
            "[nltk_data]   Package stopwords is already up-to-date!\n",
            "<ipython-input-31-4bc0b4dc900e>:63: UserWarning: This pattern is interpreted as a regular expression, and has match groups. To actually get the groups, use str.extract.\n",
            "  df['contains_non_informative'] = df['CLEAN_DESCRIPTION'].str.contains(r'\\b(' + '|'.join(stop_words) + r')\\b')\n"
          ]
        },
        {
          "name": "stdout",
          "output_type": "stream",
          "text": [
            "{'HTML Tags Removed': True, 'Special Characters Removed': True, 'Non-informative Words Removed': True, 'Stop Words Removed': True}\n"
          ]
        }
      ],
      "source": [
        "# Define functions for cleaning\n",
        "def remove_html_tags(text):\n",
        "    return BeautifulSoup(text, \"html.parser\").get_text()\n",
        "\n",
        "def remove_special_characters(text):\n",
        "    return re.sub(r'[^a-zA-Z0-9\\s]', '', text)\n",
        "\n",
        "def remove_emojis_and_symbols(text):\n",
        "    emoji_pattern = re.compile(\"[\"\n",
        "        u\"\\U0001F600-\\U0001F64F\"\n",
        "        u\"\\U0001F300-\\U0001F5FF\"\n",
        "        u\"\\U0001F680-\\U0001F6FF\"\n",
        "        u\"\\U0001F700-\\U0001F77F\"\n",
        "        u\"\\U0001F780-\\U0001F7FF\"\n",
        "        u\"\\U0001F800-\\U0001F8FF\"\n",
        "        u\"\\U0001F900-\\U0001F9FF\"\n",
        "        u\"\\U0001FA00-\\U0001FA6F\"\n",
        "        u\"\\U0001FA70-\\U0001FAFF\"\n",
        "        u\"\\U00002702-\\U000027B0\"\n",
        "        u\"\\U000024C2-\\U0001F251\"\n",
        "        \"]+\", flags=re.UNICODE)\n",
        "    return emoji_pattern.sub('', text)\n",
        "\n",
        "# Apply cleaning functions\n",
        "df['description'] = df['description'].apply(remove_html_tags).apply(remove_special_characters).apply(remove_emojis_and_symbols)\n",
        "df = df.applymap(lambda x: x.lower() if isinstance(x, str) else x)\n",
        "\n",
        "# Download and prepare stopwords\n",
        "nltk.download('stopwords')\n",
        "stop_words = set(stopwords.words('english'))\n",
        "\n",
        "# Remove non-informative words\n",
        "def remove_stop_words(text):\n",
        "    return ' '.join(word for word in text.split() if word.lower() not in stop_words)\n",
        "\n",
        "df['CLEAN_DESCRIPTION'] = df['description'].apply(remove_stop_words)\n",
        "\n",
        "# Filling missing values appropriately\n",
        "#df.fillna({'year': 0, 'rating': df['rating'].mean(), 'votes': 0, 'gross(in $)': 0}, inplace=True)\n",
        "#df.fillna('unknown', inplace=True)\n",
        "\n",
        "# Apply scaling\n",
        "scaler = MinMaxScaler()\n",
        "#df['rating'] = scaler.fit_transform(df[['rating']])\n",
        "standard_scaler = StandardScaler()\n",
        "#df[['votes', 'gross(in $)']] = standard_scaler.fit_transform(df[['votes', 'gross(in $)']])\n",
        "\n",
        "# Removing extra whitespace\n",
        "df = df.applymap(lambda x: re.sub(r'\\s+', ' ', x.strip()) if isinstance(x, str) else x)\n",
        "\n",
        "# Verification steps\n",
        "df['contains_html'] = df['description'].apply(lambda x: bool(BeautifulSoup(x, \"html.parser\").find()))\n",
        "df['contains_special'] = df['description'].str.contains(r'[^a-zA-Z0-9\\s]')\n",
        "df['contains_stop'] = df['CLEAN_DESCRIPTION'].apply(lambda x: any(word in stop_words for word in x.split()))\n",
        "df['contains_non_informative'] = df['CLEAN_DESCRIPTION'].str.contains(r'\\b(' + '|'.join(stop_words) + r')\\b')\n",
        "\n",
        "summary = {\n",
        "    'HTML Tags Removed': not df['contains_html'].any(),\n",
        "    'Special Characters Removed': not df['contains_special'].any(),\n",
        "    'Non-informative Words Removed': not df['contains_non_informative'].any(),\n",
        "    'Stop Words Removed': not df['contains_stop'].any()\n",
        "}\n",
        "\n",
        "print(summary)\n"
      ]
    },
    {
      "cell_type": "markdown",
      "id": "4d3e00be",
      "metadata": {
        "id": "4d3e00be"
      },
      "source": [
        "### Handling numbers"
      ]
    },
    {
      "cell_type": "code",
      "execution_count": null,
      "id": "d-t5RyBF3StO",
      "metadata": {
        "colab": {
          "base_uri": "https://localhost:8080/"
        },
        "id": "d-t5RyBF3StO",
        "outputId": "77adea0d-2f34-4b1b-f60a-ab114f2be468"
      },
      "outputs": [
        {
          "name": "stdout",
          "output_type": "stream",
          "text": [
            "Collecting num2words\n",
            "  Downloading num2words-0.5.13-py3-none-any.whl (143 kB)\n",
            "\u001b[?25l     \u001b[90m━━━━━━━━━━━━━━━━━━━━━━━━━━━━━━━━━━━━━━━━\u001b[0m \u001b[32m0.0/143.3 kB\u001b[0m \u001b[31m?\u001b[0m eta \u001b[36m-:--:--\u001b[0m\r\u001b[2K     \u001b[91m━━━━━━━━━━━━━━━━━━━━━━━━━━━━━━━━━━━━━\u001b[0m\u001b[90m╺\u001b[0m\u001b[90m━━\u001b[0m \u001b[32m133.1/143.3 kB\u001b[0m \u001b[31m4.3 MB/s\u001b[0m eta \u001b[36m0:00:01\u001b[0m\r\u001b[2K     \u001b[90m━━━━━━━━━━━━━━━━━━━━━━━━━━━━━━━━━━━━━━━━\u001b[0m \u001b[32m143.3/143.3 kB\u001b[0m \u001b[31m3.7 MB/s\u001b[0m eta \u001b[36m0:00:00\u001b[0m\n",
            "\u001b[?25hCollecting docopt>=0.6.2 (from num2words)\n",
            "  Downloading docopt-0.6.2.tar.gz (25 kB)\n",
            "  Preparing metadata (setup.py) ... \u001b[?25l\u001b[?25hdone\n",
            "Building wheels for collected packages: docopt\n",
            "  Building wheel for docopt (setup.py) ... \u001b[?25l\u001b[?25hdone\n",
            "  Created wheel for docopt: filename=docopt-0.6.2-py2.py3-none-any.whl size=13706 sha256=e12b36e38cddbe8537066013a3d19d609e12dd4547dc018955dfbdecbb9904c8\n",
            "  Stored in directory: /root/.cache/pip/wheels/fc/ab/d4/5da2067ac95b36618c629a5f93f809425700506f72c9732fac\n",
            "Successfully built docopt\n",
            "Installing collected packages: docopt, num2words\n",
            "Successfully installed docopt-0.6.2 num2words-0.5.13\n"
          ]
        }
      ],
      "source": [
        "!pip install num2words"
      ]
    },
    {
      "cell_type": "markdown",
      "id": "e4c0881e-0869-49ec-ba8e-4581098ea496",
      "metadata": {
        "id": "e4c0881e-0869-49ec-ba8e-4581098ea496"
      },
      "source": [
        "### Tokenization, Stop Words Removal, and Handling Negations:"
      ]
    },
    {
      "cell_type": "code",
      "execution_count": null,
      "id": "c0579dd1-6a01-4ebd-846a-1954978aae2f",
      "metadata": {
        "colab": {
          "base_uri": "https://localhost:8080/"
        },
        "id": "c0579dd1-6a01-4ebd-846a-1954978aae2f",
        "outputId": "07176b03-180a-48f4-d1d7-7c3c32f434ec"
      },
      "outputs": [
        {
          "name": "stderr",
          "output_type": "stream",
          "text": [
            "[nltk_data] Downloading package punkt to /root/nltk_data...\n",
            "[nltk_data]   Package punkt is already up-to-date!\n"
          ]
        },
        {
          "name": "stdout",
          "output_type": "stream",
          "text": [
            "                                              tokens  \\\n",
            "0  [people, wakanda, fight, protect, home, interv...   \n",
            "1  [jake, sully, lives, newfound, family, formed,...   \n",
            "2  [pilot, finds, caught, war, zone, hes, forced,...   \n",
            "3  [middleaged, chinese, immigrant, swept, insane...   \n",
            "4  [dom, toretto, family, targeted, vengeful, son...   \n",
            "\n",
            "                                   handled_negations  \n",
            "0  [people, wakanda, fight, protect, home, interv...  \n",
            "1  [jake, sully, lives, newfound, family, formed,...  \n",
            "2  [pilot, finds, caught, war, zone, hes, forced,...  \n",
            "3  [middleaged, chinese, immigrant, swept, insane...  \n",
            "4  [dom, toretto, family, targeted, vengeful, son...  \n"
          ]
        }
      ],
      "source": [
        "nltk.download('punkt')\n",
        "\n",
        "# Tokenization function\n",
        "def tokenize_text(text):\n",
        "    tokens = word_tokenize(text)\n",
        "    return tokens\n",
        "\n",
        "# Negation handling function\n",
        "def handle_negation(tokens):\n",
        "    negation_terms = ['not', 'no', 'never', \"n't\", 'nothing', 'nowhere', 'neither', 'nor']\n",
        "    transformed_tokens = []\n",
        "    negation_active = False\n",
        "\n",
        "    for token in tokens:\n",
        "        if token in negation_terms:\n",
        "            negation_active = True\n",
        "        elif negation_active:\n",
        "            transformed_tokens.append(f\"not_{token}\")\n",
        "            negation_active = False\n",
        "        else:\n",
        "            transformed_tokens.append(token)\n",
        "\n",
        "    return transformed_tokens\n",
        "\n",
        "# Apply tokenization\n",
        "df['tokens'] = df['CLEAN_DESCRIPTION'].apply(tokenize_text)\n",
        "\n",
        "# Apply negation handling\n",
        "df['handled_negations'] = df['tokens'].apply(handle_negation)\n",
        "\n",
        "# Display the DataFrame to verify negation handling\n",
        "print(df[['tokens', 'handled_negations']].head())\n"
      ]
    },
    {
      "cell_type": "markdown",
      "id": "e1420f79",
      "metadata": {
        "id": "e1420f79"
      },
      "source": [
        "### Lemmatization"
      ]
    },
    {
      "cell_type": "code",
      "execution_count": null,
      "id": "krGtS_-1VTE3",
      "metadata": {
        "colab": {
          "base_uri": "https://localhost:8080/"
        },
        "id": "krGtS_-1VTE3",
        "outputId": "49654b2b-7bdc-41bf-9ac7-f1e28520742f"
      },
      "outputs": [
        {
          "name": "stdout",
          "output_type": "stream",
          "text": [
            "Requirement already satisfied: spacy in /usr/local/lib/python3.10/dist-packages (3.7.4)\n",
            "Requirement already satisfied: spacy-legacy<3.1.0,>=3.0.11 in /usr/local/lib/python3.10/dist-packages (from spacy) (3.0.12)\n",
            "Requirement already satisfied: spacy-loggers<2.0.0,>=1.0.0 in /usr/local/lib/python3.10/dist-packages (from spacy) (1.0.5)\n",
            "Requirement already satisfied: murmurhash<1.1.0,>=0.28.0 in /usr/local/lib/python3.10/dist-packages (from spacy) (1.0.10)\n",
            "Requirement already satisfied: cymem<2.1.0,>=2.0.2 in /usr/local/lib/python3.10/dist-packages (from spacy) (2.0.8)\n",
            "Requirement already satisfied: preshed<3.1.0,>=3.0.2 in /usr/local/lib/python3.10/dist-packages (from spacy) (3.0.9)\n",
            "Requirement already satisfied: thinc<8.3.0,>=8.2.2 in /usr/local/lib/python3.10/dist-packages (from spacy) (8.2.3)\n",
            "Requirement already satisfied: wasabi<1.2.0,>=0.9.1 in /usr/local/lib/python3.10/dist-packages (from spacy) (1.1.2)\n",
            "Requirement already satisfied: srsly<3.0.0,>=2.4.3 in /usr/local/lib/python3.10/dist-packages (from spacy) (2.4.8)\n",
            "Requirement already satisfied: catalogue<2.1.0,>=2.0.6 in /usr/local/lib/python3.10/dist-packages (from spacy) (2.0.10)\n",
            "Requirement already satisfied: weasel<0.4.0,>=0.1.0 in /usr/local/lib/python3.10/dist-packages (from spacy) (0.3.4)\n",
            "Requirement already satisfied: typer<0.10.0,>=0.3.0 in /usr/local/lib/python3.10/dist-packages (from spacy) (0.9.4)\n",
            "Requirement already satisfied: smart-open<7.0.0,>=5.2.1 in /usr/local/lib/python3.10/dist-packages (from spacy) (6.4.0)\n",
            "Requirement already satisfied: tqdm<5.0.0,>=4.38.0 in /usr/local/lib/python3.10/dist-packages (from spacy) (4.66.4)\n",
            "Requirement already satisfied: requests<3.0.0,>=2.13.0 in /usr/local/lib/python3.10/dist-packages (from spacy) (2.31.0)\n",
            "Requirement already satisfied: pydantic!=1.8,!=1.8.1,<3.0.0,>=1.7.4 in /usr/local/lib/python3.10/dist-packages (from spacy) (2.7.1)\n",
            "Requirement already satisfied: jinja2 in /usr/local/lib/python3.10/dist-packages (from spacy) (3.1.4)\n",
            "Requirement already satisfied: setuptools in /usr/local/lib/python3.10/dist-packages (from spacy) (67.7.2)\n",
            "Requirement already satisfied: packaging>=20.0 in /usr/local/lib/python3.10/dist-packages (from spacy) (24.0)\n",
            "Requirement already satisfied: langcodes<4.0.0,>=3.2.0 in /usr/local/lib/python3.10/dist-packages (from spacy) (3.4.0)\n",
            "Requirement already satisfied: numpy>=1.19.0 in /usr/local/lib/python3.10/dist-packages (from spacy) (1.25.2)\n",
            "Requirement already satisfied: language-data>=1.2 in /usr/local/lib/python3.10/dist-packages (from langcodes<4.0.0,>=3.2.0->spacy) (1.2.0)\n",
            "Requirement already satisfied: annotated-types>=0.4.0 in /usr/local/lib/python3.10/dist-packages (from pydantic!=1.8,!=1.8.1,<3.0.0,>=1.7.4->spacy) (0.6.0)\n",
            "Requirement already satisfied: pydantic-core==2.18.2 in /usr/local/lib/python3.10/dist-packages (from pydantic!=1.8,!=1.8.1,<3.0.0,>=1.7.4->spacy) (2.18.2)\n",
            "Requirement already satisfied: typing-extensions>=4.6.1 in /usr/local/lib/python3.10/dist-packages (from pydantic!=1.8,!=1.8.1,<3.0.0,>=1.7.4->spacy) (4.11.0)\n",
            "Requirement already satisfied: charset-normalizer<4,>=2 in /usr/local/lib/python3.10/dist-packages (from requests<3.0.0,>=2.13.0->spacy) (3.3.2)\n",
            "Requirement already satisfied: idna<4,>=2.5 in /usr/local/lib/python3.10/dist-packages (from requests<3.0.0,>=2.13.0->spacy) (3.7)\n",
            "Requirement already satisfied: urllib3<3,>=1.21.1 in /usr/local/lib/python3.10/dist-packages (from requests<3.0.0,>=2.13.0->spacy) (2.0.7)\n",
            "Requirement already satisfied: certifi>=2017.4.17 in /usr/local/lib/python3.10/dist-packages (from requests<3.0.0,>=2.13.0->spacy) (2024.2.2)\n",
            "Requirement already satisfied: blis<0.8.0,>=0.7.8 in /usr/local/lib/python3.10/dist-packages (from thinc<8.3.0,>=8.2.2->spacy) (0.7.11)\n",
            "Requirement already satisfied: confection<1.0.0,>=0.0.1 in /usr/local/lib/python3.10/dist-packages (from thinc<8.3.0,>=8.2.2->spacy) (0.1.4)\n",
            "Requirement already satisfied: click<9.0.0,>=7.1.1 in /usr/local/lib/python3.10/dist-packages (from typer<0.10.0,>=0.3.0->spacy) (8.1.7)\n",
            "Requirement already satisfied: cloudpathlib<0.17.0,>=0.7.0 in /usr/local/lib/python3.10/dist-packages (from weasel<0.4.0,>=0.1.0->spacy) (0.16.0)\n",
            "Requirement already satisfied: MarkupSafe>=2.0 in /usr/local/lib/python3.10/dist-packages (from jinja2->spacy) (2.1.5)\n",
            "Requirement already satisfied: marisa-trie>=0.7.7 in /usr/local/lib/python3.10/dist-packages (from language-data>=1.2->langcodes<4.0.0,>=3.2.0->spacy) (1.1.1)\n"
          ]
        }
      ],
      "source": [
        "!pip install spacy"
      ]
    },
    {
      "cell_type": "code",
      "execution_count": null,
      "id": "3ed52851",
      "metadata": {
        "colab": {
          "base_uri": "https://localhost:8080/"
        },
        "id": "3ed52851",
        "outputId": "d746bbec-e6bd-400d-f107-fb55482fe839"
      },
      "outputs": [
        {
          "name": "stderr",
          "output_type": "stream",
          "text": [
            "100%|██████████| 727/727 [25:37<00:00,  2.11s/it]\n"
          ]
        }
      ],
      "source": [
        "# Load spaCy English model with only the tokenizer and tagger since that's enough for lemmatization\n",
        "nlp = spacy.load(\"en_core_web_sm\", disable=[\"ner\", \"parser\"])\n",
        "\n",
        "# Define the lemmatization function with nlp model as a parameter\n",
        "def lemmatize_text(text, nlp):\n",
        "    doc = nlp(text)\n",
        "    return \" \".join([token.lemma_ for token in doc])\n",
        "\n",
        "# Function to process in batches\n",
        "def process_text_in_batches(dataframe, column_name):\n",
        "    chunk_size = 500  # Adjust the chunk size based on your system's capability\n",
        "    num_chunks = len(dataframe) // chunk_size + 1\n",
        "\n",
        "    lemmatized_texts = []\n",
        "    for i in tqdm(range(num_chunks)):\n",
        "        batch = dataframe[column_name][i*chunk_size:(i+1)*chunk_size]\n",
        "        lemmatized_batch = batch.apply(lambda text: lemmatize_text(text, nlp))\n",
        "        lemmatized_texts.extend(lemmatized_batch)\n",
        "\n",
        "    return lemmatized_texts\n",
        "\n",
        "# Applying batch processing\n",
        "df['lemmatized_description'] = process_text_in_batches(df, 'CLEAN_DESCRIPTION')"
      ]
    },
    {
      "cell_type": "code",
      "execution_count": null,
      "id": "FsQn-D-xXPzr",
      "metadata": {
        "id": "FsQn-D-xXPzr"
      },
      "outputs": [],
      "source": [
        "# Loading the dataset\n",
        "drive.mount('/content/drive')\n",
        "file_path = '/content/drive/My Drive/lemmatized_dataset.csv'\n",
        "data = pd.read_csv(file_path, sep=',', engine='python', header=None)"
      ]
    },
    {
      "cell_type": "code",
      "execution_count": null,
      "id": "mT-Y23xupjvC",
      "metadata": {
        "colab": {
          "base_uri": "https://localhost:8080/"
        },
        "id": "mT-Y23xupjvC",
        "outputId": "9d276497-79a4-4bf0-9c7e-3a682848ec76"
      },
      "outputs": [
        {
          "name": "stdout",
          "output_type": "stream",
          "text": [
            "[==================================================] 100.0% 66.0/66.0MB downloaded\n",
            "Vector column created successfully.\n"
          ]
        }
      ],
      "source": [
        "# Ensure the GloVe model is loaded (consider handling this with try-except to catch loading issues)\n",
        "glove_model = api.load(\"glove-wiki-gigaword-50\")\n",
        "\n",
        "# Define the function to create document vectors\n",
        "def document_vector(tokens, model):\n",
        "    filtered_tokens = [token for token in tokens if token in model.key_to_index]\n",
        "    if not filtered_tokens:\n",
        "        return np.zeros(model.vector_size)\n",
        "    return np.mean(model[filtered_tokens], axis=0)\n",
        "\n",
        "# Apply the document vector function to a tokens column that should exist\n",
        "# Ensure 'tokens' column exists and contains pre-tokenized data as lists of words\n",
        "if 'tokens' in df.columns:\n",
        "    df['vector'] = df['tokens'].apply(lambda tokens: document_vector(tokens, glove_model))\n",
        "else:\n",
        "    print(\"Error: 'tokens' column does not exist.\")\n",
        "\n",
        "# Check that the 'vector' column has been created successfully\n",
        "if 'vector' not in df.columns:\n",
        "    print(\"Vector column creation failed.\")\n",
        "else:\n",
        "    print(\"Vector column created successfully.\")\n"
      ]
    },
    {
      "cell_type": "code",
      "execution_count": null,
      "id": "lanX8Vz65FZI",
      "metadata": {
        "colab": {
          "base_uri": "https://localhost:8080/"
        },
        "id": "lanX8Vz65FZI",
        "outputId": "fa638f7b-7424-4aa1-8485-d9ed9a7dfcc7"
      },
      "outputs": [
        {
          "name": "stdout",
          "output_type": "stream",
          "text": [
            "final_genre\n",
            "Other                   0.727381\n",
            "Horror                  0.044214\n",
            "Action                  0.039889\n",
            "Thriller                0.039575\n",
            "Romance                 0.034302\n",
            "Action, crime, drama    0.026666\n",
            "romance                 0.019730\n",
            "Horror, Thriller        0.019289\n",
            "comedy, romance         0.019253\n",
            "crime, drama            0.015248\n",
            "comedy, Romance         0.014454\n",
            "Name: proportion, dtype: float64\n"
          ]
        }
      ],
      "source": [
        "# Define a mapping of genres to aggregated genres\n",
        "genre_aggregation = {\n",
        "    'horror': 'Horror',\n",
        "    'action': 'Action',\n",
        "    'thriller': 'Thriller',\n",
        "    'drama, romance': 'Romance',\n",
        "    'action, crime, drama': 'Crime Drama',\n",
        "    # Add other mappings\n",
        "}\n",
        "\n",
        "# Map genres to aggregated genres\n",
        "df['aggregated_genre'] = df['genre'].replace(regex=genre_aggregation)\n",
        "\n",
        "# Now, we reduce the genres to top N and 'other'\n",
        "top_n = 10\n",
        "top_genres = df['aggregated_genre'].value_counts().nlargest(top_n).index\n",
        "df['final_genre'] = df['aggregated_genre'].apply(lambda x: x if x in top_genres else 'Other')\n",
        "\n",
        "# Check the new distribution\n",
        "print(df['final_genre'].value_counts(normalize=True))\n"
      ]
    },
    {
      "cell_type": "code",
      "execution_count": null,
      "id": "kuLjmZOuk5E5",
      "metadata": {
        "id": "kuLjmZOuk5E5"
      },
      "outputs": [],
      "source": [
        "# Perform PCA on vectors\n",
        "pca = PCA(n_components=50)\n",
        "reduced_vectors = pca.fit_transform(list(df['vector']))\n",
        "\n",
        "# Split data into training and testing sets\n",
        "X_train, X_test, y_train, y_test = train_test_split(reduced_vectors, df['genre'], test_size=0.2, random_state=42)\n"
      ]
    },
    {
      "cell_type": "code",
      "execution_count": null,
      "id": "bcesCyh3usKW",
      "metadata": {
        "colab": {
          "base_uri": "https://localhost:8080/"
        },
        "id": "bcesCyh3usKW",
        "outputId": "b055fa34-4801-4671-e848-4421c5deef28"
      },
      "outputs": [
        {
          "name": "stdout",
          "output_type": "stream",
          "text": [
            "Accuracy: 0.7666455469546294\n"
          ]
        }
      ],
      "source": [
        "# Encode the target variable\n",
        "label_encoder = LabelEncoder()\n",
        "y_encoded = label_encoder.fit_transform(df['final_genre'])\n",
        "X_train, X_test, y_train, y_test = train_test_split(reduced_vectors, y_encoded, test_size=0.2, random_state=42)\n",
        "\n",
        "# Train a simple Random Forest Classifier\n",
        "model = RandomForestClassifier(n_estimators=100, random_state=42)\n",
        "model.fit(X_train, y_train)\n",
        "\n",
        "# Predict and evaluate\n",
        "y_pred = model.predict(X_test)\n",
        "accuracy = accuracy_score(y_test, y_pred)\n",
        "print(\"Accuracy:\", accuracy)\n"
      ]
    },
    {
      "cell_type": "code",
      "execution_count": null,
      "id": "WDcme5cFd-1z",
      "metadata": {
        "id": "WDcme5cFd-1z"
      },
      "outputs": [],
      "source": [
        "# Model Hyperparameter Tuning"
      ]
    },
    {
      "cell_type": "code",
      "execution_count": null,
      "id": "ITr2FRTdeCd1",
      "metadata": {
        "colab": {
          "base_uri": "https://localhost:8080/"
        },
        "id": "ITr2FRTdeCd1",
        "outputId": "41599acd-e84a-4ba4-835e-fdd5c136085d"
      },
      "outputs": [
        {
          "name": "stdout",
          "output_type": "stream",
          "text": [
            "Accuracy: 0.7306685766232335\n"
          ]
        }
      ],
      "source": [
        "# Ensure the GloVe vectors are applied\n",
        "if 'vector' in df.columns:\n",
        "    # Prepare the features and labels\n",
        "    X = np.stack(df['vector'].values)  # Convert list of vectors into a 2D array\n",
        "    y = df['final_genre']\n",
        "\n",
        "    # Encode the labels to be used in the model\n",
        "    label_encoder = LabelEncoder()\n",
        "    y_encoded = label_encoder.fit_transform(y)\n",
        "\n",
        "    # Split the data into training and testing sets\n",
        "    X_train, X_test, y_train, y_test = train_test_split(X, y_encoded, test_size=0.2, random_state=42)\n",
        "\n",
        "    # Train the XGBoost model\n",
        "    model = xgb.XGBClassifier(use_label_encoder=False, eval_metric='mlogloss', n_estimators=100, learning_rate=0.1)\n",
        "    model.fit(X_train, y_train)\n",
        "\n",
        "    # Predict and calculate accuracy\n",
        "    y_pred = model.predict(X_test)\n",
        "    accuracy = accuracy_score(y_test, y_pred)\n",
        "    print(\"Accuracy:\", accuracy)\n",
        "else:\n",
        "    print(\"Vector column not found. Ensure your vectorization step is correct.\")\n"
      ]
    },
    {
      "cell_type": "code",
      "execution_count": null,
      "id": "BAZA_Ymjg6_r",
      "metadata": {
        "id": "BAZA_Ymjg6_r"
      },
      "outputs": [],
      "source": [
        "# Advanced Model Architecture"
      ]
    },
    {
      "cell_type": "code",
      "execution_count": null,
      "id": "OEBbHGpFg9gY",
      "metadata": {
        "id": "OEBbHGpFg9gY"
      },
      "outputs": [],
      "source": [
        "# Train a Gradient Boosting Classifier\n",
        "gb = GradientBoostingClassifier(n_estimators=200, learning_rate=0.1, max_depth=5, random_state=42)\n",
        "gb.fit(X_train, y_train)\n",
        "\n",
        "# Predict on the test set\n",
        "y_pred_gb = gb.predict(X_test)\n",
        "\n",
        "# Calculate and print the accuracy\n",
        "accuracy_gb = accuracy_score(y_test, y_pred_gb)\n",
        "print(\"Gradient Boosting Classifier Accuracy:\", accuracy_gb)\n"
      ]
    },
    {
      "cell_type": "code",
      "execution_count": null,
      "id": "FY6pgUKxg9jC",
      "metadata": {
        "id": "FY6pgUKxg9jC"
      },
      "outputs": [],
      "source": [
        "# Feature Engineering"
      ]
    },
    {
      "cell_type": "code",
      "execution_count": null,
      "id": "p9djA19mhBV5",
      "metadata": {
        "id": "p9djA19mhBV5"
      },
      "outputs": [],
      "source": [
        "### Feature Scaling: Standardize features by removing the mean and scaling to unit variance"
      ]
    },
    {
      "cell_type": "code",
      "execution_count": null,
      "id": "-EPA-emwhDr4",
      "metadata": {
        "id": "-EPA-emwhDr4"
      },
      "outputs": [],
      "source": [
        "scaler = StandardScaler()\n",
        "X_train_scaled = scaler.fit_transform(X_train)\n",
        "X_test_scaled = scaler.transform(X_test)\n",
        "\n",
        "model.fit(X_train_scaled, y_train)\n",
        "y_pred = model.predict(X_test_scaled)\n",
        "print(\"Accuracy with Scaled Features:\", accuracy_score(y_test, y_pred))\n"
      ]
    },
    {
      "cell_type": "code",
      "execution_count": null,
      "id": "c3IxCYYRhFna",
      "metadata": {
        "id": "c3IxCYYRhFna"
      },
      "outputs": [],
      "source": [
        "# Ensemble Techniques"
      ]
    },
    {
      "cell_type": "code",
      "execution_count": null,
      "id": "JJtAv1TuhJeQ",
      "metadata": {
        "id": "JJtAv1TuhJeQ"
      },
      "outputs": [],
      "source": [
        "# Create sub-models\n",
        "model1 = RandomForestClassifier(n_estimators=300, random_state=42)\n",
        "model2 = GradientBoostingClassifier(n_estimators=200, learning_rate=0.05, random_state=42)\n",
        "\n",
        "# Create a voting classifier\n",
        "ensemble = VotingClassifier(estimators=[\n",
        "    ('rf', model1), ('gb', model2)],\n",
        "    voting='soft')\n",
        "\n",
        "ensemble.fit(X_train, y_train)\n",
        "y_pred_ensemble = ensemble.predict(X_test)\n",
        "print(\"Ensemble Model Accuracy:\", accuracy_score(y_test, y_pred_ensemble))\n"
      ]
    },
    {
      "cell_type": "code",
      "execution_count": null,
      "id": "J8Kd_wMKoLtY",
      "metadata": {
        "id": "J8Kd_wMKoLtY"
      },
      "outputs": [],
      "source": [
        "print(classification_report(y_test, y_pred))\n",
        "print(\"Confusion Matrix:\\n\", confusion_matrix(y_test, y_pred))\n"
      ]
    },
    {
      "cell_type": "code",
      "execution_count": null,
      "id": "ccI4NHq4iAZn",
      "metadata": {
        "id": "ccI4NHq4iAZn"
      },
      "outputs": [],
      "source": [
        "#"
      ]
    },
    {
      "cell_type": "code",
      "execution_count": null,
      "id": "YpdjDD-MiBDQ",
      "metadata": {
        "id": "YpdjDD-MiBDQ"
      },
      "outputs": [],
      "source": [
        "# Load tokenizer and BERT model\n",
        "tokenizer = BertTokenizer.from_pretrained('bert-base-uncased')\n",
        "bert = TFBertModel.from_pretrained('bert-base-uncased')\n",
        "\n",
        "# Prepare the dataset\n",
        "def prepare_data(texts, labels):\n",
        "    encodings = tokenizer(texts, truncation=True, padding=True, max_length=512)\n",
        "    return np.array(encodings['input_ids']), np.array(labels)\n",
        "\n",
        "X_train_ids, y_train_encoded = prepare_data(X_train, y_train)\n",
        "X_test_ids, y_test_encoded = prepare_data(X_test, y_test)\n",
        "\n",
        "# Build the model\n",
        "input_ids = Input(shape=(512,), dtype=tf.int32)\n",
        "bert_output = bert(input_ids)[1]\n",
        "out = Dense(len(np.unique(y_train)), activation='softmax')(bert_output)\n",
        "\n",
        "model = Model(inputs=input_ids, outputs=out)\n",
        "model.compile(optimizer=Adam(lr=2e-5), loss='sparse_categorical_crossentropy', metrics=['accuracy'])\n",
        "\n",
        "# Train the model\n",
        "model.fit(X_train_ids, y_train_encoded, validation_split=0.1, epochs=3, batch_size=8)\n",
        "\n",
        "# Evaluate the model\n",
        "eval_results = model.evaluate(X_test_ids, y_test_encoded)\n",
        "print(f\"Neural Network Accuracy: {eval_results[1]:.2f}\")\n"
      ]
    }
  ],
  "metadata": {
    "colab": {
      "provenance": []
    },
    "kernelspec": {
      "display_name": "Python 3",
      "name": "python3"
    },
    "language_info": {
      "codemirror_mode": {
        "name": "ipython",
        "version": 3
      },
      "file_extension": ".py",
      "mimetype": "text/x-python",
      "name": "python",
      "nbconvert_exporter": "python",
      "pygments_lexer": "ipython3",
      "version": "3.11.5"
    }
  },
  "nbformat": 4,
  "nbformat_minor": 5
}
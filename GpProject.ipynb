{
 "cells": [
  {
   "cell_type": "markdown",
   "id": "89ede4c4",
   "metadata": {},
   "source": [
    "## Preprocessing and Exploratory Data Analysis"
   ]
  },
  {
   "cell_type": "code",
   "execution_count": 146,
   "id": "3c9d510e",
   "metadata": {},
   "outputs": [],
   "source": [
    "import pandas as pd\n",
    "import re\n",
    "from spellchecker import SpellChecker"
   ]
  },
  {
   "cell_type": "markdown",
   "id": "6ad22b06",
   "metadata": {},
   "source": [
    "### Data Information"
   ]
  },
  {
   "cell_type": "code",
   "execution_count": 159,
   "id": "8261e661",
   "metadata": {},
   "outputs": [],
   "source": [
    "# Loading the dataset\n",
    "dataset_path = 'data/train_data.txt'\n",
    "data = pd.read_csv(dataset_path, sep=':::', engine='python', header=None)\n",
    "data.columns = ['ID', 'TITLE', 'GENRE', 'DESCRIPTION']"
   ]
  },
  {
   "cell_type": "code",
   "execution_count": 160,
   "id": "89fd658d",
   "metadata": {},
   "outputs": [
    {
     "name": "stdout",
     "output_type": "stream",
     "text": [
      "Number of instances = 54214\n",
      "Number of attributes = 4\n"
     ]
    },
    {
     "data": {
      "text/html": [
       "<div>\n",
       "<style scoped>\n",
       "    .dataframe tbody tr th:only-of-type {\n",
       "        vertical-align: middle;\n",
       "    }\n",
       "\n",
       "    .dataframe tbody tr th {\n",
       "        vertical-align: top;\n",
       "    }\n",
       "\n",
       "    .dataframe thead th {\n",
       "        text-align: right;\n",
       "    }\n",
       "</style>\n",
       "<table border=\"1\" class=\"dataframe\">\n",
       "  <thead>\n",
       "    <tr style=\"text-align: right;\">\n",
       "      <th></th>\n",
       "      <th>ID</th>\n",
       "      <th>TITLE</th>\n",
       "      <th>GENRE</th>\n",
       "      <th>DESCRIPTION</th>\n",
       "    </tr>\n",
       "  </thead>\n",
       "  <tbody>\n",
       "    <tr>\n",
       "      <th>0</th>\n",
       "      <td>1</td>\n",
       "      <td>Oscar et la dame rose (2009)</td>\n",
       "      <td>drama</td>\n",
       "      <td>Listening in to a conversation between his do...</td>\n",
       "    </tr>\n",
       "    <tr>\n",
       "      <th>1</th>\n",
       "      <td>2</td>\n",
       "      <td>Cupid (1997)</td>\n",
       "      <td>thriller</td>\n",
       "      <td>A brother and sister with a past incestuous r...</td>\n",
       "    </tr>\n",
       "    <tr>\n",
       "      <th>2</th>\n",
       "      <td>3</td>\n",
       "      <td>Young, Wild and Wonderful (1980)</td>\n",
       "      <td>adult</td>\n",
       "      <td>As the bus empties the students for their fie...</td>\n",
       "    </tr>\n",
       "    <tr>\n",
       "      <th>3</th>\n",
       "      <td>4</td>\n",
       "      <td>The Secret Sin (1915)</td>\n",
       "      <td>drama</td>\n",
       "      <td>To help their unemployed father make ends mee...</td>\n",
       "    </tr>\n",
       "    <tr>\n",
       "      <th>4</th>\n",
       "      <td>5</td>\n",
       "      <td>The Unrecovered (2007)</td>\n",
       "      <td>drama</td>\n",
       "      <td>The film's title refers not only to the un-re...</td>\n",
       "    </tr>\n",
       "  </tbody>\n",
       "</table>\n",
       "</div>"
      ],
      "text/plain": [
       "   ID                               TITLE       GENRE  \\\n",
       "0   1       Oscar et la dame rose (2009)       drama    \n",
       "1   2                       Cupid (1997)    thriller    \n",
       "2   3   Young, Wild and Wonderful (1980)       adult    \n",
       "3   4              The Secret Sin (1915)       drama    \n",
       "4   5             The Unrecovered (2007)       drama    \n",
       "\n",
       "                                         DESCRIPTION  \n",
       "0   Listening in to a conversation between his do...  \n",
       "1   A brother and sister with a past incestuous r...  \n",
       "2   As the bus empties the students for their fie...  \n",
       "3   To help their unemployed father make ends mee...  \n",
       "4   The film's title refers not only to the un-re...  "
      ]
     },
     "execution_count": 160,
     "metadata": {},
     "output_type": "execute_result"
    }
   ],
   "source": [
    "print('Number of instances = %d' % (data.shape[0]))\n",
    "print('Number of attributes = %d' % (data.shape[1]))\n",
    "data.head()"
   ]
  },
  {
   "cell_type": "markdown",
   "id": "8fe45ba7",
   "metadata": {},
   "source": [
    "#### Data Types"
   ]
  },
  {
   "cell_type": "code",
   "execution_count": 161,
   "id": "3ee1cc02",
   "metadata": {},
   "outputs": [
    {
     "data": {
      "text/plain": [
       "ID              int64\n",
       "TITLE          object\n",
       "GENRE          object\n",
       "DESCRIPTION    object\n",
       "dtype: object"
      ]
     },
     "execution_count": 161,
     "metadata": {},
     "output_type": "execute_result"
    }
   ],
   "source": [
    "# Printing data types of DataFrame\n",
    "data.dtypes"
   ]
  },
  {
   "cell_type": "markdown",
   "id": "2f3b5666",
   "metadata": {},
   "source": [
    "#### Dataframe Statistics"
   ]
  },
  {
   "cell_type": "code",
   "execution_count": 162,
   "id": "c3b48ec2",
   "metadata": {},
   "outputs": [
    {
     "data": {
      "text/html": [
       "<div>\n",
       "<style scoped>\n",
       "    .dataframe tbody tr th:only-of-type {\n",
       "        vertical-align: middle;\n",
       "    }\n",
       "\n",
       "    .dataframe tbody tr th {\n",
       "        vertical-align: top;\n",
       "    }\n",
       "\n",
       "    .dataframe thead th {\n",
       "        text-align: right;\n",
       "    }\n",
       "</style>\n",
       "<table border=\"1\" class=\"dataframe\">\n",
       "  <thead>\n",
       "    <tr style=\"text-align: right;\">\n",
       "      <th></th>\n",
       "      <th>count</th>\n",
       "      <th>mean</th>\n",
       "      <th>std</th>\n",
       "      <th>min</th>\n",
       "      <th>25%</th>\n",
       "      <th>50%</th>\n",
       "      <th>75%</th>\n",
       "      <th>max</th>\n",
       "    </tr>\n",
       "  </thead>\n",
       "  <tbody>\n",
       "    <tr>\n",
       "      <th>ID</th>\n",
       "      <td>54214.0</td>\n",
       "      <td>27107.5</td>\n",
       "      <td>15650.378084</td>\n",
       "      <td>1.0</td>\n",
       "      <td>13554.25</td>\n",
       "      <td>27107.5</td>\n",
       "      <td>40660.75</td>\n",
       "      <td>54214.0</td>\n",
       "    </tr>\n",
       "  </tbody>\n",
       "</table>\n",
       "</div>"
      ],
      "text/plain": [
       "      count     mean           std  min       25%      50%       75%      max\n",
       "ID  54214.0  27107.5  15650.378084  1.0  13554.25  27107.5  40660.75  54214.0"
      ]
     },
     "execution_count": 162,
     "metadata": {},
     "output_type": "execute_result"
    }
   ],
   "source": [
    "# Printing description of DataFrame\n",
    "data.describe().T"
   ]
  },
  {
   "cell_type": "markdown",
   "id": "baa267f8",
   "metadata": {},
   "source": [
    "#           Data Cleaning and Standardization"
   ]
  },
  {
   "cell_type": "markdown",
   "id": "f6c09eb1",
   "metadata": {},
   "source": [
    " ### Cleaning Special Characters"
   ]
  },
  {
   "cell_type": "markdown",
   "id": "aae5967a",
   "metadata": {},
   "source": [
    " Removing HTML tags if the data is scraped from the web"
   ]
  },
  {
   "cell_type": "code",
   "execution_count": 163,
   "id": "9f20465a",
   "metadata": {},
   "outputs": [
    {
     "name": "stdout",
     "output_type": "stream",
     "text": [
      "No HTML tags found in the dataset.\n"
     ]
    }
   ],
   "source": [
    "# Regular expression pattern to detect HTML tags\n",
    "html_pattern = re.compile(r'<[^>]+>')\n",
    "\n",
    "# Function to find HTML tags in a text\n",
    "def find_html_tags(text):\n",
    "    return html_pattern.findall(text)\n",
    "\n",
    "# Apply the function to the DESCRIPTION column and create a boolean mask where HTML tags are found\n",
    "data['contains_html'] = data['DESCRIPTION'].apply(lambda x: bool(find_html_tags(x)))\n",
    "\n",
    "# Filter the DataFrame to remove rows where HTML tags were found\n",
    "data = data[~data['contains_html']]\n",
    "\n",
    "# Check if there are any HTML tags left in the dataset\n",
    "html_tags_present = data['DESCRIPTION'].str.contains('<[^>]+>', regex=True).any()\n",
    "\n",
    "# Print the result\n",
    "if html_tags_present:\n",
    "    print(\"HTML tags are still present in the dataset.\")\n",
    "else:\n",
    "    print(\"No HTML tags found in the dataset.\")\n"
   ]
  },
  {
   "cell_type": "code",
   "execution_count": 164,
   "id": "97cabf79",
   "metadata": {},
   "outputs": [
    {
     "name": "stdout",
     "output_type": "stream",
     "text": [
      "No special characters found in the dataset.\n"
     ]
    }
   ],
   "source": [
    "\n",
    "# Regular expression pattern to detect special characters\n",
    "special_char_pattern = re.compile(r'[^\\w\\s]')\n",
    "\n",
    "# Function to find special characters in a text\n",
    "def find_special_characters(text):\n",
    "    return special_char_pattern.findall(text)\n",
    "\n",
    "# Apply the function to the DESCRIPTION column and create a boolean mask where special characters are found\n",
    "data['contains_special_chars'] = data['DESCRIPTION'].apply(lambda x: bool(find_special_characters(x)))\n",
    "\n",
    "# Filter the DataFrame to remove rows where special characters were found\n",
    "data = data[~data['contains_special_chars']]\n",
    "\n",
    "# Check if there are any special characters left in the dataset\n",
    "special_chars_present = data['DESCRIPTION'].str.contains(special_char_pattern).any()\n",
    "\n",
    "# Print the result\n",
    "if special_chars_present:\n",
    "    print(\"Special characters are still present in the dataset.\")\n",
    "else:\n",
    "    print(\"No special characters found in the dataset.\")"
   ]
  },
  {
   "cell_type": "code",
   "execution_count": 165,
   "id": "5ffeb664",
   "metadata": {},
   "outputs": [],
   "source": [
    "# Define a regex pattern to match emojis and non-standard symbols\n",
    "# This pattern targets characters outside the typical ASCII range, which includes most emojis and non-standard symbols\n",
    "emoji_pattern = re.compile(\"[\"\n",
    "                           u\"\\U0001F600-\\U0001F64F\"  # emoticons\n",
    "                           u\"\\U0001F300-\\U0001F5FF\"  # symbols & pictographs\n",
    "                           u\"\\U0001F680-\\U0001F6FF\"  # transport & map symbols\n",
    "                           u\"\\U0001F1E0-\\U0001F1FF\"  # flags (iOS)\n",
    "                           u\"\\U00002702-\\U000027B0\"  # Dingbats\n",
    "                           u\"\\U000024C2-\\U0001F251\"  # Enclosed characters\n",
    "                           \"]+\", flags=re.UNICODE)\n",
    "\n",
    "# Function to remove emojis and non-standard symbols\n",
    "def remove_emojis_and_symbols(text):\n",
    "    return emoji_pattern.sub(r'', text)\n",
    "\n",
    "# Apply the function to remove emojis and non-standard symbols from DESCRIPTION\n",
    "data['DESCRIPTION'] = data['DESCRIPTION'].apply(remove_emojis_and_symbols)"
   ]
  },
  {
   "cell_type": "code",
   "execution_count": 166,
   "id": "96f7cd7c",
   "metadata": {},
   "outputs": [
    {
     "name": "stdout",
     "output_type": "stream",
     "text": [
      "No emojis or non-standard symbols found in the dataset.\n"
     ]
    }
   ],
   "source": [
    "contains_emojis_or_symbols = data['DESCRIPTION'].apply(lambda x: bool(emoji_pattern.search(x)))\n",
    "\n",
    "if contains_emojis_or_symbols.any():\n",
    "    print(\"Emojis or non-standard symbols found in some entries.\")\n",
    "    # You can print a sample or save to a CSV file for detailed review\n",
    "    print(data[contains_emojis_or_symbols]['DESCRIPTION'].sample(10))\n",
    "else:\n",
    "    print(\"No emojis or non-standard symbols found in the dataset.\")"
   ]
  },
  {
   "cell_type": "markdown",
   "id": "efc6942c",
   "metadata": {},
   "source": [
    "###   Converting to Lowercase:"
   ]
  },
  {
   "cell_type": "code",
   "execution_count": 167,
   "id": "29f9770a",
   "metadata": {},
   "outputs": [
    {
     "name": "stdout",
     "output_type": "stream",
     "text": [
      "All text in TITLE and DESCRIPTION has been successfully converted to lowercase.\n"
     ]
    }
   ],
   "source": [
    "# Function to convert text to lowercase\n",
    "def convert_to_lowercase(text):\n",
    "    return text.lower()\n",
    "\n",
    "# Apply the function to the TITLE and DESCRIPTION columns\n",
    "data['TITLE'] = data['TITLE'].apply(convert_to_lowercase)\n",
    "data['DESCRIPTION'] = data['DESCRIPTION'].apply(convert_to_lowercase)\n",
    "\n",
    "# Verification\n",
    "title_lowercase_check = (data['TITLE'] == data['TITLE'].str.lower()).all()\n",
    "description_lowercase_check = (data['DESCRIPTION'] == data['DESCRIPTION'].str.lower()).all()\n",
    "\n",
    "if title_lowercase_check and description_lowercase_check:\n",
    "    print(\"All text in TITLE and DESCRIPTION has been successfully converted to lowercase.\")\n",
    "else:\n",
    "    print(\"Some text in TITLE and/or DESCRIPTION has not been converted to lowercase.\")"
   ]
  },
  {
   "cell_type": "markdown",
   "id": "507a5274",
   "metadata": {},
   "source": [
    "### Fixing Encoding Issues"
   ]
  },
  {
   "cell_type": "code",
   "execution_count": 168,
   "id": "5f2234af",
   "metadata": {},
   "outputs": [
    {
     "name": "stdout",
     "output_type": "stream",
     "text": [
      "Data loaded successfully.\n"
     ]
    }
   ],
   "source": [
    "try:\n",
    "    data = pd.read_csv('data/train_data.txt', \n",
    "                       sep=':::', \n",
    "                       engine='python',\n",
    "                       encoding='utf-8',  # Ensure UTF-8 encoding\n",
    "                       on_bad_lines='skip',\n",
    "                       quotechar='\"', \n",
    "                       names=['ID', 'TITLE', 'GENRE', 'DESCRIPTION']\n",
    "                      )\n",
    "    print(\"Data loaded successfully.\")\n",
    "except Exception as e:\n",
    "    print(f\"An error occurred: {e}\")"
   ]
  },
  {
   "cell_type": "markdown",
   "id": "9b274acc",
   "metadata": {},
   "source": [
    "###  Remove Extra Whitespace"
   ]
  },
  {
   "cell_type": "code",
   "execution_count": 169,
   "id": "3023a854",
   "metadata": {},
   "outputs": [
    {
     "name": "stdout",
     "output_type": "stream",
     "text": [
      "No extra white spaces found in the dataset.\n"
     ]
    }
   ],
   "source": [
    "# Function to remove extra white spaces from text\n",
    "def remove_extra_whitespace(text):\n",
    "    return re.sub(r'\\s+', ' ', text).strip()\n",
    "\n",
    "# Apply the function to the DESCRIPTION column\n",
    "data['DESCRIPTION'] = data['DESCRIPTION'].apply(remove_extra_whitespace)\n",
    "\n",
    "# Check if there are any rows with extra white spaces\n",
    "extra_whitespace_present = data['DESCRIPTION'].str.contains(r'\\s{2,}').any()\n",
    "\n",
    "# Print the result\n",
    "if extra_whitespace_present:\n",
    "    print(\"Extra white spaces are still present in the dataset.\")\n",
    "else:\n",
    "    print(\"No extra white spaces found in the dataset.\")"
   ]
  },
  {
   "cell_type": "markdown",
   "id": "d5d9dea0",
   "metadata": {},
   "source": [
    "### Handle Missing Values"
   ]
  },
  {
   "cell_type": "code",
   "execution_count": 170,
   "id": "fe184d1a",
   "metadata": {},
   "outputs": [
    {
     "name": "stdout",
     "output_type": "stream",
     "text": [
      "Missing values handled successfully.\n"
     ]
    }
   ],
   "source": [
    "# Handle missing values\n",
    "data.dropna(inplace=True)\n",
    "\n",
    "# Check for missing values\n",
    "assert not data.isnull().values.any(), \"Missing values are present in the data.\"\n",
    "\n",
    "# Print success message\n",
    "print(\"Missing values handled successfully.\")\n"
   ]
  },
  {
   "cell_type": "markdown",
   "id": "84451fa5",
   "metadata": {},
   "source": [
    "### Remove Non-informative Text"
   ]
  },
  {
   "cell_type": "code",
   "execution_count": 171,
   "id": "0482ef95",
   "metadata": {},
   "outputs": [
    {
     "name": "stdout",
     "output_type": "stream",
     "text": [
      "Non-informative text removed successfully.\n"
     ]
    }
   ],
   "source": [
    "# Define a function to filter non-informative text\n",
    "def filter_non_informative_text(text, min_length=10):\n",
    "    \"\"\"\n",
    "    Filter out non-informative text based on text length.\n",
    "    \n",
    "    Parameters:\n",
    "        text (str): The text to be evaluated.\n",
    "        min_length (int): Minimum length of informative text. Default is 10.\n",
    "        \n",
    "    Returns:\n",
    "        bool: True if the text is informative, False otherwise.\n",
    "    \"\"\"\n",
    "    return len(text) >= min_length\n",
    "\n",
    "# Apply the filter to the DESCRIPTION column\n",
    "data = data[data['DESCRIPTION'].apply(filter_non_informative_text)]\n",
    "\n",
    "# Print success message\n",
    "print(\"Non-informative text removed successfully.\")\n"
   ]
  },
  {
   "cell_type": "code",
   "execution_count": null,
   "id": "c09b12d5",
   "metadata": {},
   "outputs": [],
   "source": []
  }
 ],
 "metadata": {
  "kernelspec": {
   "display_name": "DM_ENV",
   "language": "python",
   "name": "dm_env"
  },
  "language_info": {
   "codemirror_mode": {
    "name": "ipython",
    "version": 3
   },
   "file_extension": ".py",
   "mimetype": "text/x-python",
   "name": "python",
   "nbconvert_exporter": "python",
   "pygments_lexer": "ipython3",
   "version": "3.11.5"
  }
 },
 "nbformat": 4,
 "nbformat_minor": 5
}

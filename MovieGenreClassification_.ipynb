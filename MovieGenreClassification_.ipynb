{
  "cells": [
    {
      "cell_type": "markdown",
      "id": "3c5e9a96",
      "metadata": {
        "id": "3c5e9a96"
      },
      "source": [
        "# Movie Genre Classification"
      ]
    },
    {
      "cell_type": "markdown",
      "id": "e4cd4b85",
      "metadata": {
        "id": "e4cd4b85"
      },
      "source": [
        "Movies are a popular means of entertainment all around the world. With a lot of streaming services and websites available and with more on the horizon, building a predictive model that automatically generates the genre of a movie based on the its plot summary is definitely beneficial as it may reduce the expense of manually tagging the movies."
      ]
    },
    {
      "cell_type": "markdown",
      "id": "9e11513a",
      "metadata": {
        "id": "9e11513a"
      },
      "source": [
        "# Data Understanding"
      ]
    },
    {
      "cell_type": "markdown",
      "id": "db211956",
      "metadata": {
        "id": "db211956"
      },
      "source": [
        "## Preprocessing and Exploratory Data Analysis"
      ]
    },
    {
      "cell_type": "markdown",
      "id": "29e71731",
      "metadata": {
        "id": "29e71731"
      },
      "source": [
        "#### IMPORT NEEDED PACKAGES\n"
      ]
    },
    {
      "cell_type": "code",
      "execution_count": 1,
      "id": "e5210717",
      "metadata": {
        "colab": {
          "base_uri": "https://localhost:8080/"
        },
        "id": "e5210717",
        "outputId": "f95549e7-1123-4e75-afba-1f58159489a4"
      },
      "outputs": [
        {
          "output_type": "stream",
          "name": "stderr",
          "text": [
            "[nltk_data] Downloading package punkt to /root/nltk_data...\n",
            "[nltk_data]   Unzipping tokenizers/punkt.zip.\n",
            "[nltk_data] Downloading package stopwords to /root/nltk_data...\n",
            "[nltk_data]   Unzipping corpora/stopwords.zip.\n",
            "[nltk_data] Downloading package wordnet to /root/nltk_data...\n"
          ]
        }
      ],
      "source": [
        "import pandas as pd\n",
        "from google.colab import drive\n",
        "import re\n",
        "import numpy as np\n",
        "import nltk\n",
        "import matplotlib.pyplot as plt\n",
        "nltk.download('punkt')\n",
        "nltk.download('stopwords')\n",
        "nltk.download('wordnet')\n",
        "from collections import Counter\n",
        "from sklearn.preprocessing import MinMaxScaler, StandardScaler\n",
        "import chardet\n",
        "from nltk.corpus import stopwords\n",
        "from nltk.tokenize import word_tokenize\n",
        "from bs4 import BeautifulSoup\n",
        "import nltk\n",
        "from nltk.corpus import stopwords\n",
        "import spacy\n",
        "from tqdm import tqdm\n",
        "import pandas as pd\n",
        "from google.colab import drive\n",
        "import tensorflow as tf\n",
        "from tensorflow.keras.layers import Dense, Input\n",
        "from tensorflow.keras.optimizers import Adam\n",
        "from tensorflow.keras.models import Model\n",
        "from tensorflow.keras.callbacks import ModelCheckpoint\n",
        "from transformers import TFBertModel, BertTokenizer\n",
        "from sklearn.metrics import classification_report, confusion_matrix\n",
        "from sklearn.ensemble import VotingClassifier\n",
        "from sklearn.preprocessing import StandardScaler\n",
        "from sklearn.ensemble import GradientBoostingClassifier\n",
        "from sklearn.metrics import accuracy_score\n",
        "import xgboost as xgb\n",
        "from sklearn.preprocessing import LabelEncoder\n",
        "from sklearn.model_selection import train_test_split\n",
        "from sklearn.metrics import accuracy_score\n",
        "from sklearn.preprocessing import LabelEncoder\n",
        "from sklearn.model_selection import train_test_split\n",
        "from sklearn.ensemble import RandomForestClassifier\n",
        "from sklearn.decomposition import PCA\n",
        "from sklearn.naive_bayes import GaussianNB\n",
        "import gensim.downloader as api\n",
        "from google.colab import files\n",
        "\n"
      ]
    },
    {
      "cell_type": "markdown",
      "id": "6ad22b06",
      "metadata": {
        "id": "6ad22b06"
      },
      "source": [
        "### Data Information"
      ]
    },
    {
      "cell_type": "code",
      "execution_count": 5,
      "id": "8261e661",
      "metadata": {
        "id": "8261e661"
      },
      "outputs": [],
      "source": [
        "# Loading the dataset\n",
        "\n",
        "file_path = 'train.csv'\n",
        "\n",
        "data = pd.read_csv(file_path, sep=',', engine='python', header=None)\n",
        "\n",
        "data.columns = ['title', 'date_x', 'score', 'GENRE','DESCRIPTION','crew','og_title','status','lang','budget','revenue',\n",
        "                'country']"
      ]
    },
    {
      "cell_type": "code",
      "execution_count": 6,
      "id": "4hQmJaz6NHV2",
      "metadata": {
        "id": "4hQmJaz6NHV2"
      },
      "outputs": [],
      "source": [
        "df=data"
      ]
    },
    {
      "cell_type": "code",
      "execution_count": 7,
      "id": "lxe7MK0LGXHX",
      "metadata": {
        "id": "lxe7MK0LGXHX"
      },
      "outputs": [],
      "source": [
        "# Remove the first row\n",
        "data = data.drop(0)\n",
        "data = data.drop(columns=[col for col in data.columns if col not in ['title', 'DESCRIPTION', 'GENRE']])\n",
        "\n",
        "# Reset the index if needed\n",
        "data = data.reset_index(drop=True)"
      ]
    },
    {
      "cell_type": "code",
      "execution_count": 16,
      "id": "89fd658d",
      "metadata": {
        "colab": {
          "base_uri": "https://localhost:8080/",
          "height": 241
        },
        "id": "89fd658d",
        "outputId": "c4ae6b32-c220-4ff2-e35e-a5cb95d6ed78"
      },
      "outputs": [
        {
          "output_type": "stream",
          "name": "stdout",
          "text": [
            "Number of instances = 10178\n",
            "Number of attributes = 3\n"
          ]
        },
        {
          "output_type": "execute_result",
          "data": {
            "text/plain": [
              "                         title                                          GENRE  \\\n",
              "0                    Creed III                                  Drama, Action   \n",
              "1     Avatar: The Way of Water             Science Fiction, Adventure, Action   \n",
              "2  The Super Mario Bros. Movie  Animation, Adventure, Family, Fantasy, Comedy   \n",
              "3                      Mummies  Animation, Comedy, Family, Adventure, Fantasy   \n",
              "4                    Supercell                                         Action   \n",
              "\n",
              "                                         DESCRIPTION  \n",
              "0  After dominating the boxing world, Adonis Cree...  \n",
              "1  Set more than a decade after the events of the...  \n",
              "2  While working underground to fix a water main,...  \n",
              "3  Through a series of unfortunate events, three ...  \n",
              "4  Good-hearted teenager William always lived in ...  "
            ],
            "text/html": [
              "\n",
              "  <div id=\"df-bdd4922c-c4e5-4da6-93e8-809596cf436f\" class=\"colab-df-container\">\n",
              "    <div>\n",
              "<style scoped>\n",
              "    .dataframe tbody tr th:only-of-type {\n",
              "        vertical-align: middle;\n",
              "    }\n",
              "\n",
              "    .dataframe tbody tr th {\n",
              "        vertical-align: top;\n",
              "    }\n",
              "\n",
              "    .dataframe thead th {\n",
              "        text-align: right;\n",
              "    }\n",
              "</style>\n",
              "<table border=\"1\" class=\"dataframe\">\n",
              "  <thead>\n",
              "    <tr style=\"text-align: right;\">\n",
              "      <th></th>\n",
              "      <th>title</th>\n",
              "      <th>GENRE</th>\n",
              "      <th>DESCRIPTION</th>\n",
              "    </tr>\n",
              "  </thead>\n",
              "  <tbody>\n",
              "    <tr>\n",
              "      <th>0</th>\n",
              "      <td>Creed III</td>\n",
              "      <td>Drama, Action</td>\n",
              "      <td>After dominating the boxing world, Adonis Cree...</td>\n",
              "    </tr>\n",
              "    <tr>\n",
              "      <th>1</th>\n",
              "      <td>Avatar: The Way of Water</td>\n",
              "      <td>Science Fiction, Adventure, Action</td>\n",
              "      <td>Set more than a decade after the events of the...</td>\n",
              "    </tr>\n",
              "    <tr>\n",
              "      <th>2</th>\n",
              "      <td>The Super Mario Bros. Movie</td>\n",
              "      <td>Animation, Adventure, Family, Fantasy, Comedy</td>\n",
              "      <td>While working underground to fix a water main,...</td>\n",
              "    </tr>\n",
              "    <tr>\n",
              "      <th>3</th>\n",
              "      <td>Mummies</td>\n",
              "      <td>Animation, Comedy, Family, Adventure, Fantasy</td>\n",
              "      <td>Through a series of unfortunate events, three ...</td>\n",
              "    </tr>\n",
              "    <tr>\n",
              "      <th>4</th>\n",
              "      <td>Supercell</td>\n",
              "      <td>Action</td>\n",
              "      <td>Good-hearted teenager William always lived in ...</td>\n",
              "    </tr>\n",
              "  </tbody>\n",
              "</table>\n",
              "</div>\n",
              "    <div class=\"colab-df-buttons\">\n",
              "\n",
              "  <div class=\"colab-df-container\">\n",
              "    <button class=\"colab-df-convert\" onclick=\"convertToInteractive('df-bdd4922c-c4e5-4da6-93e8-809596cf436f')\"\n",
              "            title=\"Convert this dataframe to an interactive table.\"\n",
              "            style=\"display:none;\">\n",
              "\n",
              "  <svg xmlns=\"http://www.w3.org/2000/svg\" height=\"24px\" viewBox=\"0 -960 960 960\">\n",
              "    <path d=\"M120-120v-720h720v720H120Zm60-500h600v-160H180v160Zm220 220h160v-160H400v160Zm0 220h160v-160H400v160ZM180-400h160v-160H180v160Zm440 0h160v-160H620v160ZM180-180h160v-160H180v160Zm440 0h160v-160H620v160Z\"/>\n",
              "  </svg>\n",
              "    </button>\n",
              "\n",
              "  <style>\n",
              "    .colab-df-container {\n",
              "      display:flex;\n",
              "      gap: 12px;\n",
              "    }\n",
              "\n",
              "    .colab-df-convert {\n",
              "      background-color: #E8F0FE;\n",
              "      border: none;\n",
              "      border-radius: 50%;\n",
              "      cursor: pointer;\n",
              "      display: none;\n",
              "      fill: #1967D2;\n",
              "      height: 32px;\n",
              "      padding: 0 0 0 0;\n",
              "      width: 32px;\n",
              "    }\n",
              "\n",
              "    .colab-df-convert:hover {\n",
              "      background-color: #E2EBFA;\n",
              "      box-shadow: 0px 1px 2px rgba(60, 64, 67, 0.3), 0px 1px 3px 1px rgba(60, 64, 67, 0.15);\n",
              "      fill: #174EA6;\n",
              "    }\n",
              "\n",
              "    .colab-df-buttons div {\n",
              "      margin-bottom: 4px;\n",
              "    }\n",
              "\n",
              "    [theme=dark] .colab-df-convert {\n",
              "      background-color: #3B4455;\n",
              "      fill: #D2E3FC;\n",
              "    }\n",
              "\n",
              "    [theme=dark] .colab-df-convert:hover {\n",
              "      background-color: #434B5C;\n",
              "      box-shadow: 0px 1px 3px 1px rgba(0, 0, 0, 0.15);\n",
              "      filter: drop-shadow(0px 1px 2px rgba(0, 0, 0, 0.3));\n",
              "      fill: #FFFFFF;\n",
              "    }\n",
              "  </style>\n",
              "\n",
              "    <script>\n",
              "      const buttonEl =\n",
              "        document.querySelector('#df-bdd4922c-c4e5-4da6-93e8-809596cf436f button.colab-df-convert');\n",
              "      buttonEl.style.display =\n",
              "        google.colab.kernel.accessAllowed ? 'block' : 'none';\n",
              "\n",
              "      async function convertToInteractive(key) {\n",
              "        const element = document.querySelector('#df-bdd4922c-c4e5-4da6-93e8-809596cf436f');\n",
              "        const dataTable =\n",
              "          await google.colab.kernel.invokeFunction('convertToInteractive',\n",
              "                                                    [key], {});\n",
              "        if (!dataTable) return;\n",
              "\n",
              "        const docLinkHtml = 'Like what you see? Visit the ' +\n",
              "          '<a target=\"_blank\" href=https://colab.research.google.com/notebooks/data_table.ipynb>data table notebook</a>'\n",
              "          + ' to learn more about interactive tables.';\n",
              "        element.innerHTML = '';\n",
              "        dataTable['output_type'] = 'display_data';\n",
              "        await google.colab.output.renderOutput(dataTable, element);\n",
              "        const docLink = document.createElement('div');\n",
              "        docLink.innerHTML = docLinkHtml;\n",
              "        element.appendChild(docLink);\n",
              "      }\n",
              "    </script>\n",
              "  </div>\n",
              "\n",
              "\n",
              "<div id=\"df-c5884da9-3d4e-4e3c-9e29-467a0adb21df\">\n",
              "  <button class=\"colab-df-quickchart\" onclick=\"quickchart('df-c5884da9-3d4e-4e3c-9e29-467a0adb21df')\"\n",
              "            title=\"Suggest charts\"\n",
              "            style=\"display:none;\">\n",
              "\n",
              "<svg xmlns=\"http://www.w3.org/2000/svg\" height=\"24px\"viewBox=\"0 0 24 24\"\n",
              "     width=\"24px\">\n",
              "    <g>\n",
              "        <path d=\"M19 3H5c-1.1 0-2 .9-2 2v14c0 1.1.9 2 2 2h14c1.1 0 2-.9 2-2V5c0-1.1-.9-2-2-2zM9 17H7v-7h2v7zm4 0h-2V7h2v10zm4 0h-2v-4h2v4z\"/>\n",
              "    </g>\n",
              "</svg>\n",
              "  </button>\n",
              "\n",
              "<style>\n",
              "  .colab-df-quickchart {\n",
              "      --bg-color: #E8F0FE;\n",
              "      --fill-color: #1967D2;\n",
              "      --hover-bg-color: #E2EBFA;\n",
              "      --hover-fill-color: #174EA6;\n",
              "      --disabled-fill-color: #AAA;\n",
              "      --disabled-bg-color: #DDD;\n",
              "  }\n",
              "\n",
              "  [theme=dark] .colab-df-quickchart {\n",
              "      --bg-color: #3B4455;\n",
              "      --fill-color: #D2E3FC;\n",
              "      --hover-bg-color: #434B5C;\n",
              "      --hover-fill-color: #FFFFFF;\n",
              "      --disabled-bg-color: #3B4455;\n",
              "      --disabled-fill-color: #666;\n",
              "  }\n",
              "\n",
              "  .colab-df-quickchart {\n",
              "    background-color: var(--bg-color);\n",
              "    border: none;\n",
              "    border-radius: 50%;\n",
              "    cursor: pointer;\n",
              "    display: none;\n",
              "    fill: var(--fill-color);\n",
              "    height: 32px;\n",
              "    padding: 0;\n",
              "    width: 32px;\n",
              "  }\n",
              "\n",
              "  .colab-df-quickchart:hover {\n",
              "    background-color: var(--hover-bg-color);\n",
              "    box-shadow: 0 1px 2px rgba(60, 64, 67, 0.3), 0 1px 3px 1px rgba(60, 64, 67, 0.15);\n",
              "    fill: var(--button-hover-fill-color);\n",
              "  }\n",
              "\n",
              "  .colab-df-quickchart-complete:disabled,\n",
              "  .colab-df-quickchart-complete:disabled:hover {\n",
              "    background-color: var(--disabled-bg-color);\n",
              "    fill: var(--disabled-fill-color);\n",
              "    box-shadow: none;\n",
              "  }\n",
              "\n",
              "  .colab-df-spinner {\n",
              "    border: 2px solid var(--fill-color);\n",
              "    border-color: transparent;\n",
              "    border-bottom-color: var(--fill-color);\n",
              "    animation:\n",
              "      spin 1s steps(1) infinite;\n",
              "  }\n",
              "\n",
              "  @keyframes spin {\n",
              "    0% {\n",
              "      border-color: transparent;\n",
              "      border-bottom-color: var(--fill-color);\n",
              "      border-left-color: var(--fill-color);\n",
              "    }\n",
              "    20% {\n",
              "      border-color: transparent;\n",
              "      border-left-color: var(--fill-color);\n",
              "      border-top-color: var(--fill-color);\n",
              "    }\n",
              "    30% {\n",
              "      border-color: transparent;\n",
              "      border-left-color: var(--fill-color);\n",
              "      border-top-color: var(--fill-color);\n",
              "      border-right-color: var(--fill-color);\n",
              "    }\n",
              "    40% {\n",
              "      border-color: transparent;\n",
              "      border-right-color: var(--fill-color);\n",
              "      border-top-color: var(--fill-color);\n",
              "    }\n",
              "    60% {\n",
              "      border-color: transparent;\n",
              "      border-right-color: var(--fill-color);\n",
              "    }\n",
              "    80% {\n",
              "      border-color: transparent;\n",
              "      border-right-color: var(--fill-color);\n",
              "      border-bottom-color: var(--fill-color);\n",
              "    }\n",
              "    90% {\n",
              "      border-color: transparent;\n",
              "      border-bottom-color: var(--fill-color);\n",
              "    }\n",
              "  }\n",
              "</style>\n",
              "\n",
              "  <script>\n",
              "    async function quickchart(key) {\n",
              "      const quickchartButtonEl =\n",
              "        document.querySelector('#' + key + ' button');\n",
              "      quickchartButtonEl.disabled = true;  // To prevent multiple clicks.\n",
              "      quickchartButtonEl.classList.add('colab-df-spinner');\n",
              "      try {\n",
              "        const charts = await google.colab.kernel.invokeFunction(\n",
              "            'suggestCharts', [key], {});\n",
              "      } catch (error) {\n",
              "        console.error('Error during call to suggestCharts:', error);\n",
              "      }\n",
              "      quickchartButtonEl.classList.remove('colab-df-spinner');\n",
              "      quickchartButtonEl.classList.add('colab-df-quickchart-complete');\n",
              "    }\n",
              "    (() => {\n",
              "      let quickchartButtonEl =\n",
              "        document.querySelector('#df-c5884da9-3d4e-4e3c-9e29-467a0adb21df button');\n",
              "      quickchartButtonEl.style.display =\n",
              "        google.colab.kernel.accessAllowed ? 'block' : 'none';\n",
              "    })();\n",
              "  </script>\n",
              "</div>\n",
              "    </div>\n",
              "  </div>\n"
            ],
            "application/vnd.google.colaboratory.intrinsic+json": {
              "type": "dataframe",
              "variable_name": "data",
              "summary": "{\n  \"name\": \"data\",\n  \"rows\": 10178,\n  \"fields\": [\n    {\n      \"column\": \"title\",\n      \"properties\": {\n        \"dtype\": \"string\",\n        \"num_unique_values\": 9660,\n        \"samples\": [\n          \"Dragonheart 3: The Sorcerer's Curse\",\n          \"You Again\",\n          \"Time Trap\"\n        ],\n        \"semantic_type\": \"\",\n        \"description\": \"\"\n      }\n    },\n    {\n      \"column\": \"GENRE\",\n      \"properties\": {\n        \"dtype\": \"category\",\n        \"num_unique_values\": 2303,\n        \"samples\": [\n          \"Horror,\\u00a0Drama,\\u00a0Thriller,\\u00a0Fantasy\",\n          \"Fantasy,\\u00a0Horror,\\u00a0Thriller,\\u00a0Drama\",\n          \"Animation,\\u00a0Family,\\u00a0Comedy,\\u00a0Science Fiction,\\u00a0Adventure\"\n        ],\n        \"semantic_type\": \"\",\n        \"description\": \"\"\n      }\n    },\n    {\n      \"column\": \"DESCRIPTION\",\n      \"properties\": {\n        \"dtype\": \"string\",\n        \"num_unique_values\": 9905,\n        \"samples\": [\n          \"Nick Hume is a mild-mannered executive with a perfect life, until one gruesome night he witnesses something that changes him forever. Transformed by grief, Hume eventually comes to the disturbing conclusion that no length is too great when protecting his family.\",\n          \"Control \\u2014 the Commonwealth's covert ops group \\u2014 suspects a double agent within the Kingdom's royal family and dispatches Ange and the rest of \\\"Team White Pigeon\\\" to discover the truth.  The first chapter of six-part film sequels for Princess Principal series.\",\n          \"A rich woman is losing her attractiveness and longs for passion with her husband, who is having an affair with his younger and more attractive masseuse. In order to boost her image, she seeks out the help of a local chef, who cooks some special dumplings which she are claimed to be effective for rejuvenation, but these dumplings hide a terrible secret.\"\n        ],\n        \"semantic_type\": \"\",\n        \"description\": \"\"\n      }\n    }\n  ]\n}"
            }
          },
          "metadata": {},
          "execution_count": 16
        }
      ],
      "source": [
        "print('Number of instances = %d' % (data.shape[0]))\n",
        "print('Number of attributes = %d' % (data.shape[1]))\n",
        "data.head()"
      ]
    },
    {
      "cell_type": "markdown",
      "id": "8fe45ba7",
      "metadata": {
        "id": "8fe45ba7"
      },
      "source": [
        "#### Data Types"
      ]
    },
    {
      "cell_type": "code",
      "execution_count": 17,
      "id": "3ee1cc02",
      "metadata": {
        "colab": {
          "base_uri": "https://localhost:8080/"
        },
        "id": "3ee1cc02",
        "outputId": "21b43d74-321c-4754-e9f2-b2def04456a1"
      },
      "outputs": [
        {
          "output_type": "execute_result",
          "data": {
            "text/plain": [
              "title          object\n",
              "GENRE          object\n",
              "DESCRIPTION    object\n",
              "dtype: object"
            ]
          },
          "metadata": {},
          "execution_count": 17
        }
      ],
      "source": [
        "# Printing data types of DataFrame\n",
        "data.dtypes"
      ]
    },
    {
      "cell_type": "code",
      "execution_count": 18,
      "id": "b65e4990",
      "metadata": {
        "colab": {
          "base_uri": "https://localhost:8080/"
        },
        "id": "b65e4990",
        "outputId": "4b0e0263-b746-4258-bf39-7ebb8f94cb9b"
      },
      "outputs": [
        {
          "output_type": "execute_result",
          "data": {
            "text/plain": [
              "Index(['title', 'GENRE', 'DESCRIPTION'], dtype='object')"
            ]
          },
          "metadata": {},
          "execution_count": 18
        }
      ],
      "source": [
        "data.columns"
      ]
    },
    {
      "cell_type": "code",
      "execution_count": 19,
      "id": "d09aa8ee",
      "metadata": {
        "colab": {
          "base_uri": "https://localhost:8080/",
          "height": 206
        },
        "id": "d09aa8ee",
        "outputId": "afec3266-99eb-494d-faad-008348773d48"
      },
      "outputs": [
        {
          "output_type": "execute_result",
          "data": {
            "text/plain": [
              "                         title                                          GENRE  \\\n",
              "0                    Creed III                                  Drama, Action   \n",
              "1     Avatar: The Way of Water             Science Fiction, Adventure, Action   \n",
              "2  The Super Mario Bros. Movie  Animation, Adventure, Family, Fantasy, Comedy   \n",
              "3                      Mummies  Animation, Comedy, Family, Adventure, Fantasy   \n",
              "4                    Supercell                                         Action   \n",
              "\n",
              "                                         DESCRIPTION  \n",
              "0  After dominating the boxing world, Adonis Cree...  \n",
              "1  Set more than a decade after the events of the...  \n",
              "2  While working underground to fix a water main,...  \n",
              "3  Through a series of unfortunate events, three ...  \n",
              "4  Good-hearted teenager William always lived in ...  "
            ],
            "text/html": [
              "\n",
              "  <div id=\"df-486ee7a6-f468-4e9d-ba5e-9ecd1272e605\" class=\"colab-df-container\">\n",
              "    <div>\n",
              "<style scoped>\n",
              "    .dataframe tbody tr th:only-of-type {\n",
              "        vertical-align: middle;\n",
              "    }\n",
              "\n",
              "    .dataframe tbody tr th {\n",
              "        vertical-align: top;\n",
              "    }\n",
              "\n",
              "    .dataframe thead th {\n",
              "        text-align: right;\n",
              "    }\n",
              "</style>\n",
              "<table border=\"1\" class=\"dataframe\">\n",
              "  <thead>\n",
              "    <tr style=\"text-align: right;\">\n",
              "      <th></th>\n",
              "      <th>title</th>\n",
              "      <th>GENRE</th>\n",
              "      <th>DESCRIPTION</th>\n",
              "    </tr>\n",
              "  </thead>\n",
              "  <tbody>\n",
              "    <tr>\n",
              "      <th>0</th>\n",
              "      <td>Creed III</td>\n",
              "      <td>Drama, Action</td>\n",
              "      <td>After dominating the boxing world, Adonis Cree...</td>\n",
              "    </tr>\n",
              "    <tr>\n",
              "      <th>1</th>\n",
              "      <td>Avatar: The Way of Water</td>\n",
              "      <td>Science Fiction, Adventure, Action</td>\n",
              "      <td>Set more than a decade after the events of the...</td>\n",
              "    </tr>\n",
              "    <tr>\n",
              "      <th>2</th>\n",
              "      <td>The Super Mario Bros. Movie</td>\n",
              "      <td>Animation, Adventure, Family, Fantasy, Comedy</td>\n",
              "      <td>While working underground to fix a water main,...</td>\n",
              "    </tr>\n",
              "    <tr>\n",
              "      <th>3</th>\n",
              "      <td>Mummies</td>\n",
              "      <td>Animation, Comedy, Family, Adventure, Fantasy</td>\n",
              "      <td>Through a series of unfortunate events, three ...</td>\n",
              "    </tr>\n",
              "    <tr>\n",
              "      <th>4</th>\n",
              "      <td>Supercell</td>\n",
              "      <td>Action</td>\n",
              "      <td>Good-hearted teenager William always lived in ...</td>\n",
              "    </tr>\n",
              "  </tbody>\n",
              "</table>\n",
              "</div>\n",
              "    <div class=\"colab-df-buttons\">\n",
              "\n",
              "  <div class=\"colab-df-container\">\n",
              "    <button class=\"colab-df-convert\" onclick=\"convertToInteractive('df-486ee7a6-f468-4e9d-ba5e-9ecd1272e605')\"\n",
              "            title=\"Convert this dataframe to an interactive table.\"\n",
              "            style=\"display:none;\">\n",
              "\n",
              "  <svg xmlns=\"http://www.w3.org/2000/svg\" height=\"24px\" viewBox=\"0 -960 960 960\">\n",
              "    <path d=\"M120-120v-720h720v720H120Zm60-500h600v-160H180v160Zm220 220h160v-160H400v160Zm0 220h160v-160H400v160ZM180-400h160v-160H180v160Zm440 0h160v-160H620v160ZM180-180h160v-160H180v160Zm440 0h160v-160H620v160Z\"/>\n",
              "  </svg>\n",
              "    </button>\n",
              "\n",
              "  <style>\n",
              "    .colab-df-container {\n",
              "      display:flex;\n",
              "      gap: 12px;\n",
              "    }\n",
              "\n",
              "    .colab-df-convert {\n",
              "      background-color: #E8F0FE;\n",
              "      border: none;\n",
              "      border-radius: 50%;\n",
              "      cursor: pointer;\n",
              "      display: none;\n",
              "      fill: #1967D2;\n",
              "      height: 32px;\n",
              "      padding: 0 0 0 0;\n",
              "      width: 32px;\n",
              "    }\n",
              "\n",
              "    .colab-df-convert:hover {\n",
              "      background-color: #E2EBFA;\n",
              "      box-shadow: 0px 1px 2px rgba(60, 64, 67, 0.3), 0px 1px 3px 1px rgba(60, 64, 67, 0.15);\n",
              "      fill: #174EA6;\n",
              "    }\n",
              "\n",
              "    .colab-df-buttons div {\n",
              "      margin-bottom: 4px;\n",
              "    }\n",
              "\n",
              "    [theme=dark] .colab-df-convert {\n",
              "      background-color: #3B4455;\n",
              "      fill: #D2E3FC;\n",
              "    }\n",
              "\n",
              "    [theme=dark] .colab-df-convert:hover {\n",
              "      background-color: #434B5C;\n",
              "      box-shadow: 0px 1px 3px 1px rgba(0, 0, 0, 0.15);\n",
              "      filter: drop-shadow(0px 1px 2px rgba(0, 0, 0, 0.3));\n",
              "      fill: #FFFFFF;\n",
              "    }\n",
              "  </style>\n",
              "\n",
              "    <script>\n",
              "      const buttonEl =\n",
              "        document.querySelector('#df-486ee7a6-f468-4e9d-ba5e-9ecd1272e605 button.colab-df-convert');\n",
              "      buttonEl.style.display =\n",
              "        google.colab.kernel.accessAllowed ? 'block' : 'none';\n",
              "\n",
              "      async function convertToInteractive(key) {\n",
              "        const element = document.querySelector('#df-486ee7a6-f468-4e9d-ba5e-9ecd1272e605');\n",
              "        const dataTable =\n",
              "          await google.colab.kernel.invokeFunction('convertToInteractive',\n",
              "                                                    [key], {});\n",
              "        if (!dataTable) return;\n",
              "\n",
              "        const docLinkHtml = 'Like what you see? Visit the ' +\n",
              "          '<a target=\"_blank\" href=https://colab.research.google.com/notebooks/data_table.ipynb>data table notebook</a>'\n",
              "          + ' to learn more about interactive tables.';\n",
              "        element.innerHTML = '';\n",
              "        dataTable['output_type'] = 'display_data';\n",
              "        await google.colab.output.renderOutput(dataTable, element);\n",
              "        const docLink = document.createElement('div');\n",
              "        docLink.innerHTML = docLinkHtml;\n",
              "        element.appendChild(docLink);\n",
              "      }\n",
              "    </script>\n",
              "  </div>\n",
              "\n",
              "\n",
              "<div id=\"df-36be40e6-f84a-4ca9-8e99-d4529e1b9df1\">\n",
              "  <button class=\"colab-df-quickchart\" onclick=\"quickchart('df-36be40e6-f84a-4ca9-8e99-d4529e1b9df1')\"\n",
              "            title=\"Suggest charts\"\n",
              "            style=\"display:none;\">\n",
              "\n",
              "<svg xmlns=\"http://www.w3.org/2000/svg\" height=\"24px\"viewBox=\"0 0 24 24\"\n",
              "     width=\"24px\">\n",
              "    <g>\n",
              "        <path d=\"M19 3H5c-1.1 0-2 .9-2 2v14c0 1.1.9 2 2 2h14c1.1 0 2-.9 2-2V5c0-1.1-.9-2-2-2zM9 17H7v-7h2v7zm4 0h-2V7h2v10zm4 0h-2v-4h2v4z\"/>\n",
              "    </g>\n",
              "</svg>\n",
              "  </button>\n",
              "\n",
              "<style>\n",
              "  .colab-df-quickchart {\n",
              "      --bg-color: #E8F0FE;\n",
              "      --fill-color: #1967D2;\n",
              "      --hover-bg-color: #E2EBFA;\n",
              "      --hover-fill-color: #174EA6;\n",
              "      --disabled-fill-color: #AAA;\n",
              "      --disabled-bg-color: #DDD;\n",
              "  }\n",
              "\n",
              "  [theme=dark] .colab-df-quickchart {\n",
              "      --bg-color: #3B4455;\n",
              "      --fill-color: #D2E3FC;\n",
              "      --hover-bg-color: #434B5C;\n",
              "      --hover-fill-color: #FFFFFF;\n",
              "      --disabled-bg-color: #3B4455;\n",
              "      --disabled-fill-color: #666;\n",
              "  }\n",
              "\n",
              "  .colab-df-quickchart {\n",
              "    background-color: var(--bg-color);\n",
              "    border: none;\n",
              "    border-radius: 50%;\n",
              "    cursor: pointer;\n",
              "    display: none;\n",
              "    fill: var(--fill-color);\n",
              "    height: 32px;\n",
              "    padding: 0;\n",
              "    width: 32px;\n",
              "  }\n",
              "\n",
              "  .colab-df-quickchart:hover {\n",
              "    background-color: var(--hover-bg-color);\n",
              "    box-shadow: 0 1px 2px rgba(60, 64, 67, 0.3), 0 1px 3px 1px rgba(60, 64, 67, 0.15);\n",
              "    fill: var(--button-hover-fill-color);\n",
              "  }\n",
              "\n",
              "  .colab-df-quickchart-complete:disabled,\n",
              "  .colab-df-quickchart-complete:disabled:hover {\n",
              "    background-color: var(--disabled-bg-color);\n",
              "    fill: var(--disabled-fill-color);\n",
              "    box-shadow: none;\n",
              "  }\n",
              "\n",
              "  .colab-df-spinner {\n",
              "    border: 2px solid var(--fill-color);\n",
              "    border-color: transparent;\n",
              "    border-bottom-color: var(--fill-color);\n",
              "    animation:\n",
              "      spin 1s steps(1) infinite;\n",
              "  }\n",
              "\n",
              "  @keyframes spin {\n",
              "    0% {\n",
              "      border-color: transparent;\n",
              "      border-bottom-color: var(--fill-color);\n",
              "      border-left-color: var(--fill-color);\n",
              "    }\n",
              "    20% {\n",
              "      border-color: transparent;\n",
              "      border-left-color: var(--fill-color);\n",
              "      border-top-color: var(--fill-color);\n",
              "    }\n",
              "    30% {\n",
              "      border-color: transparent;\n",
              "      border-left-color: var(--fill-color);\n",
              "      border-top-color: var(--fill-color);\n",
              "      border-right-color: var(--fill-color);\n",
              "    }\n",
              "    40% {\n",
              "      border-color: transparent;\n",
              "      border-right-color: var(--fill-color);\n",
              "      border-top-color: var(--fill-color);\n",
              "    }\n",
              "    60% {\n",
              "      border-color: transparent;\n",
              "      border-right-color: var(--fill-color);\n",
              "    }\n",
              "    80% {\n",
              "      border-color: transparent;\n",
              "      border-right-color: var(--fill-color);\n",
              "      border-bottom-color: var(--fill-color);\n",
              "    }\n",
              "    90% {\n",
              "      border-color: transparent;\n",
              "      border-bottom-color: var(--fill-color);\n",
              "    }\n",
              "  }\n",
              "</style>\n",
              "\n",
              "  <script>\n",
              "    async function quickchart(key) {\n",
              "      const quickchartButtonEl =\n",
              "        document.querySelector('#' + key + ' button');\n",
              "      quickchartButtonEl.disabled = true;  // To prevent multiple clicks.\n",
              "      quickchartButtonEl.classList.add('colab-df-spinner');\n",
              "      try {\n",
              "        const charts = await google.colab.kernel.invokeFunction(\n",
              "            'suggestCharts', [key], {});\n",
              "      } catch (error) {\n",
              "        console.error('Error during call to suggestCharts:', error);\n",
              "      }\n",
              "      quickchartButtonEl.classList.remove('colab-df-spinner');\n",
              "      quickchartButtonEl.classList.add('colab-df-quickchart-complete');\n",
              "    }\n",
              "    (() => {\n",
              "      let quickchartButtonEl =\n",
              "        document.querySelector('#df-36be40e6-f84a-4ca9-8e99-d4529e1b9df1 button');\n",
              "      quickchartButtonEl.style.display =\n",
              "        google.colab.kernel.accessAllowed ? 'block' : 'none';\n",
              "    })();\n",
              "  </script>\n",
              "</div>\n",
              "    </div>\n",
              "  </div>\n"
            ],
            "application/vnd.google.colaboratory.intrinsic+json": {
              "type": "dataframe",
              "variable_name": "data",
              "summary": "{\n  \"name\": \"data\",\n  \"rows\": 10178,\n  \"fields\": [\n    {\n      \"column\": \"title\",\n      \"properties\": {\n        \"dtype\": \"string\",\n        \"num_unique_values\": 9660,\n        \"samples\": [\n          \"Dragonheart 3: The Sorcerer's Curse\",\n          \"You Again\",\n          \"Time Trap\"\n        ],\n        \"semantic_type\": \"\",\n        \"description\": \"\"\n      }\n    },\n    {\n      \"column\": \"GENRE\",\n      \"properties\": {\n        \"dtype\": \"category\",\n        \"num_unique_values\": 2303,\n        \"samples\": [\n          \"Horror,\\u00a0Drama,\\u00a0Thriller,\\u00a0Fantasy\",\n          \"Fantasy,\\u00a0Horror,\\u00a0Thriller,\\u00a0Drama\",\n          \"Animation,\\u00a0Family,\\u00a0Comedy,\\u00a0Science Fiction,\\u00a0Adventure\"\n        ],\n        \"semantic_type\": \"\",\n        \"description\": \"\"\n      }\n    },\n    {\n      \"column\": \"DESCRIPTION\",\n      \"properties\": {\n        \"dtype\": \"string\",\n        \"num_unique_values\": 9905,\n        \"samples\": [\n          \"Nick Hume is a mild-mannered executive with a perfect life, until one gruesome night he witnesses something that changes him forever. Transformed by grief, Hume eventually comes to the disturbing conclusion that no length is too great when protecting his family.\",\n          \"Control \\u2014 the Commonwealth's covert ops group \\u2014 suspects a double agent within the Kingdom's royal family and dispatches Ange and the rest of \\\"Team White Pigeon\\\" to discover the truth.  The first chapter of six-part film sequels for Princess Principal series.\",\n          \"A rich woman is losing her attractiveness and longs for passion with her husband, who is having an affair with his younger and more attractive masseuse. In order to boost her image, she seeks out the help of a local chef, who cooks some special dumplings which she are claimed to be effective for rejuvenation, but these dumplings hide a terrible secret.\"\n        ],\n        \"semantic_type\": \"\",\n        \"description\": \"\"\n      }\n    }\n  ]\n}"
            }
          },
          "metadata": {},
          "execution_count": 19
        }
      ],
      "source": [
        "data.head(5)"
      ]
    },
    {
      "cell_type": "markdown",
      "id": "2f3b5666",
      "metadata": {
        "id": "2f3b5666"
      },
      "source": [
        "#### Dataframe Statistics"
      ]
    },
    {
      "cell_type": "code",
      "execution_count": 20,
      "id": "c3b48ec2",
      "metadata": {
        "colab": {
          "base_uri": "https://localhost:8080/",
          "height": 144
        },
        "id": "c3b48ec2",
        "outputId": "94ca61b9-8a75-4023-d057-eb08d1140f38"
      },
      "outputs": [
        {
          "output_type": "execute_result",
          "data": {
            "text/plain": [
              "             count unique                                                top  \\\n",
              "title        10178   9660                                          Pinocchio   \n",
              "GENRE        10093   2303                                              Drama   \n",
              "DESCRIPTION  10178   9905  We don't have an overview translated in Englis...   \n",
              "\n",
              "            freq  \n",
              "title         12  \n",
              "GENRE        556  \n",
              "DESCRIPTION   89  "
            ],
            "text/html": [
              "\n",
              "  <div id=\"df-4e44b9f0-8c1d-4599-ae82-0f6131f740d2\" class=\"colab-df-container\">\n",
              "    <div>\n",
              "<style scoped>\n",
              "    .dataframe tbody tr th:only-of-type {\n",
              "        vertical-align: middle;\n",
              "    }\n",
              "\n",
              "    .dataframe tbody tr th {\n",
              "        vertical-align: top;\n",
              "    }\n",
              "\n",
              "    .dataframe thead th {\n",
              "        text-align: right;\n",
              "    }\n",
              "</style>\n",
              "<table border=\"1\" class=\"dataframe\">\n",
              "  <thead>\n",
              "    <tr style=\"text-align: right;\">\n",
              "      <th></th>\n",
              "      <th>count</th>\n",
              "      <th>unique</th>\n",
              "      <th>top</th>\n",
              "      <th>freq</th>\n",
              "    </tr>\n",
              "  </thead>\n",
              "  <tbody>\n",
              "    <tr>\n",
              "      <th>title</th>\n",
              "      <td>10178</td>\n",
              "      <td>9660</td>\n",
              "      <td>Pinocchio</td>\n",
              "      <td>12</td>\n",
              "    </tr>\n",
              "    <tr>\n",
              "      <th>GENRE</th>\n",
              "      <td>10093</td>\n",
              "      <td>2303</td>\n",
              "      <td>Drama</td>\n",
              "      <td>556</td>\n",
              "    </tr>\n",
              "    <tr>\n",
              "      <th>DESCRIPTION</th>\n",
              "      <td>10178</td>\n",
              "      <td>9905</td>\n",
              "      <td>We don't have an overview translated in Englis...</td>\n",
              "      <td>89</td>\n",
              "    </tr>\n",
              "  </tbody>\n",
              "</table>\n",
              "</div>\n",
              "    <div class=\"colab-df-buttons\">\n",
              "\n",
              "  <div class=\"colab-df-container\">\n",
              "    <button class=\"colab-df-convert\" onclick=\"convertToInteractive('df-4e44b9f0-8c1d-4599-ae82-0f6131f740d2')\"\n",
              "            title=\"Convert this dataframe to an interactive table.\"\n",
              "            style=\"display:none;\">\n",
              "\n",
              "  <svg xmlns=\"http://www.w3.org/2000/svg\" height=\"24px\" viewBox=\"0 -960 960 960\">\n",
              "    <path d=\"M120-120v-720h720v720H120Zm60-500h600v-160H180v160Zm220 220h160v-160H400v160Zm0 220h160v-160H400v160ZM180-400h160v-160H180v160Zm440 0h160v-160H620v160ZM180-180h160v-160H180v160Zm440 0h160v-160H620v160Z\"/>\n",
              "  </svg>\n",
              "    </button>\n",
              "\n",
              "  <style>\n",
              "    .colab-df-container {\n",
              "      display:flex;\n",
              "      gap: 12px;\n",
              "    }\n",
              "\n",
              "    .colab-df-convert {\n",
              "      background-color: #E8F0FE;\n",
              "      border: none;\n",
              "      border-radius: 50%;\n",
              "      cursor: pointer;\n",
              "      display: none;\n",
              "      fill: #1967D2;\n",
              "      height: 32px;\n",
              "      padding: 0 0 0 0;\n",
              "      width: 32px;\n",
              "    }\n",
              "\n",
              "    .colab-df-convert:hover {\n",
              "      background-color: #E2EBFA;\n",
              "      box-shadow: 0px 1px 2px rgba(60, 64, 67, 0.3), 0px 1px 3px 1px rgba(60, 64, 67, 0.15);\n",
              "      fill: #174EA6;\n",
              "    }\n",
              "\n",
              "    .colab-df-buttons div {\n",
              "      margin-bottom: 4px;\n",
              "    }\n",
              "\n",
              "    [theme=dark] .colab-df-convert {\n",
              "      background-color: #3B4455;\n",
              "      fill: #D2E3FC;\n",
              "    }\n",
              "\n",
              "    [theme=dark] .colab-df-convert:hover {\n",
              "      background-color: #434B5C;\n",
              "      box-shadow: 0px 1px 3px 1px rgba(0, 0, 0, 0.15);\n",
              "      filter: drop-shadow(0px 1px 2px rgba(0, 0, 0, 0.3));\n",
              "      fill: #FFFFFF;\n",
              "    }\n",
              "  </style>\n",
              "\n",
              "    <script>\n",
              "      const buttonEl =\n",
              "        document.querySelector('#df-4e44b9f0-8c1d-4599-ae82-0f6131f740d2 button.colab-df-convert');\n",
              "      buttonEl.style.display =\n",
              "        google.colab.kernel.accessAllowed ? 'block' : 'none';\n",
              "\n",
              "      async function convertToInteractive(key) {\n",
              "        const element = document.querySelector('#df-4e44b9f0-8c1d-4599-ae82-0f6131f740d2');\n",
              "        const dataTable =\n",
              "          await google.colab.kernel.invokeFunction('convertToInteractive',\n",
              "                                                    [key], {});\n",
              "        if (!dataTable) return;\n",
              "\n",
              "        const docLinkHtml = 'Like what you see? Visit the ' +\n",
              "          '<a target=\"_blank\" href=https://colab.research.google.com/notebooks/data_table.ipynb>data table notebook</a>'\n",
              "          + ' to learn more about interactive tables.';\n",
              "        element.innerHTML = '';\n",
              "        dataTable['output_type'] = 'display_data';\n",
              "        await google.colab.output.renderOutput(dataTable, element);\n",
              "        const docLink = document.createElement('div');\n",
              "        docLink.innerHTML = docLinkHtml;\n",
              "        element.appendChild(docLink);\n",
              "      }\n",
              "    </script>\n",
              "  </div>\n",
              "\n",
              "\n",
              "<div id=\"df-7d42a444-4ade-4e5d-97aa-cfdf29e3b545\">\n",
              "  <button class=\"colab-df-quickchart\" onclick=\"quickchart('df-7d42a444-4ade-4e5d-97aa-cfdf29e3b545')\"\n",
              "            title=\"Suggest charts\"\n",
              "            style=\"display:none;\">\n",
              "\n",
              "<svg xmlns=\"http://www.w3.org/2000/svg\" height=\"24px\"viewBox=\"0 0 24 24\"\n",
              "     width=\"24px\">\n",
              "    <g>\n",
              "        <path d=\"M19 3H5c-1.1 0-2 .9-2 2v14c0 1.1.9 2 2 2h14c1.1 0 2-.9 2-2V5c0-1.1-.9-2-2-2zM9 17H7v-7h2v7zm4 0h-2V7h2v10zm4 0h-2v-4h2v4z\"/>\n",
              "    </g>\n",
              "</svg>\n",
              "  </button>\n",
              "\n",
              "<style>\n",
              "  .colab-df-quickchart {\n",
              "      --bg-color: #E8F0FE;\n",
              "      --fill-color: #1967D2;\n",
              "      --hover-bg-color: #E2EBFA;\n",
              "      --hover-fill-color: #174EA6;\n",
              "      --disabled-fill-color: #AAA;\n",
              "      --disabled-bg-color: #DDD;\n",
              "  }\n",
              "\n",
              "  [theme=dark] .colab-df-quickchart {\n",
              "      --bg-color: #3B4455;\n",
              "      --fill-color: #D2E3FC;\n",
              "      --hover-bg-color: #434B5C;\n",
              "      --hover-fill-color: #FFFFFF;\n",
              "      --disabled-bg-color: #3B4455;\n",
              "      --disabled-fill-color: #666;\n",
              "  }\n",
              "\n",
              "  .colab-df-quickchart {\n",
              "    background-color: var(--bg-color);\n",
              "    border: none;\n",
              "    border-radius: 50%;\n",
              "    cursor: pointer;\n",
              "    display: none;\n",
              "    fill: var(--fill-color);\n",
              "    height: 32px;\n",
              "    padding: 0;\n",
              "    width: 32px;\n",
              "  }\n",
              "\n",
              "  .colab-df-quickchart:hover {\n",
              "    background-color: var(--hover-bg-color);\n",
              "    box-shadow: 0 1px 2px rgba(60, 64, 67, 0.3), 0 1px 3px 1px rgba(60, 64, 67, 0.15);\n",
              "    fill: var(--button-hover-fill-color);\n",
              "  }\n",
              "\n",
              "  .colab-df-quickchart-complete:disabled,\n",
              "  .colab-df-quickchart-complete:disabled:hover {\n",
              "    background-color: var(--disabled-bg-color);\n",
              "    fill: var(--disabled-fill-color);\n",
              "    box-shadow: none;\n",
              "  }\n",
              "\n",
              "  .colab-df-spinner {\n",
              "    border: 2px solid var(--fill-color);\n",
              "    border-color: transparent;\n",
              "    border-bottom-color: var(--fill-color);\n",
              "    animation:\n",
              "      spin 1s steps(1) infinite;\n",
              "  }\n",
              "\n",
              "  @keyframes spin {\n",
              "    0% {\n",
              "      border-color: transparent;\n",
              "      border-bottom-color: var(--fill-color);\n",
              "      border-left-color: var(--fill-color);\n",
              "    }\n",
              "    20% {\n",
              "      border-color: transparent;\n",
              "      border-left-color: var(--fill-color);\n",
              "      border-top-color: var(--fill-color);\n",
              "    }\n",
              "    30% {\n",
              "      border-color: transparent;\n",
              "      border-left-color: var(--fill-color);\n",
              "      border-top-color: var(--fill-color);\n",
              "      border-right-color: var(--fill-color);\n",
              "    }\n",
              "    40% {\n",
              "      border-color: transparent;\n",
              "      border-right-color: var(--fill-color);\n",
              "      border-top-color: var(--fill-color);\n",
              "    }\n",
              "    60% {\n",
              "      border-color: transparent;\n",
              "      border-right-color: var(--fill-color);\n",
              "    }\n",
              "    80% {\n",
              "      border-color: transparent;\n",
              "      border-right-color: var(--fill-color);\n",
              "      border-bottom-color: var(--fill-color);\n",
              "    }\n",
              "    90% {\n",
              "      border-color: transparent;\n",
              "      border-bottom-color: var(--fill-color);\n",
              "    }\n",
              "  }\n",
              "</style>\n",
              "\n",
              "  <script>\n",
              "    async function quickchart(key) {\n",
              "      const quickchartButtonEl =\n",
              "        document.querySelector('#' + key + ' button');\n",
              "      quickchartButtonEl.disabled = true;  // To prevent multiple clicks.\n",
              "      quickchartButtonEl.classList.add('colab-df-spinner');\n",
              "      try {\n",
              "        const charts = await google.colab.kernel.invokeFunction(\n",
              "            'suggestCharts', [key], {});\n",
              "      } catch (error) {\n",
              "        console.error('Error during call to suggestCharts:', error);\n",
              "      }\n",
              "      quickchartButtonEl.classList.remove('colab-df-spinner');\n",
              "      quickchartButtonEl.classList.add('colab-df-quickchart-complete');\n",
              "    }\n",
              "    (() => {\n",
              "      let quickchartButtonEl =\n",
              "        document.querySelector('#df-7d42a444-4ade-4e5d-97aa-cfdf29e3b545 button');\n",
              "      quickchartButtonEl.style.display =\n",
              "        google.colab.kernel.accessAllowed ? 'block' : 'none';\n",
              "    })();\n",
              "  </script>\n",
              "</div>\n",
              "    </div>\n",
              "  </div>\n"
            ],
            "application/vnd.google.colaboratory.intrinsic+json": {
              "type": "dataframe",
              "summary": "{\n  \"name\": \"data\",\n  \"rows\": 3,\n  \"fields\": [\n    {\n      \"column\": \"count\",\n      \"properties\": {\n        \"dtype\": \"date\",\n        \"min\": \"10093\",\n        \"max\": \"10178\",\n        \"num_unique_values\": 2,\n        \"samples\": [\n          \"10093\",\n          \"10178\"\n        ],\n        \"semantic_type\": \"\",\n        \"description\": \"\"\n      }\n    },\n    {\n      \"column\": \"unique\",\n      \"properties\": {\n        \"dtype\": \"date\",\n        \"min\": 2303,\n        \"max\": 9905,\n        \"num_unique_values\": 3,\n        \"samples\": [\n          9660,\n          2303\n        ],\n        \"semantic_type\": \"\",\n        \"description\": \"\"\n      }\n    },\n    {\n      \"column\": \"top\",\n      \"properties\": {\n        \"dtype\": \"string\",\n        \"num_unique_values\": 3,\n        \"samples\": [\n          \"Pinocchio\",\n          \"Drama\"\n        ],\n        \"semantic_type\": \"\",\n        \"description\": \"\"\n      }\n    },\n    {\n      \"column\": \"freq\",\n      \"properties\": {\n        \"dtype\": \"date\",\n        \"min\": \"12\",\n        \"max\": \"556\",\n        \"num_unique_values\": 3,\n        \"samples\": [\n          \"12\",\n          \"556\"\n        ],\n        \"semantic_type\": \"\",\n        \"description\": \"\"\n      }\n    }\n  ]\n}"
            }
          },
          "metadata": {},
          "execution_count": 20
        }
      ],
      "source": [
        "# Printing description of DataFrame\n",
        "data.describe().T"
      ]
    },
    {
      "cell_type": "markdown",
      "id": "6a207643",
      "metadata": {
        "id": "6a207643"
      },
      "source": [
        "### Extract unique values of GENRE feature\n"
      ]
    },
    {
      "cell_type": "code",
      "execution_count": null,
      "id": "d4e5db9b-f621-4e8c-af08-9b51ba353124",
      "metadata": {
        "id": "d4e5db9b-f621-4e8c-af08-9b51ba353124"
      },
      "outputs": [],
      "source": [
        "# Convert values in 'GENRE' column to lowercase and remove leading/trailing whitespaces\n",
        "data['GENRE'] = data['GENRE'].str.lower().str.strip()"
      ]
    },
    {
      "cell_type": "code",
      "execution_count": null,
      "id": "0a882de5",
      "metadata": {
        "id": "0a882de5"
      },
      "outputs": [],
      "source": [
        "\n",
        "data = data.dropna(subset=['GENRE'])\n",
        "\n",
        "# Split the genres for each movie and create a list of all genres\n",
        "all_genres = [genre.strip() for sublist in data['GENRE'].str.split(',') for genre in sublist if genre]\n",
        "\n",
        "# Extract unique genre values\n",
        "unique_genres = set(all_genres)\n",
        "\n",
        "# Count the unique genre values\n",
        "num_unique_genres = len(unique_genres)\n",
        "\n",
        "# Print unique genre values and count\n",
        "print(\"Unique Genres:\")\n",
        "for genre in unique_genres:\n",
        "    print(genre)\n",
        "print(\"Number of unique genres:\", num_unique_genres)"
      ]
    },
    {
      "cell_type": "markdown",
      "id": "94d056ce",
      "metadata": {
        "id": "94d056ce"
      },
      "source": [
        "### Print them with their frequency"
      ]
    },
    {
      "cell_type": "code",
      "source": [
        "# Convert values in 'GENRE' column to lowercase and remove leading/trailing whitespaces\n",
        "data['GENRE'] = data['GENRE'].str.lower().str.strip()"
      ],
      "metadata": {
        "id": "kwor5VmJloK3"
      },
      "id": "kwor5VmJloK3",
      "execution_count": 22,
      "outputs": []
    },
    {
      "cell_type": "code",
      "execution_count": 23,
      "id": "acfe297d",
      "metadata": {
        "colab": {
          "base_uri": "https://localhost:8080/"
        },
        "id": "acfe297d",
        "outputId": "3a22d3f8-c883-434c-c1ac-e3fbbaa47171"
      },
      "outputs": [
        {
          "output_type": "stream",
          "name": "stdout",
          "text": [
            "Unique Genres:\n",
            "comedy\n",
            "horror\n",
            "war\n",
            "science fiction\n",
            "tv movie\n",
            "adventure\n",
            "history\n",
            "thriller\n",
            "drama\n",
            "documentary\n",
            "music\n",
            "fantasy\n",
            "romance\n",
            "animation\n",
            "family\n",
            "crime\n",
            "mystery\n",
            "western\n",
            "action\n",
            "Number of unique genres: 19\n"
          ]
        }
      ],
      "source": [
        "\n",
        "data = data.dropna(subset=['GENRE'])\n",
        "\n",
        "# Split the genres for each movie and create a list of all genres\n",
        "all_genres = [genre.strip() for sublist in data['GENRE'].str.split(',') for genre in sublist if genre]\n",
        "\n",
        "# Extract unique genre values\n",
        "unique_genres = set(all_genres)\n",
        "\n",
        "# Count the unique genre values\n",
        "num_unique_genres = len(unique_genres)\n",
        "\n",
        "# Print unique genre values and count\n",
        "print(\"Unique Genres:\")\n",
        "for genre in unique_genres:\n",
        "    print(genre)\n",
        "print(\"Number of unique genres:\", num_unique_genres)"
      ]
    },
    {
      "cell_type": "code",
      "execution_count": 24,
      "id": "0yoa_s6Aed4N",
      "metadata": {
        "id": "0yoa_s6Aed4N"
      },
      "outputs": [],
      "source": [
        "df =data"
      ]
    },
    {
      "cell_type": "markdown",
      "id": "a3b43f9c",
      "metadata": {
        "id": "a3b43f9c"
      },
      "source": [
        "### Plot them with their distribution"
      ]
    },
    {
      "cell_type": "code",
      "execution_count": 25,
      "id": "55f85f07",
      "metadata": {
        "colab": {
          "base_uri": "https://localhost:8080/",
          "height": 607
        },
        "id": "55f85f07",
        "outputId": "8293153e-17f1-4960-ea71-159d4f6245bf"
      },
      "outputs": [
        {
          "output_type": "display_data",
          "data": {
            "text/plain": [
              "<Figure size 1000x600 with 1 Axes>"
            ],
            "image/png": "[encoded data removed]"
          },
          "metadata": {}
        }
      ],
      "source": [
        "# Count the occurrences of each genre\n",
        "genre_counts = Counter(all_genres)\n",
        "\n",
        "# Extract unique genre values\n",
        "unique_genres = list(genre_counts.keys())\n",
        "\n",
        "# Extract counts for each genre\n",
        "genre_values = list(genre_counts.values())\n",
        "\n",
        "# Plotting\n",
        "plt.figure(figsize=(10, 6))\n",
        "plt.bar(unique_genres, genre_values, color='skyblue')\n",
        "plt.xlabel('Genres')\n",
        "plt.ylabel('Count')\n",
        "plt.title('Distribution of Movie Genres')\n",
        "plt.xticks(rotation=45, ha='right')\n",
        "plt.tight_layout()\n",
        "plt.show()"
      ]
    },
    {
      "cell_type": "code",
      "execution_count": null,
      "id": "iy6a16W4VvX6",
      "metadata": {
        "id": "iy6a16W4VvX6"
      },
      "outputs": [],
      "source": [
        "## Handling missing values"
      ]
    },
    {
      "cell_type": "code",
      "execution_count": 26,
      "id": "wxvQeO9ueoxV",
      "metadata": {
        "id": "wxvQeO9ueoxV"
      },
      "outputs": [],
      "source": [
        "columns_to_check = ['GENRE']\n",
        "df.dropna(subset=columns_to_check, inplace=True)"
      ]
    },
    {
      "cell_type": "code",
      "execution_count": 27,
      "id": "nayEyvdEWwFR",
      "metadata": {
        "colab": {
          "base_uri": "https://localhost:8080/"
        },
        "id": "nayEyvdEWwFR",
        "outputId": "2d4f4046-0405-4b5b-f74a-16c069184089"
      },
      "outputs": [
        {
          "output_type": "stream",
          "name": "stdout",
          "text": [
            "title          0\n",
            "GENRE          0\n",
            "DESCRIPTION    0\n",
            "dtype: int64\n"
          ]
        }
      ],
      "source": [
        "# Assuming 'df' is your DataFrame\n",
        "missing_values_count = df.isnull().sum()\n",
        "print(missing_values_count)"
      ]
    },
    {
      "cell_type": "code",
      "source": [
        "# Drop duplicate rows based on the 'title' column\n",
        "data = data.drop_duplicates(subset=['title'])\n",
        "# Drop duplicate rows based on the 'title' column\n",
        "df = df.drop_duplicates(subset=['title'])"
      ],
      "metadata": {
        "id": "xG1wn0efkyic"
      },
      "id": "xG1wn0efkyic",
      "execution_count": 28,
      "outputs": []
    },
    {
      "cell_type": "markdown",
      "id": "baa267f8",
      "metadata": {
        "id": "baa267f8"
      },
      "source": [
        "#           Data Cleaning and Standardization"
      ]
    },
    {
      "cell_type": "markdown",
      "id": "aae5967a",
      "metadata": {
        "id": "aae5967a"
      },
      "source": [
        " ### Removing HTML tags if the data is scraped from the web"
      ]
    },
    {
      "cell_type": "code",
      "execution_count": 29,
      "id": "1760df57",
      "metadata": {
        "colab": {
          "base_uri": "https://localhost:8080/"
        },
        "id": "1760df57",
        "outputId": "2afc5e62-7a5e-4d9f-c456-eee676991d5c"
      },
      "outputs": [
        {
          "output_type": "stream",
          "name": "stdout",
          "text": [
            "Requirement already satisfied: beautifulsoup4 in /usr/local/lib/python3.10/dist-packages (4.12.3)\n",
            "Requirement already satisfied: soupsieve>1.2 in /usr/local/lib/python3.10/dist-packages (from beautifulsoup4) (2.5)\n"
          ]
        }
      ],
      "source": [
        "pip install beautifulsoup4\n"
      ]
    },
    {
      "cell_type": "code",
      "execution_count": 30,
      "id": "9f20465a",
      "metadata": {
        "id": "9f20465a",
        "colab": {
          "base_uri": "https://localhost:8080/"
        },
        "outputId": "adc16210-8765-4c6a-ccf2-0f94091f76ba"
      },
      "outputs": [
        {
          "output_type": "stream",
          "name": "stderr",
          "text": [
            "<ipython-input-30-7393778d96c3>:4: MarkupResemblesLocatorWarning: The input looks more like a filename than markup. You may want to open this file and pass the filehandle into Beautiful Soup.\n",
            "  return BeautifulSoup(text, \"html.parser\").get_text()\n"
          ]
        }
      ],
      "source": [
        "from bs4 import BeautifulSoup\n",
        "# Function to remove HTML tags using BeautifulSoup\n",
        "def remove_html_tags(text):\n",
        "    return BeautifulSoup(text, \"html.parser\").get_text()\n",
        "\n",
        "# Apply the function to the DESCRIPTION column\n",
        "data['DESCRIPTION'] = data['DESCRIPTION'].apply(remove_html_tags)\n"
      ]
    },
    {
      "cell_type": "markdown",
      "id": "12f2509f",
      "metadata": {
        "id": "12f2509f"
      },
      "source": [
        " ### Removing special characters"
      ]
    },
    {
      "cell_type": "code",
      "execution_count": 31,
      "id": "97cabf79",
      "metadata": {
        "id": "97cabf79"
      },
      "outputs": [],
      "source": [
        "def remove_special_characters(text):\n",
        "    # This pattern will keep only letters, numbers, and spaces\n",
        "    pattern = r'[^a-zA-Z0-9\\s]'\n",
        "    return re.sub(pattern, '', text)\n",
        "data['DESCRIPTION'] = data['DESCRIPTION'].apply(remove_special_characters)"
      ]
    },
    {
      "cell_type": "markdown",
      "id": "f2b7e025",
      "metadata": {
        "id": "f2b7e025"
      },
      "source": [
        " ### Removing emojis and  non-standard symbols"
      ]
    },
    {
      "cell_type": "code",
      "execution_count": 32,
      "id": "5ffeb664",
      "metadata": {
        "id": "5ffeb664"
      },
      "outputs": [],
      "source": [
        "# Function to remove emojis and other non-standard symbols\n",
        "def remove_emojis_and_symbols(text):\n",
        "    emoji_pattern = re.compile(\"[\"\n",
        "        u\"\\U0001F600-\\U0001F64F\"\n",
        "        u\"\\U0001F300-\\U0001F5FF\"\n",
        "        u\"\\U0001F680-\\U0001F6FF\"\n",
        "        u\"\\U0001F700-\\U0001F77F\"\n",
        "        u\"\\U0001F780-\\U0001F7FF\"\n",
        "        u\"\\U0001F800-\\U0001F8FF\"\n",
        "        u\"\\U0001F900-\\U0001F9FF\"\n",
        "        u\"\\U0001FA00-\\U0001FA6F\"\n",
        "        u\"\\U0001FA70-\\U0001FAFF\"\n",
        "        u\"\\U00002702-\\U000027B0\"\n",
        "        u\"\\U000024C2-\\U0001F251\"\n",
        "        \"]+\", flags=re.UNICODE)\n",
        "    return emoji_pattern.sub(r'', text)\n",
        "data['DESCRIPTION'] = data['DESCRIPTION'].apply(remove_emojis_and_symbols)\n"
      ]
    },
    {
      "cell_type": "markdown",
      "id": "efc6942c",
      "metadata": {
        "id": "efc6942c"
      },
      "source": [
        "###   Converting to Lowercase:"
      ]
    },
    {
      "cell_type": "code",
      "execution_count": 33,
      "id": "29f9770a",
      "metadata": {
        "colab": {
          "base_uri": "https://localhost:8080/"
        },
        "id": "29f9770a",
        "outputId": "f3f2c66f-ed1e-4826-ee4e-d576d5a2c1bf"
      },
      "outputs": [
        {
          "output_type": "stream",
          "name": "stdout",
          "text": [
            "                                         DESCRIPTION\n",
            "0  after dominating the boxing world adonis creed...\n",
            "1  set more than a decade after the events of the...\n",
            "2  while working underground to fix a water main ...\n",
            "3  through a series of unfortunate events three m...\n",
            "4  goodhearted teenager william always lived in h...\n",
            "                                         title  \\\n",
            "0                                    Creed III   \n",
            "1                     Avatar: The Way of Water   \n",
            "2                  The Super Mario Bros. Movie   \n",
            "3                                      Mummies   \n",
            "4                                    Supercell   \n",
            "...                                        ...   \n",
            "10173                       20th Century Women   \n",
            "10174  Delta Force 2: The Colombian Connection   \n",
            "10175                         The Russia House   \n",
            "10176         Darkman II: The Return of Durant   \n",
            "10177       The Swan Princess: A Royal Wedding   \n",
            "\n",
            "                                                   GENRE  \\\n",
            "0                                          drama, action   \n",
            "1                     science fiction, adventure, action   \n",
            "2          animation, adventure, family, fantasy, comedy   \n",
            "3          animation, comedy, family, adventure, fantasy   \n",
            "4                                                 action   \n",
            "...                                                  ...   \n",
            "10173                                              drama   \n",
            "10174                                             action   \n",
            "10175                           drama, thriller, romance   \n",
            "10176  action, adventure, science fiction, thriller, ...   \n",
            "10177                         animation, family, fantasy   \n",
            "\n",
            "                                             DESCRIPTION  \n",
            "0      after dominating the boxing world adonis creed...  \n",
            "1      set more than a decade after the events of the...  \n",
            "2      while working underground to fix a water main ...  \n",
            "3      through a series of unfortunate events three m...  \n",
            "4      goodhearted teenager william always lived in h...  \n",
            "...                                                  ...  \n",
            "10173  in 1979 santa barbara california dorothea fiel...  \n",
            "10174  when dea agents are taken captive by a ruthles...  \n",
            "10175  barley scott blair a lisbonbased editor of rus...  \n",
            "10176  darkman and durant return and they hate each o...  \n",
            "10177  princess odette and prince derek are going to ...  \n",
            "\n",
            "[9579 rows x 3 columns]\n"
          ]
        }
      ],
      "source": [
        " # Convert DESCRIPTION column to lowercase\n",
        "data['DESCRIPTION'] = data['DESCRIPTION'].str.lower()\n",
        "\n",
        "\n",
        "# Print the first few rows to verify the changes\n",
        "print(data[['DESCRIPTION']].head())\n",
        "\n",
        "print(data)"
      ]
    },
    {
      "cell_type": "markdown",
      "id": "507a5274",
      "metadata": {
        "id": "507a5274"
      },
      "source": [
        "### Fixing Encoding Issues"
      ]
    },
    {
      "cell_type": "code",
      "execution_count": 34,
      "id": "5f2234af",
      "metadata": {
        "colab": {
          "base_uri": "https://localhost:8080/"
        },
        "id": "5f2234af",
        "outputId": "286c4dea-62f8-4a10-e7ca-3233e34f886c"
      },
      "outputs": [
        {
          "output_type": "stream",
          "name": "stdout",
          "text": [
            "Loaded with detected encoding: utf-8\n"
          ]
        }
      ],
      "source": [
        "# Open the file in binary mode and read a sample of the data to detect encoding\n",
        "with open(file_path, 'rb') as file:\n",
        "    result = chardet.detect(file.read(10000))  # Adjust the number of bytes read as needed\n",
        "\n",
        "# Use the detected encoding to read the CSV file\n",
        "df = pd.read_csv(file_path, encoding=result['encoding'])\n",
        "print(f\"Loaded with detected encoding: {result['encoding']}\")\n"
      ]
    },
    {
      "cell_type": "code",
      "execution_count": 35,
      "id": "mobP6_mQe0vd",
      "metadata": {
        "id": "mobP6_mQe0vd"
      },
      "outputs": [],
      "source": [
        "df = data"
      ]
    },
    {
      "cell_type": "code",
      "execution_count": 36,
      "id": "f23be564",
      "metadata": {
        "colab": {
          "base_uri": "https://localhost:8080/",
          "height": 206
        },
        "id": "f23be564",
        "outputId": "c46e857d-8127-41a8-ef19-144cd8b50b0f"
      },
      "outputs": [
        {
          "output_type": "execute_result",
          "data": {
            "text/plain": [
              "                         title                                          GENRE  \\\n",
              "0                    Creed III                                  drama, action   \n",
              "1     Avatar: The Way of Water             science fiction, adventure, action   \n",
              "2  The Super Mario Bros. Movie  animation, adventure, family, fantasy, comedy   \n",
              "3                      Mummies  animation, comedy, family, adventure, fantasy   \n",
              "4                    Supercell                                         action   \n",
              "\n",
              "                                         DESCRIPTION  \n",
              "0  after dominating the boxing world adonis creed...  \n",
              "1  set more than a decade after the events of the...  \n",
              "2  while working underground to fix a water main ...  \n",
              "3  through a series of unfortunate events three m...  \n",
              "4  goodhearted teenager william always lived in h...  "
            ],
            "text/html": [
              "\n",
              "  <div id=\"df-9f0baccf-1c9a-4f38-a200-be5ae85f46a1\" class=\"colab-df-container\">\n",
              "    <div>\n",
              "<style scoped>\n",
              "    .dataframe tbody tr th:only-of-type {\n",
              "        vertical-align: middle;\n",
              "    }\n",
              "\n",
              "    .dataframe tbody tr th {\n",
              "        vertical-align: top;\n",
              "    }\n",
              "\n",
              "    .dataframe thead th {\n",
              "        text-align: right;\n",
              "    }\n",
              "</style>\n",
              "<table border=\"1\" class=\"dataframe\">\n",
              "  <thead>\n",
              "    <tr style=\"text-align: right;\">\n",
              "      <th></th>\n",
              "      <th>title</th>\n",
              "      <th>GENRE</th>\n",
              "      <th>DESCRIPTION</th>\n",
              "    </tr>\n",
              "  </thead>\n",
              "  <tbody>\n",
              "    <tr>\n",
              "      <th>0</th>\n",
              "      <td>Creed III</td>\n",
              "      <td>drama, action</td>\n",
              "      <td>after dominating the boxing world adonis creed...</td>\n",
              "    </tr>\n",
              "    <tr>\n",
              "      <th>1</th>\n",
              "      <td>Avatar: The Way of Water</td>\n",
              "      <td>science fiction, adventure, action</td>\n",
              "      <td>set more than a decade after the events of the...</td>\n",
              "    </tr>\n",
              "    <tr>\n",
              "      <th>2</th>\n",
              "      <td>The Super Mario Bros. Movie</td>\n",
              "      <td>animation, adventure, family, fantasy, comedy</td>\n",
              "      <td>while working underground to fix a water main ...</td>\n",
              "    </tr>\n",
              "    <tr>\n",
              "      <th>3</th>\n",
              "      <td>Mummies</td>\n",
              "      <td>animation, comedy, family, adventure, fantasy</td>\n",
              "      <td>through a series of unfortunate events three m...</td>\n",
              "    </tr>\n",
              "    <tr>\n",
              "      <th>4</th>\n",
              "      <td>Supercell</td>\n",
              "      <td>action</td>\n",
              "      <td>goodhearted teenager william always lived in h...</td>\n",
              "    </tr>\n",
              "  </tbody>\n",
              "</table>\n",
              "</div>\n",
              "    <div class=\"colab-df-buttons\">\n",
              "\n",
              "  <div class=\"colab-df-container\">\n",
              "    <button class=\"colab-df-convert\" onclick=\"convertToInteractive('df-9f0baccf-1c9a-4f38-a200-be5ae85f46a1')\"\n",
              "            title=\"Convert this dataframe to an interactive table.\"\n",
              "            style=\"display:none;\">\n",
              "\n",
              "  <svg xmlns=\"http://www.w3.org/2000/svg\" height=\"24px\" viewBox=\"0 -960 960 960\">\n",
              "    <path d=\"M120-120v-720h720v720H120Zm60-500h600v-160H180v160Zm220 220h160v-160H400v160Zm0 220h160v-160H400v160ZM180-400h160v-160H180v160Zm440 0h160v-160H620v160ZM180-180h160v-160H180v160Zm440 0h160v-160H620v160Z\"/>\n",
              "  </svg>\n",
              "    </button>\n",
              "\n",
              "  <style>\n",
              "    .colab-df-container {\n",
              "      display:flex;\n",
              "      gap: 12px;\n",
              "    }\n",
              "\n",
              "    .colab-df-convert {\n",
              "      background-color: #E8F0FE;\n",
              "      border: none;\n",
              "      border-radius: 50%;\n",
              "      cursor: pointer;\n",
              "      display: none;\n",
              "      fill: #1967D2;\n",
              "      height: 32px;\n",
              "      padding: 0 0 0 0;\n",
              "      width: 32px;\n",
              "    }\n",
              "\n",
              "    .colab-df-convert:hover {\n",
              "      background-color: #E2EBFA;\n",
              "      box-shadow: 0px 1px 2px rgba(60, 64, 67, 0.3), 0px 1px 3px 1px rgba(60, 64, 67, 0.15);\n",
              "      fill: #174EA6;\n",
              "    }\n",
              "\n",
              "    .colab-df-buttons div {\n",
              "      margin-bottom: 4px;\n",
              "    }\n",
              "\n",
              "    [theme=dark] .colab-df-convert {\n",
              "      background-color: #3B4455;\n",
              "      fill: #D2E3FC;\n",
              "    }\n",
              "\n",
              "    [theme=dark] .colab-df-convert:hover {\n",
              "      background-color: #434B5C;\n",
              "      box-shadow: 0px 1px 3px 1px rgba(0, 0, 0, 0.15);\n",
              "      filter: drop-shadow(0px 1px 2px rgba(0, 0, 0, 0.3));\n",
              "      fill: #FFFFFF;\n",
              "    }\n",
              "  </style>\n",
              "\n",
              "    <script>\n",
              "      const buttonEl =\n",
              "        document.querySelector('#df-9f0baccf-1c9a-4f38-a200-be5ae85f46a1 button.colab-df-convert');\n",
              "      buttonEl.style.display =\n",
              "        google.colab.kernel.accessAllowed ? 'block' : 'none';\n",
              "\n",
              "      async function convertToInteractive(key) {\n",
              "        const element = document.querySelector('#df-9f0baccf-1c9a-4f38-a200-be5ae85f46a1');\n",
              "        const dataTable =\n",
              "          await google.colab.kernel.invokeFunction('convertToInteractive',\n",
              "                                                    [key], {});\n",
              "        if (!dataTable) return;\n",
              "\n",
              "        const docLinkHtml = 'Like what you see? Visit the ' +\n",
              "          '<a target=\"_blank\" href=https://colab.research.google.com/notebooks/data_table.ipynb>data table notebook</a>'\n",
              "          + ' to learn more about interactive tables.';\n",
              "        element.innerHTML = '';\n",
              "        dataTable['output_type'] = 'display_data';\n",
              "        await google.colab.output.renderOutput(dataTable, element);\n",
              "        const docLink = document.createElement('div');\n",
              "        docLink.innerHTML = docLinkHtml;\n",
              "        element.appendChild(docLink);\n",
              "      }\n",
              "    </script>\n",
              "  </div>\n",
              "\n",
              "\n",
              "<div id=\"df-930a33e7-2245-42df-bd27-a1f207bb4313\">\n",
              "  <button class=\"colab-df-quickchart\" onclick=\"quickchart('df-930a33e7-2245-42df-bd27-a1f207bb4313')\"\n",
              "            title=\"Suggest charts\"\n",
              "            style=\"display:none;\">\n",
              "\n",
              "<svg xmlns=\"http://www.w3.org/2000/svg\" height=\"24px\"viewBox=\"0 0 24 24\"\n",
              "     width=\"24px\">\n",
              "    <g>\n",
              "        <path d=\"M19 3H5c-1.1 0-2 .9-2 2v14c0 1.1.9 2 2 2h14c1.1 0 2-.9 2-2V5c0-1.1-.9-2-2-2zM9 17H7v-7h2v7zm4 0h-2V7h2v10zm4 0h-2v-4h2v4z\"/>\n",
              "    </g>\n",
              "</svg>\n",
              "  </button>\n",
              "\n",
              "<style>\n",
              "  .colab-df-quickchart {\n",
              "      --bg-color: #E8F0FE;\n",
              "      --fill-color: #1967D2;\n",
              "      --hover-bg-color: #E2EBFA;\n",
              "      --hover-fill-color: #174EA6;\n",
              "      --disabled-fill-color: #AAA;\n",
              "      --disabled-bg-color: #DDD;\n",
              "  }\n",
              "\n",
              "  [theme=dark] .colab-df-quickchart {\n",
              "      --bg-color: #3B4455;\n",
              "      --fill-color: #D2E3FC;\n",
              "      --hover-bg-color: #434B5C;\n",
              "      --hover-fill-color: #FFFFFF;\n",
              "      --disabled-bg-color: #3B4455;\n",
              "      --disabled-fill-color: #666;\n",
              "  }\n",
              "\n",
              "  .colab-df-quickchart {\n",
              "    background-color: var(--bg-color);\n",
              "    border: none;\n",
              "    border-radius: 50%;\n",
              "    cursor: pointer;\n",
              "    display: none;\n",
              "    fill: var(--fill-color);\n",
              "    height: 32px;\n",
              "    padding: 0;\n",
              "    width: 32px;\n",
              "  }\n",
              "\n",
              "  .colab-df-quickchart:hover {\n",
              "    background-color: var(--hover-bg-color);\n",
              "    box-shadow: 0 1px 2px rgba(60, 64, 67, 0.3), 0 1px 3px 1px rgba(60, 64, 67, 0.15);\n",
              "    fill: var(--button-hover-fill-color);\n",
              "  }\n",
              "\n",
              "  .colab-df-quickchart-complete:disabled,\n",
              "  .colab-df-quickchart-complete:disabled:hover {\n",
              "    background-color: var(--disabled-bg-color);\n",
              "    fill: var(--disabled-fill-color);\n",
              "    box-shadow: none;\n",
              "  }\n",
              "\n",
              "  .colab-df-spinner {\n",
              "    border: 2px solid var(--fill-color);\n",
              "    border-color: transparent;\n",
              "    border-bottom-color: var(--fill-color);\n",
              "    animation:\n",
              "      spin 1s steps(1) infinite;\n",
              "  }\n",
              "\n",
              "  @keyframes spin {\n",
              "    0% {\n",
              "      border-color: transparent;\n",
              "      border-bottom-color: var(--fill-color);\n",
              "      border-left-color: var(--fill-color);\n",
              "    }\n",
              "    20% {\n",
              "      border-color: transparent;\n",
              "      border-left-color: var(--fill-color);\n",
              "      border-top-color: var(--fill-color);\n",
              "    }\n",
              "    30% {\n",
              "      border-color: transparent;\n",
              "      border-left-color: var(--fill-color);\n",
              "      border-top-color: var(--fill-color);\n",
              "      border-right-color: var(--fill-color);\n",
              "    }\n",
              "    40% {\n",
              "      border-color: transparent;\n",
              "      border-right-color: var(--fill-color);\n",
              "      border-top-color: var(--fill-color);\n",
              "    }\n",
              "    60% {\n",
              "      border-color: transparent;\n",
              "      border-right-color: var(--fill-color);\n",
              "    }\n",
              "    80% {\n",
              "      border-color: transparent;\n",
              "      border-right-color: var(--fill-color);\n",
              "      border-bottom-color: var(--fill-color);\n",
              "    }\n",
              "    90% {\n",
              "      border-color: transparent;\n",
              "      border-bottom-color: var(--fill-color);\n",
              "    }\n",
              "  }\n",
              "</style>\n",
              "\n",
              "  <script>\n",
              "    async function quickchart(key) {\n",
              "      const quickchartButtonEl =\n",
              "        document.querySelector('#' + key + ' button');\n",
              "      quickchartButtonEl.disabled = true;  // To prevent multiple clicks.\n",
              "      quickchartButtonEl.classList.add('colab-df-spinner');\n",
              "      try {\n",
              "        const charts = await google.colab.kernel.invokeFunction(\n",
              "            'suggestCharts', [key], {});\n",
              "      } catch (error) {\n",
              "        console.error('Error during call to suggestCharts:', error);\n",
              "      }\n",
              "      quickchartButtonEl.classList.remove('colab-df-spinner');\n",
              "      quickchartButtonEl.classList.add('colab-df-quickchart-complete');\n",
              "    }\n",
              "    (() => {\n",
              "      let quickchartButtonEl =\n",
              "        document.querySelector('#df-930a33e7-2245-42df-bd27-a1f207bb4313 button');\n",
              "      quickchartButtonEl.style.display =\n",
              "        google.colab.kernel.accessAllowed ? 'block' : 'none';\n",
              "    })();\n",
              "  </script>\n",
              "</div>\n",
              "    </div>\n",
              "  </div>\n"
            ],
            "application/vnd.google.colaboratory.intrinsic+json": {
              "type": "dataframe",
              "variable_name": "df",
              "summary": "{\n  \"name\": \"df\",\n  \"rows\": 9579,\n  \"fields\": [\n    {\n      \"column\": \"title\",\n      \"properties\": {\n        \"dtype\": \"string\",\n        \"num_unique_values\": 9579,\n        \"samples\": [\n          \"Fabricated City\",\n          \"Tune in for Love\",\n          \"Retirement Home\"\n        ],\n        \"semantic_type\": \"\",\n        \"description\": \"\"\n      }\n    },\n    {\n      \"column\": \"GENRE\",\n      \"properties\": {\n        \"dtype\": \"category\",\n        \"num_unique_values\": 2255,\n        \"samples\": [\n          \"drama,\\u00a0history,\\u00a0mystery,\\u00a0thriller\",\n          \"comedy,\\u00a0animation\",\n          \"comedy,\\u00a0drama,\\u00a0mystery\"\n        ],\n        \"semantic_type\": \"\",\n        \"description\": \"\"\n      }\n    },\n    {\n      \"column\": \"DESCRIPTION\",\n      \"properties\": {\n        \"dtype\": \"string\",\n        \"num_unique_values\": 9517,\n        \"samples\": [\n          \"when best buds rick and fred begin to show signs of restlessness at home their wives take a bold approach to revitalize their marriages they grant the guys a hall passone week of freedom to do whatever they want at first it seems like a dream come true but they quickly discover that their expectations of the single lifeand themselvesare completely and hilariously out of sync with reality\",\n          \"when his beloved dog goes missing a young man embarks on an incredible search with his parents to find him and give him lifesaving medication\",\n          \"feeling isolated from that unwelcoming community june and jennifer gibbons turn inward and reject communication with everyone but each other retreating into their own fantasy world of artistic inspiration and adolescent desires\"\n        ],\n        \"semantic_type\": \"\",\n        \"description\": \"\"\n      }\n    }\n  ]\n}"
            }
          },
          "metadata": {},
          "execution_count": 36
        }
      ],
      "source": [
        "df.head()\n"
      ]
    },
    {
      "cell_type": "markdown",
      "id": "9b274acc",
      "metadata": {
        "id": "9b274acc"
      },
      "source": [
        "###  Remove Extra Whitespace"
      ]
    },
    {
      "cell_type": "code",
      "execution_count": 37,
      "id": "3023a854",
      "metadata": {
        "colab": {
          "base_uri": "https://localhost:8080/"
        },
        "id": "3023a854",
        "outputId": "dcb74228-eef5-44c5-9699-836ebef00729"
      },
      "outputs": [
        {
          "output_type": "stream",
          "name": "stdout",
          "text": [
            "                         title                                          GENRE  \\\n",
            "0                    Creed III                                  drama, action   \n",
            "1     Avatar: The Way of Water             science fiction, adventure, action   \n",
            "2  The Super Mario Bros. Movie  animation, adventure, family, fantasy, comedy   \n",
            "3                      Mummies  animation, comedy, family, adventure, fantasy   \n",
            "4                    Supercell                                         action   \n",
            "\n",
            "                                         DESCRIPTION  \n",
            "0  after dominating the boxing world adonis creed...  \n",
            "1  set more than a decade after the events of the...  \n",
            "2  while working underground to fix a water main ...  \n",
            "3  through a series of unfortunate events three m...  \n",
            "4  goodhearted teenager william always lived in h...  \n"
          ]
        }
      ],
      "source": [
        "# Assuming 'df' is your DataFrame\n",
        "string_columns = df.select_dtypes(include=['object']).columns\n",
        "\n",
        "# Removing extra whitespace\n",
        "for col in string_columns:\n",
        "    df[col] = df[col].str.strip()  # Strip leading and trailing whitespace\n",
        "    df[col] = df[col].str.replace(r'\\s+', ' ', regex=True)  # Replace multiple internal spaces\n",
        "\n",
        "# Verify the changes\n",
        "print(df.head())\n"
      ]
    },
    {
      "cell_type": "markdown",
      "id": "d5d9dea0",
      "metadata": {
        "id": "d5d9dea0"
      },
      "source": [
        "### Checking Missing Values"
      ]
    },
    {
      "cell_type": "code",
      "execution_count": 38,
      "id": "fe184d1a",
      "metadata": {
        "colab": {
          "base_uri": "https://localhost:8080/"
        },
        "id": "fe184d1a",
        "outputId": "4ed94fd3-cb4c-4308-b190-134e575af2eb"
      },
      "outputs": [
        {
          "output_type": "stream",
          "name": "stdout",
          "text": [
            "Missing values handled successfully.\n"
          ]
        }
      ],
      "source": [
        "# Handle missing values\n",
        "data.dropna(inplace=True)\n",
        "\n",
        "# Check for missing values\n",
        "assert not data.isnull().values.any(), \"Missing values are present in the data.\"\n",
        "\n",
        "# Print success message\n",
        "print(\"Missing values handled successfully.\")"
      ]
    },
    {
      "cell_type": "markdown",
      "id": "df010a9c",
      "metadata": {
        "id": "df010a9c"
      },
      "source": [
        "### Normalization"
      ]
    },
    {
      "cell_type": "markdown",
      "id": "0178d89c",
      "metadata": {
        "id": "0178d89c"
      },
      "source": [
        "### Non-informative words"
      ]
    },
    {
      "cell_type": "code",
      "execution_count": 43,
      "id": "b6628002",
      "metadata": {
        "colab": {
          "base_uri": "https://localhost:8080/"
        },
        "id": "b6628002",
        "outputId": "b86e763d-b21a-451f-fef3-ac9454dc2a1b"
      },
      "outputs": [
        {
          "output_type": "stream",
          "name": "stderr",
          "text": [
            "[nltk_data] Downloading package stopwords to /root/nltk_data...\n",
            "[nltk_data]   Package stopwords is already up-to-date!\n"
          ]
        },
        {
          "output_type": "stream",
          "name": "stdout",
          "text": [
            "                                   CLEAN_DESCRIPTION  contains_non_informative\n",
            "0  dominating boxing world adonis creed thriving ...                     False\n",
            "1  set decade events first film learn story sully...                     False\n",
            "2  working underground fix water main brooklyn pl...                     False\n",
            "3  series unfortunate events three mummies end pr...                     False\n",
            "4  goodhearted teenager william always lived hope...                     False\n",
            "{'Non-informative Words Removed': True}\n"
          ]
        }
      ],
      "source": [
        "# Download the set of stop words the first time\n",
        "nltk.download('stopwords')\n",
        "\n",
        "# Load the stop words\n",
        "non_informative_words = set(stopwords.words('english'))\n",
        "\n",
        "# Assuming you have loaded your DataFrame already; if not, load it here\n",
        "# df = pd.read_csv('path_to_your_file.csv')\n",
        "\n",
        "# Define the function to remove non-informative words\n",
        "def remove_non_informative(text):\n",
        "    # Split the text into words and remove non-informative words\n",
        "    return ' '.join(word for word in text.split() if word.lower() not in non_informative_words)\n",
        "\n",
        "# Apply the function to remove non-informative words from the 'DESCRIPTION' column\n",
        "df['CLEAN_DESCRIPTION'] = df['DESCRIPTION'].apply(remove_non_informative)\n",
        "\n",
        "# Optionally, check again for non-informative words in 'CLEAN_DESCRIPTION'\n",
        "df['contains_non_informative'] = df['CLEAN_DESCRIPTION'].apply(\n",
        "    lambda x: any(word.lower() in non_informative_words for word in x.split())\n",
        ")\n",
        "\n",
        "# Display the DataFrame to verify the removal and create a summary\n",
        "display_df = df[['CLEAN_DESCRIPTION', 'contains_non_informative']]\n",
        "summary = {'Non-informative Words Removed': not df['contains_non_informative'].any()}\n",
        "\n",
        "print(display_df.head())  # Display first few rows to check\n",
        "print(summary)  # Display summary of checks\n"
      ]
    },
    {
      "cell_type": "code",
      "execution_count": 44,
      "id": "-UC5vjqmfHhx",
      "metadata": {
        "colab": {
          "base_uri": "https://localhost:8080/"
        },
        "id": "-UC5vjqmfHhx",
        "outputId": "673bbf6c-ec15-42ff-d427-fc9c6783fc12"
      },
      "outputs": [
        {
          "output_type": "stream",
          "name": "stderr",
          "text": [
            "[nltk_data] Downloading package stopwords to /root/nltk_data...\n",
            "[nltk_data]   Package stopwords is already up-to-date!\n"
          ]
        },
        {
          "output_type": "stream",
          "name": "stdout",
          "text": [
            "                                   CLEAN_DESCRIPTION  contains_non_informative\n",
            "0  dominating boxing world adonis creed thriving ...                     False\n",
            "1  set decade events first film learn story sully...                     False\n",
            "2  working underground fix water main brooklyn pl...                     False\n",
            "3  series unfortunate events three mummies end pr...                     False\n",
            "4  goodhearted teenager william always lived hope...                     False\n",
            "{'Non-informative Words Removed': True}\n"
          ]
        }
      ],
      "source": [
        "# Download the set of stop words the first time\n",
        "nltk.download('stopwords')\n",
        "\n",
        "# Load the stop words\n",
        "non_informative_words = set(stopwords.words('english'))\n",
        "\n",
        "# Assuming you have loaded your DataFrame already; if not, load it here\n",
        "# df = pd.read_csv('path_to_your_file.csv')\n",
        "\n",
        "# Define the function to remove non-informative words\n",
        "def remove_non_informative(text):\n",
        "    # Split the text into words and remove non-informative words\n",
        "    return ' '.join(word for word in text.split() if word.lower() not in non_informative_words)\n",
        "\n",
        "# Apply the function to remove non-informative words from the 'DESCRIPTION' column\n",
        "df['CLEAN_DESCRIPTION'] = df['DESCRIPTION'].apply(remove_non_informative)\n",
        "\n",
        "# Optionally, check again for non-informative words in 'CLEAN_DESCRIPTION'\n",
        "df['contains_non_informative'] = df['CLEAN_DESCRIPTION'].apply(\n",
        "    lambda x: any(word.lower() in non_informative_words for word in x.split())\n",
        ")\n",
        "\n",
        "# Display the DataFrame to verify the removal and create a summary\n",
        "display_df = df[['CLEAN_DESCRIPTION', 'contains_non_informative']]\n",
        "summary = {'Non-informative Words Removed': not df['contains_non_informative'].any()}\n",
        "\n",
        "print(display_df.head())  # Display first few rows to check\n",
        "print(summary)  # Display summary of checks\n"
      ]
    },
    {
      "cell_type": "markdown",
      "id": "45cb120d",
      "metadata": {
        "id": "45cb120d"
      },
      "source": [
        "### checking cleanliness"
      ]
    },
    {
      "cell_type": "code",
      "execution_count": 45,
      "id": "En_QnRqCfLB4",
      "metadata": {
        "colab": {
          "base_uri": "https://localhost:8080/"
        },
        "id": "En_QnRqCfLB4",
        "outputId": "56fc7270-1a70-42f0-e3c4-090af21e988d"
      },
      "outputs": [
        {
          "output_type": "stream",
          "name": "stderr",
          "text": [
            "[nltk_data] Downloading package stopwords to /root/nltk_data...\n",
            "[nltk_data]   Package stopwords is already up-to-date!\n",
            "<ipython-input-45-8cb835bcbb5e>:55: UserWarning: This pattern is interpreted as a regular expression, and has match groups. To actually get the groups, use str.extract.\n",
            "  df['contains_non_informative'] = df['CLEAN_DESCRIPTION'].str.contains(r'\\b(' + '|'.join(stop_words) + r')\\b')\n"
          ]
        },
        {
          "output_type": "stream",
          "name": "stdout",
          "text": [
            "{'HTML Tags Removed': True, 'Special Characters Removed': True, 'Non-informative Words Removed': True, 'Stop Words Removed': True}\n"
          ]
        }
      ],
      "source": [
        "# Define functions for cleaning\n",
        "def remove_html_tags(text):\n",
        "    return BeautifulSoup(text, \"html.parser\").get_text()\n",
        "\n",
        "def remove_special_characters(text):\n",
        "    return re.sub(r'[^a-zA-Z0-9\\s]', '', text)\n",
        "\n",
        "def remove_emojis_and_symbols(text):\n",
        "    emoji_pattern = re.compile(\"[\"\n",
        "        u\"\\U0001F600-\\U0001F64F\"\n",
        "        u\"\\U0001F300-\\U0001F5FF\"\n",
        "        u\"\\U0001F680-\\U0001F6FF\"\n",
        "        u\"\\U0001F700-\\U0001F77F\"\n",
        "        u\"\\U0001F780-\\U0001F7FF\"\n",
        "        u\"\\U0001F800-\\U0001F8FF\"\n",
        "        u\"\\U0001F900-\\U0001F9FF\"\n",
        "        u\"\\U0001FA00-\\U0001FA6F\"\n",
        "        u\"\\U0001FA70-\\U0001FAFF\"\n",
        "        u\"\\U00002702-\\U000027B0\"\n",
        "        u\"\\U000024C2-\\U0001F251\"\n",
        "        \"]+\", flags=re.UNICODE)\n",
        "    return emoji_pattern.sub('', text)\n",
        "\n",
        "# Apply cleaning functions\n",
        "df['DESCRIPTION'] = df['DESCRIPTION'].apply(remove_html_tags).apply(remove_special_characters).apply(remove_emojis_and_symbols)\n",
        "df = df.applymap(lambda x: x.lower() if isinstance(x, str) else x)\n",
        "\n",
        "# Download and prepare stopwords\n",
        "nltk.download('stopwords')\n",
        "stop_words = set(stopwords.words('english'))\n",
        "\n",
        "# Remove non-informative words\n",
        "def remove_stop_words(text):\n",
        "    return ' '.join(word for word in text.split() if word.lower() not in stop_words)\n",
        "\n",
        "df['CLEAN_DESCRIPTION'] = df['DESCRIPTION'].apply(remove_stop_words)\n",
        "\n",
        "# Filling missing values appropriately\n",
        "#df.fillna({'year': 0, 'rating': df['rating'].mean(), 'votes': 0, 'gross(in $)': 0}, inplace=True)\n",
        "#df.fillna('unknown', inplace=True)\n",
        "\n",
        "# Apply scaling\n",
        "scaler = MinMaxScaler()\n",
        "#df['rating'] = scaler.fit_transform(df[['rating']])\n",
        "standard_scaler = StandardScaler()\n",
        "#df[['votes', 'gross(in $)']] = standard_scaler.fit_transform(df[['votes', 'gross(in $)']])\n",
        "\n",
        "# Removing extra whitespace\n",
        "df = df.applymap(lambda x: re.sub(r'\\s+', ' ', x.strip()) if isinstance(x, str) else x)\n",
        "\n",
        "# Verification steps\n",
        "df['contains_html'] = df['DESCRIPTION'].apply(lambda x: bool(BeautifulSoup(x, \"html.parser\").find()))\n",
        "df['contains_special'] = df['DESCRIPTION'].str.contains(r'[^a-zA-Z0-9\\s]')\n",
        "df['contains_stop'] = df['CLEAN_DESCRIPTION'].apply(lambda x: any(word in stop_words for word in x.split()))\n",
        "df['contains_non_informative'] = df['CLEAN_DESCRIPTION'].str.contains(r'\\b(' + '|'.join(stop_words) + r')\\b')\n",
        "\n",
        "summary = {\n",
        "    'HTML Tags Removed': not df['contains_html'].any(),\n",
        "    'Special Characters Removed': not df['contains_special'].any(),\n",
        "    'Non-informative Words Removed': not df['contains_non_informative'].any(),\n",
        "    'Stop Words Removed': not df['contains_stop'].any()\n",
        "}\n",
        "\n",
        "print(summary)\n"
      ]
    },
    {
      "cell_type": "markdown",
      "id": "4d3e00be",
      "metadata": {
        "id": "4d3e00be"
      },
      "source": [
        "### Handling numbers"
      ]
    },
    {
      "cell_type": "code",
      "execution_count": 46,
      "id": "d-t5RyBF3StO",
      "metadata": {
        "colab": {
          "base_uri": "https://localhost:8080/"
        },
        "id": "d-t5RyBF3StO",
        "outputId": "fa4ad61a-7085-446a-cb71-8276361c98be"
      },
      "outputs": [
        {
          "output_type": "stream",
          "name": "stdout",
          "text": [
            "Collecting num2words\n",
            "  Downloading num2words-0.5.13-py3-none-any.whl (143 kB)\n",
            "\u001b[?25l     \u001b[90m━━━━━━━━━━━━━━━━━━━━━━━━━━━━━━━━━━━━━━━━\u001b[0m \u001b[32m0.0/143.3 kB\u001b[0m \u001b[31m?\u001b[0m eta \u001b[36m-:--:--\u001b[0m\r\u001b[2K     \u001b[91m━━━━━━━━━━━━━━━━━━━━━━━━━\u001b[0m\u001b[91m╸\u001b[0m\u001b[90m━━━━━━━━━━━━━━\u001b[0m \u001b[32m92.2/143.3 kB\u001b[0m \u001b[31m2.4 MB/s\u001b[0m eta \u001b[36m0:00:01\u001b[0m\r\u001b[2K     \u001b[90m━━━━━━━━━━━━━━━━━━━━━━━━━━━━━━━━━━━━━━━━\u001b[0m \u001b[32m143.3/143.3 kB\u001b[0m \u001b[31m2.7 MB/s\u001b[0m eta \u001b[36m0:00:00\u001b[0m\n",
            "\u001b[?25hCollecting docopt>=0.6.2 (from num2words)\n",
            "  Downloading docopt-0.6.2.tar.gz (25 kB)\n",
            "  Preparing metadata (setup.py) ... \u001b[?25l\u001b[?25hdone\n",
            "Building wheels for collected packages: docopt\n",
            "  Building wheel for docopt (setup.py) ... \u001b[?25l\u001b[?25hdone\n",
            "  Created wheel for docopt: filename=docopt-0.6.2-py2.py3-none-any.whl size=13706 sha256=9ea70aef03ed14e4e7a78b3a0280775dcdd8aec7b33d93af05a1c730e39794b8\n",
            "  Stored in directory: /root/.cache/pip/wheels/fc/ab/d4/5da2067ac95b36618c629a5f93f809425700506f72c9732fac\n",
            "Successfully built docopt\n",
            "Installing collected packages: docopt, num2words\n",
            "Successfully installed docopt-0.6.2 num2words-0.5.13\n"
          ]
        }
      ],
      "source": [
        "!pip install num2words"
      ]
    },
    {
      "cell_type": "markdown",
      "id": "e4c0881e-0869-49ec-ba8e-4581098ea496",
      "metadata": {
        "id": "e4c0881e-0869-49ec-ba8e-4581098ea496"
      },
      "source": [
        "### Tokenization, Stop Words Removal, and Handling Negations:"
      ]
    },
    {
      "cell_type": "code",
      "execution_count": 47,
      "id": "c0579dd1-6a01-4ebd-846a-1954978aae2f",
      "metadata": {
        "colab": {
          "base_uri": "https://localhost:8080/"
        },
        "id": "c0579dd1-6a01-4ebd-846a-1954978aae2f",
        "outputId": "f7639a48-a027-411e-a957-849f4daca5ba"
      },
      "outputs": [
        {
          "output_type": "stream",
          "name": "stderr",
          "text": [
            "[nltk_data] Downloading package punkt to /root/nltk_data...\n",
            "[nltk_data]   Package punkt is already up-to-date!\n"
          ]
        },
        {
          "output_type": "stream",
          "name": "stdout",
          "text": [
            "                                              tokens  \\\n",
            "0  [dominating, boxing, world, adonis, creed, thr...   \n",
            "1  [set, decade, events, first, film, learn, stor...   \n",
            "2  [working, underground, fix, water, main, brook...   \n",
            "3  [series, unfortunate, events, three, mummies, ...   \n",
            "4  [goodhearted, teenager, william, always, lived...   \n",
            "\n",
            "                                   handled_negations  \n",
            "0  [dominating, boxing, world, adonis, creed, thr...  \n",
            "1  [set, decade, events, first, film, learn, stor...  \n",
            "2  [working, underground, fix, water, main, brook...  \n",
            "3  [series, unfortunate, events, three, mummies, ...  \n",
            "4  [goodhearted, teenager, william, always, lived...  \n"
          ]
        }
      ],
      "source": [
        "nltk.download('punkt')\n",
        "\n",
        "# Tokenization function\n",
        "def tokenize_text(text):\n",
        "    tokens = word_tokenize(text)\n",
        "    return tokens\n",
        "\n",
        "# Negation handling function\n",
        "def handle_negation(tokens):\n",
        "    negation_terms = ['not', 'no', 'never', \"n't\", 'nothing', 'nowhere', 'neither', 'nor']\n",
        "    transformed_tokens = []\n",
        "    negation_active = False\n",
        "\n",
        "    for token in tokens:\n",
        "        if token in negation_terms:\n",
        "            negation_active = True\n",
        "        elif negation_active:\n",
        "            transformed_tokens.append(f\"not_{token}\")\n",
        "            negation_active = False\n",
        "        else:\n",
        "            transformed_tokens.append(token)\n",
        "\n",
        "    return transformed_tokens\n",
        "\n",
        "# Apply tokenization\n",
        "df['tokens'] = df['CLEAN_DESCRIPTION'].apply(tokenize_text)\n",
        "\n",
        "# Apply negation handling\n",
        "df['handled_negations'] = df['tokens'].apply(handle_negation)\n",
        "\n",
        "# Display the DataFrame to verify negation handling\n",
        "print(df[['tokens', 'handled_negations']].head())\n"
      ]
    },
    {
      "cell_type": "markdown",
      "id": "e1420f79",
      "metadata": {
        "id": "e1420f79"
      },
      "source": [
        "### Lemmatization"
      ]
    },
    {
      "cell_type": "code",
      "execution_count": 48,
      "id": "krGtS_-1VTE3",
      "metadata": {
        "colab": {
          "base_uri": "https://localhost:8080/"
        },
        "id": "krGtS_-1VTE3",
        "outputId": "13e787d6-1f10-42b4-e547-8afd414435e1"
      },
      "outputs": [
        {
          "output_type": "stream",
          "name": "stdout",
          "text": [
            "Requirement already satisfied: spacy in /usr/local/lib/python3.10/dist-packages (3.7.4)\n",
            "Requirement already satisfied: spacy-legacy<3.1.0,>=3.0.11 in /usr/local/lib/python3.10/dist-packages (from spacy) (3.0.12)\n",
            "Requirement already satisfied: spacy-loggers<2.0.0,>=1.0.0 in /usr/local/lib/python3.10/dist-packages (from spacy) (1.0.5)\n",
            "Requirement already satisfied: murmurhash<1.1.0,>=0.28.0 in /usr/local/lib/python3.10/dist-packages (from spacy) (1.0.10)\n",
            "Requirement already satisfied: cymem<2.1.0,>=2.0.2 in /usr/local/lib/python3.10/dist-packages (from spacy) (2.0.8)\n",
            "Requirement already satisfied: preshed<3.1.0,>=3.0.2 in /usr/local/lib/python3.10/dist-packages (from spacy) (3.0.9)\n",
            "Requirement already satisfied: thinc<8.3.0,>=8.2.2 in /usr/local/lib/python3.10/dist-packages (from spacy) (8.2.3)\n",
            "Requirement already satisfied: wasabi<1.2.0,>=0.9.1 in /usr/local/lib/python3.10/dist-packages (from spacy) (1.1.2)\n",
            "Requirement already satisfied: srsly<3.0.0,>=2.4.3 in /usr/local/lib/python3.10/dist-packages (from spacy) (2.4.8)\n",
            "Requirement already satisfied: catalogue<2.1.0,>=2.0.6 in /usr/local/lib/python3.10/dist-packages (from spacy) (2.0.10)\n",
            "Requirement already satisfied: weasel<0.4.0,>=0.1.0 in /usr/local/lib/python3.10/dist-packages (from spacy) (0.3.4)\n",
            "Requirement already satisfied: typer<0.10.0,>=0.3.0 in /usr/local/lib/python3.10/dist-packages (from spacy) (0.9.4)\n",
            "Requirement already satisfied: smart-open<7.0.0,>=5.2.1 in /usr/local/lib/python3.10/dist-packages (from spacy) (6.4.0)\n",
            "Requirement already satisfied: tqdm<5.0.0,>=4.38.0 in /usr/local/lib/python3.10/dist-packages (from spacy) (4.66.4)\n",
            "Requirement already satisfied: requests<3.0.0,>=2.13.0 in /usr/local/lib/python3.10/dist-packages (from spacy) (2.31.0)\n",
            "Requirement already satisfied: pydantic!=1.8,!=1.8.1,<3.0.0,>=1.7.4 in /usr/local/lib/python3.10/dist-packages (from spacy) (2.7.1)\n",
            "Requirement already satisfied: jinja2 in /usr/local/lib/python3.10/dist-packages (from spacy) (3.1.4)\n",
            "Requirement already satisfied: setuptools in /usr/local/lib/python3.10/dist-packages (from spacy) (67.7.2)\n",
            "Requirement already satisfied: packaging>=20.0 in /usr/local/lib/python3.10/dist-packages (from spacy) (24.0)\n",
            "Requirement already satisfied: langcodes<4.0.0,>=3.2.0 in /usr/local/lib/python3.10/dist-packages (from spacy) (3.4.0)\n",
            "Requirement already satisfied: numpy>=1.19.0 in /usr/local/lib/python3.10/dist-packages (from spacy) (1.25.2)\n",
            "Requirement already satisfied: language-data>=1.2 in /usr/local/lib/python3.10/dist-packages (from langcodes<4.0.0,>=3.2.0->spacy) (1.2.0)\n",
            "Requirement already satisfied: annotated-types>=0.4.0 in /usr/local/lib/python3.10/dist-packages (from pydantic!=1.8,!=1.8.1,<3.0.0,>=1.7.4->spacy) (0.7.0)\n",
            "Requirement already satisfied: pydantic-core==2.18.2 in /usr/local/lib/python3.10/dist-packages (from pydantic!=1.8,!=1.8.1,<3.0.0,>=1.7.4->spacy) (2.18.2)\n",
            "Requirement already satisfied: typing-extensions>=4.6.1 in /usr/local/lib/python3.10/dist-packages (from pydantic!=1.8,!=1.8.1,<3.0.0,>=1.7.4->spacy) (4.11.0)\n",
            "Requirement already satisfied: charset-normalizer<4,>=2 in /usr/local/lib/python3.10/dist-packages (from requests<3.0.0,>=2.13.0->spacy) (3.3.2)\n",
            "Requirement already satisfied: idna<4,>=2.5 in /usr/local/lib/python3.10/dist-packages (from requests<3.0.0,>=2.13.0->spacy) (3.7)\n",
            "Requirement already satisfied: urllib3<3,>=1.21.1 in /usr/local/lib/python3.10/dist-packages (from requests<3.0.0,>=2.13.0->spacy) (2.0.7)\n",
            "Requirement already satisfied: certifi>=2017.4.17 in /usr/local/lib/python3.10/dist-packages (from requests<3.0.0,>=2.13.0->spacy) (2024.2.2)\n",
            "Requirement already satisfied: blis<0.8.0,>=0.7.8 in /usr/local/lib/python3.10/dist-packages (from thinc<8.3.0,>=8.2.2->spacy) (0.7.11)\n",
            "Requirement already satisfied: confection<1.0.0,>=0.0.1 in /usr/local/lib/python3.10/dist-packages (from thinc<8.3.0,>=8.2.2->spacy) (0.1.4)\n",
            "Requirement already satisfied: click<9.0.0,>=7.1.1 in /usr/local/lib/python3.10/dist-packages (from typer<0.10.0,>=0.3.0->spacy) (8.1.7)\n",
            "Requirement already satisfied: cloudpathlib<0.17.0,>=0.7.0 in /usr/local/lib/python3.10/dist-packages (from weasel<0.4.0,>=0.1.0->spacy) (0.16.0)\n",
            "Requirement already satisfied: MarkupSafe>=2.0 in /usr/local/lib/python3.10/dist-packages (from jinja2->spacy) (2.1.5)\n",
            "Requirement already satisfied: marisa-trie>=0.7.7 in /usr/local/lib/python3.10/dist-packages (from language-data>=1.2->langcodes<4.0.0,>=3.2.0->spacy) (1.1.1)\n"
          ]
        }
      ],
      "source": [
        "!pip install spacy"
      ]
    },
    {
      "cell_type": "code",
      "execution_count": 49,
      "id": "3ed52851",
      "metadata": {
        "colab": {
          "base_uri": "https://localhost:8080/"
        },
        "id": "3ed52851",
        "outputId": "6df3fcdf-e86e-4903-81d0-c9ffd2886350"
      },
      "outputs": [
        {
          "output_type": "stream",
          "name": "stderr",
          "text": [
            "100%|██████████| 20/20 [01:43<00:00,  5.17s/it]\n"
          ]
        }
      ],
      "source": [
        "# Load spaCy English model with only the tokenizer and tagger since that's enough for lemmatization\n",
        "nlp = spacy.load(\"en_core_web_sm\", disable=[\"ner\", \"parser\"])\n",
        "\n",
        "# Define the lemmatization function with nlp model as a parameter\n",
        "def lemmatize_text(text, nlp):\n",
        "    doc = nlp(text)\n",
        "    return \" \".join([token.lemma_ for token in doc])\n",
        "\n",
        "# Function to process in batches\n",
        "def process_text_in_batches(dataframe, column_name):\n",
        "    chunk_size = 500  # Adjust the chunk size based on your system's capability\n",
        "    num_chunks = len(dataframe) // chunk_size + 1\n",
        "\n",
        "    lemmatized_texts = []\n",
        "    for i in tqdm(range(num_chunks)):\n",
        "        batch = dataframe[column_name][i*chunk_size:(i+1)*chunk_size]\n",
        "        lemmatized_batch = batch.apply(lambda text: lemmatize_text(text, nlp))\n",
        "        lemmatized_texts.extend(lemmatized_batch)\n",
        "\n",
        "    return lemmatized_texts\n",
        "\n",
        "# Applying batch processing\n",
        "df['lemmatized_description'] = process_text_in_batches(df, 'CLEAN_DESCRIPTION')"
      ]
    },
    {
      "cell_type": "code",
      "execution_count": 50,
      "id": "_dFB-BghfS-S",
      "metadata": {
        "id": "_dFB-BghfS-S"
      },
      "outputs": [],
      "source": [
        "# Drop duplicate rows based on the 'title' column\n",
        "data = data.drop_duplicates(subset=['title'])\n",
        "# Drop duplicate rows based on the 'title' column\n",
        "df = df.drop_duplicates(subset=['title'])"
      ]
    },
    {
      "cell_type": "code",
      "execution_count": 51,
      "id": "BadMcH5rfU3e",
      "metadata": {
        "id": "BadMcH5rfU3e"
      },
      "outputs": [],
      "source": [
        "df.to_csv('lemmatized_data.csv', index=False)"
      ]
    },
    {
      "cell_type": "code",
      "execution_count": null,
      "id": "FsQn-D-xXPzr",
      "metadata": {
        "id": "FsQn-D-xXPzr"
      },
      "outputs": [],
      "source": [
        "# Loading the dataset\n",
        "drive.mount('/content/drive')\n",
        "file_path = '/content/drive/My Drive/lemmatized_dataset.csv'\n",
        "data = pd.read_csv(file_path, sep=',', engine='python', header=None)"
      ]
    },
    {
      "cell_type": "code",
      "execution_count": 52,
      "id": "mT-Y23xupjvC",
      "metadata": {
        "colab": {
          "base_uri": "https://localhost:8080/"
        },
        "id": "mT-Y23xupjvC",
        "outputId": "94e76670-7c35-4bbf-fcd5-8f9fe720eff4"
      },
      "outputs": [
        {
          "output_type": "stream",
          "name": "stdout",
          "text": [
            "[==================================================] 100.0% 66.0/66.0MB downloaded\n",
            "Vector column created successfully.\n"
          ]
        }
      ],
      "source": [
        "# Ensure the GloVe model is loaded (consider handling this with try-except to catch loading issues)\n",
        "glove_model = api.load(\"glove-wiki-gigaword-50\")\n",
        "\n",
        "# Define the function to create document vectors\n",
        "def document_vector(tokens, model):\n",
        "    filtered_tokens = [token for token in tokens if token in model.key_to_index]\n",
        "    if not filtered_tokens:\n",
        "        return np.zeros(model.vector_size)\n",
        "    return np.mean(model[filtered_tokens], axis=0)\n",
        "\n",
        "# Apply the document vector function to a tokens column that should exist\n",
        "# Ensure 'tokens' column exists and contains pre-tokenized data as lists of words\n",
        "if 'tokens' in df.columns:\n",
        "    df['vector'] = df['tokens'].apply(lambda tokens: document_vector(tokens, glove_model))\n",
        "else:\n",
        "    print(\"Error: 'tokens' column does not exist.\")\n",
        "\n",
        "# Check that the 'vector' column has been created successfully\n",
        "if 'vector' not in df.columns:\n",
        "    print(\"Vector column creation failed.\")\n",
        "else:\n",
        "    print(\"Vector column created successfully.\")\n"
      ]
    },
    {
      "cell_type": "code",
      "execution_count": 54,
      "id": "lanX8Vz65FZI",
      "metadata": {
        "colab": {
          "base_uri": "https://localhost:8080/"
        },
        "id": "lanX8Vz65FZI",
        "outputId": "2574092a-5510-482b-ad21-7a254a8f99d1"
      },
      "outputs": [
        {
          "output_type": "stream",
          "name": "stdout",
          "text": [
            "final_genre\n",
            "Other               0.767126\n",
            "drama               0.055764\n",
            "comedy              0.038116\n",
            "Romance             0.026420\n",
            "Horror              0.024227\n",
            "comedy, romance     0.019215\n",
            "Horror, Thriller    0.018170\n",
            "documentary         0.014933\n",
            "Action, Thriller    0.012218\n",
            "comedy, drama       0.011905\n",
            "romance             0.011905\n",
            "Name: proportion, dtype: float64\n"
          ]
        }
      ],
      "source": [
        "# Define a mapping of genres to aggregated genres\n",
        "genre_aggregation = {\n",
        "    'horror': 'Horror',\n",
        "    'action': 'Action',\n",
        "    'thriller': 'Thriller',\n",
        "    'drama, romance': 'Romance',\n",
        "    'action, crime, drama': 'Crime Drama',\n",
        "    # Add other mappings\n",
        "}\n",
        "\n",
        "# Map genres to aggregated genres\n",
        "df['aggregated_genre'] = df['GENRE'].replace(regex=genre_aggregation)\n",
        "\n",
        "# Now, we reduce the genres to top N and 'other'\n",
        "top_n = 10\n",
        "top_genres = df['aggregated_genre'].value_counts().nlargest(top_n).index\n",
        "df['final_genre'] = df['aggregated_genre'].apply(lambda x: x if x in top_genres else 'Other')\n",
        "\n",
        "# Check the new distribution\n",
        "print(df['final_genre'].value_counts(normalize=True))\n"
      ]
    },
    {
      "cell_type": "code",
      "execution_count": 56,
      "id": "kuLjmZOuk5E5",
      "metadata": {
        "id": "kuLjmZOuk5E5"
      },
      "outputs": [],
      "source": [
        "# Perform PCA on vectors\n",
        "pca = PCA(n_components=50)\n",
        "reduced_vectors = pca.fit_transform(list(df['vector']))\n",
        "\n",
        "# Split data into training and testing sets\n",
        "X_train, X_test, y_train, y_test = train_test_split(reduced_vectors, df['GENRE'], test_size=0.2, random_state=42)\n"
      ]
    },
    {
      "cell_type": "code",
      "execution_count": 57,
      "id": "bcesCyh3usKW",
      "metadata": {
        "colab": {
          "base_uri": "https://localhost:8080/"
        },
        "id": "bcesCyh3usKW",
        "outputId": "bb1ddf5e-58c0-4535-8965-5696d8e19fe1"
      },
      "outputs": [
        {
          "output_type": "stream",
          "name": "stdout",
          "text": [
            "Accuracy: 0.7651356993736952\n"
          ]
        }
      ],
      "source": [
        "# Encode the target variable\n",
        "label_encoder = LabelEncoder()\n",
        "y_encoded = label_encoder.fit_transform(df['final_genre'])\n",
        "X_train, X_test, y_train, y_test = train_test_split(reduced_vectors, y_encoded, test_size=0.2, random_state=42)\n",
        "\n",
        "# Train a simple Random Forest Classifier\n",
        "model = RandomForestClassifier(n_estimators=100, random_state=42)\n",
        "model.fit(X_train, y_train)\n",
        "\n",
        "# Predict and evaluate\n",
        "y_pred = model.predict(X_test)\n",
        "accuracy = accuracy_score(y_test, y_pred)\n",
        "print(\"Accuracy:\", accuracy)\n"
      ]
    },
    {
      "cell_type": "code",
      "execution_count": null,
      "id": "WDcme5cFd-1z",
      "metadata": {
        "id": "WDcme5cFd-1z"
      },
      "outputs": [],
      "source": [
        "# Model Hyperparameter Tuning"
      ]
    },
    {
      "cell_type": "code",
      "execution_count": 58,
      "id": "ITr2FRTdeCd1",
      "metadata": {
        "colab": {
          "base_uri": "https://localhost:8080/"
        },
        "id": "ITr2FRTdeCd1",
        "outputId": "4244b029-9a43-40c5-b53b-bca47d28fdd5"
      },
      "outputs": [
        {
          "output_type": "stream",
          "name": "stdout",
          "text": [
            "Accuracy: 0.7667014613778705\n"
          ]
        }
      ],
      "source": [
        "# Ensure the GloVe vectors are applied\n",
        "if 'vector' in df.columns:\n",
        "    # Prepare the features and labels\n",
        "    X = np.stack(df['vector'].values)  # Convert list of vectors into a 2D array\n",
        "    y = df['final_genre']\n",
        "\n",
        "    # Encode the labels to be used in the model\n",
        "    label_encoder = LabelEncoder()\n",
        "    y_encoded = label_encoder.fit_transform(y)\n",
        "\n",
        "    # Split the data into training and testing sets\n",
        "    X_train, X_test, y_train, y_test = train_test_split(X, y_encoded, test_size=0.2, random_state=42)\n",
        "\n",
        "    # Train the XGBoost model\n",
        "    model = xgb.XGBClassifier(use_label_encoder=False, eval_metric='mlogloss', n_estimators=100, learning_rate=0.1)\n",
        "    model.fit(X_train, y_train)\n",
        "\n",
        "    # Predict and calculate accuracy\n",
        "    y_pred = model.predict(X_test)\n",
        "    accuracy = accuracy_score(y_test, y_pred)\n",
        "    print(\"Accuracy:\", accuracy)\n",
        "else:\n",
        "    print(\"Vector column not found. Ensure your vectorization step is correct.\")\n"
      ]
    },
    {
      "cell_type": "code",
      "execution_count": null,
      "id": "BAZA_Ymjg6_r",
      "metadata": {
        "id": "BAZA_Ymjg6_r"
      },
      "outputs": [],
      "source": [
        "# Advanced Model Architecture"
      ]
    },
    {
      "cell_type": "code",
      "execution_count": null,
      "id": "OEBbHGpFg9gY",
      "metadata": {
        "id": "OEBbHGpFg9gY"
      },
      "outputs": [],
      "source": [
        "# Train a Gradient Boosting Classifier\n",
        "gb = GradientBoostingClassifier(n_estimators=200, learning_rate=0.1, max_depth=5, random_state=42)\n",
        "gb.fit(X_train, y_train)\n",
        "\n",
        "# Predict on the test set\n",
        "y_pred_gb = gb.predict(X_test)\n",
        "\n",
        "# Calculate and print the accuracy\n",
        "accuracy_gb = accuracy_score(y_test, y_pred_gb)\n",
        "print(\"Gradient Boosting Classifier Accuracy:\", accuracy_gb)\n"
      ]
    },
    {
      "cell_type": "code",
      "execution_count": null,
      "id": "FY6pgUKxg9jC",
      "metadata": {
        "id": "FY6pgUKxg9jC"
      },
      "outputs": [],
      "source": [
        "# Feature Engineering"
      ]
    },
    {
      "cell_type": "code",
      "execution_count": null,
      "id": "p9djA19mhBV5",
      "metadata": {
        "id": "p9djA19mhBV5"
      },
      "outputs": [],
      "source": [
        "### Feature Scaling: Standardize features by removing the mean and scaling to unit variance"
      ]
    },
    {
      "cell_type": "code",
      "execution_count": null,
      "id": "-EPA-emwhDr4",
      "metadata": {
        "id": "-EPA-emwhDr4"
      },
      "outputs": [],
      "source": [
        "scaler = StandardScaler()\n",
        "X_train_scaled = scaler.fit_transform(X_train)\n",
        "X_test_scaled = scaler.transform(X_test)\n",
        "\n",
        "model.fit(X_train_scaled, y_train)\n",
        "y_pred = model.predict(X_test_scaled)\n",
        "print(\"Accuracy with Scaled Features:\", accuracy_score(y_test, y_pred))\n"
      ]
    },
    {
      "cell_type": "code",
      "execution_count": null,
      "id": "c3IxCYYRhFna",
      "metadata": {
        "id": "c3IxCYYRhFna"
      },
      "outputs": [],
      "source": [
        "# Ensemble Techniques"
      ]
    },
    {
      "cell_type": "code",
      "execution_count": null,
      "id": "JJtAv1TuhJeQ",
      "metadata": {
        "id": "JJtAv1TuhJeQ"
      },
      "outputs": [],
      "source": [
        "# Create sub-models\n",
        "model1 = RandomForestClassifier(n_estimators=300, random_state=42)\n",
        "model2 = GradientBoostingClassifier(n_estimators=200, learning_rate=0.05, random_state=42)\n",
        "\n",
        "# Create a voting classifier\n",
        "ensemble = VotingClassifier(estimators=[\n",
        "    ('rf', model1), ('gb', model2)],\n",
        "    voting='soft')\n",
        "\n",
        "ensemble.fit(X_train, y_train)\n",
        "y_pred_ensemble = ensemble.predict(X_test)\n",
        "print(\"Ensemble Model Accuracy:\", accuracy_score(y_test, y_pred_ensemble))\n"
      ]
    },
    {
      "cell_type": "code",
      "execution_count": null,
      "id": "J8Kd_wMKoLtY",
      "metadata": {
        "id": "J8Kd_wMKoLtY"
      },
      "outputs": [],
      "source": [
        "print(classification_report(y_test, y_pred))\n",
        "print(\"Confusion Matrix:\\n\", confusion_matrix(y_test, y_pred))\n"
      ]
    },
    {
      "cell_type": "code",
      "source": [
        "#NEURAL NETWORKS BERT MODEL USING HUGGING FACE"
      ],
      "metadata": {
        "id": "e07AmLYxnU8g"
      },
      "id": "e07AmLYxnU8g",
      "execution_count": null,
      "outputs": []
    },
    {
      "cell_type": "code",
      "execution_count": null,
      "id": "a3G49kjKPu3k",
      "metadata": {
        "colab": {
          "base_uri": "https://localhost:8080/"
        },
        "id": "a3G49kjKPu3k",
        "outputId": "055d659b-933c-45ac-f748-bb8d1f8cfae7"
      },
      "outputs": [
        {
          "output_type": "stream",
          "name": "stderr",
          "text": [
            "/usr/local/lib/python3.10/dist-packages/huggingface_hub/utils/_token.py:89: UserWarning: \n",
            "The secret `HF_TOKEN` does not exist in your Colab secrets.\n",
            "To authenticate with the Hugging Face Hub, create a token in your settings tab (https://huggingface.co/settings/tokens), set it as secret in your Google Colab and restart your session.\n",
            "You will be able to reuse this secret in all of your notebooks.\n",
            "Please note that authentication is recommended but still optional to access public models or datasets.\n",
            "  warnings.warn(\n"
          ]
        }
      ],
      "source": [
        "import pandas as pd\n",
        "from transformers import AutoTokenizer, AutoModel\n",
        "import torch\n",
        "import torch.nn.functional as F\n",
        "\n",
        "lemmatized_data = pd.read_csv('lemmatized_data.csv')\n",
        "def mean_pooling(model_output, attention_mask):\n",
        "    token_embeddings = model_output.last_hidden_state  # Get token embeddings from model output\n",
        "    input_mask_expanded = attention_mask.unsqueeze(-1).expand(token_embeddings.size()).float()\n",
        "    sum_embeddings = torch.sum(token_embeddings * input_mask_expanded, 1)\n",
        "    sum_mask = torch.clamp(input_mask_expanded.sum(1), min=1e-9)  # Avoid division by zero\n",
        "    return sum_embeddings / sum_mask\n",
        "\n",
        "# Extract movie descriptions from your DataFrame\n",
        "descriptions = lemmatized_data['lemmatized_description'].tolist()\n",
        "\n",
        "# Load model from HuggingFace Hub\n",
        "tokenizer = AutoTokenizer.from_pretrained('sentence-transformers/all-MiniLM-L6-v2')\n",
        "model = AutoModel.from_pretrained('google-bert/bert-base-uncased')\n",
        "\n",
        "# Tokenize descriptions\n",
        "encoded_input = tokenizer(descriptions, padding=True, truncation=True, return_tensors='pt')\n",
        "\n",
        "# Compute token embeddings\n",
        "with torch.no_grad():\n",
        "    model_output = model(**encoded_input)\n",
        "\n",
        "# Perform pooling\n",
        "sentence_embeddings = mean_pooling(model_output, encoded_input['attention_mask'])\n",
        "\n",
        "# Normalize embeddings\n",
        "sentence_embeddings = F.normalize(sentence_embeddings, p=2, dim=1)\n",
        "\n",
        "print(\"Sentence embeddings:\")\n",
        "print(sentence_embeddings)\n",
        "print(\"Accuracy:\", accuracy)\n",
        "\n"
      ]
    },
    {
      "cell_type": "code",
      "source": [
        "#TRANSLATION OF THE DATASET INTO ARABIC"
      ],
      "metadata": {
        "id": "UQa36bBLntJP"
      },
      "id": "UQa36bBLntJP",
      "execution_count": null,
      "outputs": []
    },
    {
      "cell_type": "code",
      "execution_count": null,
      "metadata": {
        "colab": {
          "background_save": true,
          "base_uri": "https://localhost:8080/",
          "height": 225,
          "referenced_widgets": [
            "f8257c95896d451c9f0abdeae91b8ea1"
          ]
        },
        "id": "GA6TMXg73G0F",
        "outputId": "ab39359b-0724-412c-dec4-350184f6cbe5"
      },
      "outputs": [
        {
          "data": {
            "application/vnd.jupyter.widget-view+json": {
              "model_id": "f8257c95896d451c9f0abdeae91b8ea1",
              "version_major": 2,
              "version_minor": 0
            },
            "text/plain": [
              "Loading checkpoint shards:   0%|          | 0/3 [00:00<?, ?it/s]"
            ]
          },
          "metadata": {},
          "output_type": "display_data"
        },
        {
          "name": "stderr",
          "output_type": "stream",
          "text": [
            "Some weights of the model checkpoint at mustafaaljadery/gemma-2B-10M were not used when initializing GemmaForCausalLM: ['model.layers.0.self_attn.gate', 'model.layers.1.self_attn.gate', 'model.layers.10.self_attn.gate', 'model.layers.11.self_attn.gate', 'model.layers.12.self_attn.gate', 'model.layers.13.self_attn.gate', 'model.layers.14.self_attn.gate', 'model.layers.15.self_attn.gate', 'model.layers.16.self_attn.gate', 'model.layers.17.self_attn.gate', 'model.layers.2.self_attn.gate', 'model.layers.3.self_attn.gate', 'model.layers.4.self_attn.gate', 'model.layers.5.self_attn.gate', 'model.layers.6.self_attn.gate', 'model.layers.7.self_attn.gate', 'model.layers.8.self_attn.gate', 'model.layers.9.self_attn.gate']\n",
            "- This IS expected if you are initializing GemmaForCausalLM from the checkpoint of a model trained on another task or with another architecture (e.g. initializing a BertForSequenceClassification model from a BertForPreTraining model).\n",
            "- This IS NOT expected if you are initializing GemmaForCausalLM from the checkpoint of a model that you expect to be exactly identical (initializing a BertForSequenceClassification model from a BertForSequenceClassification model).\n"
          ]
        },
        {
          "ename": "ParserError",
          "evalue": "Error tokenizing data. C error: EOF inside string starting at row 112655",
          "output_type": "error",
          "traceback": [
            "\u001b[0;31m---------------------------------------------------------------------------\u001b[0m",
            "\u001b[0;31mParserError\u001b[0m                               Traceback (most recent call last)",
            "\u001b[0;32m<ipython-input-2-af2069f9c42b>\u001b[0m in \u001b[0;36m<cell line: 35>\u001b[0;34m()\u001b[0m\n\u001b[1;32m     33\u001b[0m \u001b[0moutput_csv_path\u001b[0m \u001b[0;34m=\u001b[0m \u001b[0;34m'arabic.csv'\u001b[0m\u001b[0;34m\u001b[0m\u001b[0;34m\u001b[0m\u001b[0m\n\u001b[1;32m     34\u001b[0m \u001b[0;34m\u001b[0m\u001b[0m\n\u001b[0;32m---> 35\u001b[0;31m \u001b[0mdf\u001b[0m \u001b[0;34m=\u001b[0m \u001b[0mpd\u001b[0m\u001b[0;34m.\u001b[0m\u001b[0mread_csv\u001b[0m\u001b[0;34m(\u001b[0m\u001b[0minput_csv_path\u001b[0m\u001b[0;34m)\u001b[0m\u001b[0;34m\u001b[0m\u001b[0;34m\u001b[0m\u001b[0m\n\u001b[0m\u001b[1;32m     36\u001b[0m \u001b[0;34m\u001b[0m\u001b[0m\n\u001b[1;32m     37\u001b[0m \u001b[0;31m# Print the column names to verify\u001b[0m\u001b[0;34m\u001b[0m\u001b[0;34m\u001b[0m\u001b[0m\n",
            "\u001b[0;32m/usr/local/lib/python3.10/dist-packages/pandas/io/parsers/readers.py\u001b[0m in \u001b[0;36mread_csv\u001b[0;34m(filepath_or_buffer, sep, delimiter, header, names, index_col, usecols, dtype, engine, converters, true_values, false_values, skipinitialspace, skiprows, skipfooter, nrows, na_values, keep_default_na, na_filter, verbose, skip_blank_lines, parse_dates, infer_datetime_format, keep_date_col, date_parser, date_format, dayfirst, cache_dates, iterator, chunksize, compression, thousands, decimal, lineterminator, quotechar, quoting, doublequote, escapechar, comment, encoding, encoding_errors, dialect, on_bad_lines, delim_whitespace, low_memory, memory_map, float_precision, storage_options, dtype_backend)\u001b[0m\n\u001b[1;32m    910\u001b[0m     \u001b[0mkwds\u001b[0m\u001b[0;34m.\u001b[0m\u001b[0mupdate\u001b[0m\u001b[0;34m(\u001b[0m\u001b[0mkwds_defaults\u001b[0m\u001b[0;34m)\u001b[0m\u001b[0;34m\u001b[0m\u001b[0;34m\u001b[0m\u001b[0m\n\u001b[1;32m    911\u001b[0m \u001b[0;34m\u001b[0m\u001b[0m\n\u001b[0;32m--> 912\u001b[0;31m     \u001b[0;32mreturn\u001b[0m \u001b[0m_read\u001b[0m\u001b[0;34m(\u001b[0m\u001b[0mfilepath_or_buffer\u001b[0m\u001b[0;34m,\u001b[0m \u001b[0mkwds\u001b[0m\u001b[0;34m)\u001b[0m\u001b[0;34m\u001b[0m\u001b[0;34m\u001b[0m\u001b[0m\n\u001b[0m\u001b[1;32m    913\u001b[0m \u001b[0;34m\u001b[0m\u001b[0m\n\u001b[1;32m    914\u001b[0m \u001b[0;34m\u001b[0m\u001b[0m\n",
            "\u001b[0;32m/usr/local/lib/python3.10/dist-packages/pandas/io/parsers/readers.py\u001b[0m in \u001b[0;36m_read\u001b[0;34m(filepath_or_buffer, kwds)\u001b[0m\n\u001b[1;32m    581\u001b[0m \u001b[0;34m\u001b[0m\u001b[0m\n\u001b[1;32m    582\u001b[0m     \u001b[0;32mwith\u001b[0m \u001b[0mparser\u001b[0m\u001b[0;34m:\u001b[0m\u001b[0;34m\u001b[0m\u001b[0;34m\u001b[0m\u001b[0m\n\u001b[0;32m--> 583\u001b[0;31m         \u001b[0;32mreturn\u001b[0m \u001b[0mparser\u001b[0m\u001b[0;34m.\u001b[0m\u001b[0mread\u001b[0m\u001b[0;34m(\u001b[0m\u001b[0mnrows\u001b[0m\u001b[0;34m)\u001b[0m\u001b[0;34m\u001b[0m\u001b[0;34m\u001b[0m\u001b[0m\n\u001b[0m\u001b[1;32m    584\u001b[0m \u001b[0;34m\u001b[0m\u001b[0m\n\u001b[1;32m    585\u001b[0m \u001b[0;34m\u001b[0m\u001b[0m\n",
            "\u001b[0;32m/usr/local/lib/python3.10/dist-packages/pandas/io/parsers/readers.py\u001b[0m in \u001b[0;36mread\u001b[0;34m(self, nrows)\u001b[0m\n\u001b[1;32m   1702\u001b[0m                     \u001b[0mcolumns\u001b[0m\u001b[0;34m,\u001b[0m\u001b[0;34m\u001b[0m\u001b[0;34m\u001b[0m\u001b[0m\n\u001b[1;32m   1703\u001b[0m                     \u001b[0mcol_dict\u001b[0m\u001b[0;34m,\u001b[0m\u001b[0;34m\u001b[0m\u001b[0;34m\u001b[0m\u001b[0m\n\u001b[0;32m-> 1704\u001b[0;31m                 \u001b[0;34m)\u001b[0m \u001b[0;34m=\u001b[0m \u001b[0mself\u001b[0m\u001b[0;34m.\u001b[0m\u001b[0m_engine\u001b[0m\u001b[0;34m.\u001b[0m\u001b[0mread\u001b[0m\u001b[0;34m(\u001b[0m  \u001b[0;31m# type: ignore[attr-defined]\u001b[0m\u001b[0;34m\u001b[0m\u001b[0;34m\u001b[0m\u001b[0m\n\u001b[0m\u001b[1;32m   1705\u001b[0m                     \u001b[0mnrows\u001b[0m\u001b[0;34m\u001b[0m\u001b[0;34m\u001b[0m\u001b[0m\n\u001b[1;32m   1706\u001b[0m                 )\n",
            "\u001b[0;32m/usr/local/lib/python3.10/dist-packages/pandas/io/parsers/c_parser_wrapper.py\u001b[0m in \u001b[0;36mread\u001b[0;34m(self, nrows)\u001b[0m\n\u001b[1;32m    232\u001b[0m         \u001b[0;32mtry\u001b[0m\u001b[0;34m:\u001b[0m\u001b[0;34m\u001b[0m\u001b[0;34m\u001b[0m\u001b[0m\n\u001b[1;32m    233\u001b[0m             \u001b[0;32mif\u001b[0m \u001b[0mself\u001b[0m\u001b[0;34m.\u001b[0m\u001b[0mlow_memory\u001b[0m\u001b[0;34m:\u001b[0m\u001b[0;34m\u001b[0m\u001b[0;34m\u001b[0m\u001b[0m\n\u001b[0;32m--> 234\u001b[0;31m                 \u001b[0mchunks\u001b[0m \u001b[0;34m=\u001b[0m \u001b[0mself\u001b[0m\u001b[0;34m.\u001b[0m\u001b[0m_reader\u001b[0m\u001b[0;34m.\u001b[0m\u001b[0mread_low_memory\u001b[0m\u001b[0;34m(\u001b[0m\u001b[0mnrows\u001b[0m\u001b[0;34m)\u001b[0m\u001b[0;34m\u001b[0m\u001b[0;34m\u001b[0m\u001b[0m\n\u001b[0m\u001b[1;32m    235\u001b[0m                 \u001b[0;31m# destructive to chunks\u001b[0m\u001b[0;34m\u001b[0m\u001b[0;34m\u001b[0m\u001b[0m\n\u001b[1;32m    236\u001b[0m                 \u001b[0mdata\u001b[0m \u001b[0;34m=\u001b[0m \u001b[0m_concatenate_chunks\u001b[0m\u001b[0;34m(\u001b[0m\u001b[0mchunks\u001b[0m\u001b[0;34m)\u001b[0m\u001b[0;34m\u001b[0m\u001b[0;34m\u001b[0m\u001b[0m\n",
            "\u001b[0;32m/usr/local/lib/python3.10/dist-packages/pandas/_libs/parsers.pyx\u001b[0m in \u001b[0;36mpandas._libs.parsers.TextReader.read_low_memory\u001b[0;34m()\u001b[0m\n",
            "\u001b[0;32m/usr/local/lib/python3.10/dist-packages/pandas/_libs/parsers.pyx\u001b[0m in \u001b[0;36mpandas._libs.parsers.TextReader._read_rows\u001b[0;34m()\u001b[0m\n",
            "\u001b[0;32m/usr/local/lib/python3.10/dist-packages/pandas/_libs/parsers.pyx\u001b[0m in \u001b[0;36mpandas._libs.parsers.TextReader._tokenize_rows\u001b[0;34m()\u001b[0m\n",
            "\u001b[0;32m/usr/local/lib/python3.10/dist-packages/pandas/_libs/parsers.pyx\u001b[0m in \u001b[0;36mpandas._libs.parsers.TextReader._check_tokenize_status\u001b[0;34m()\u001b[0m\n",
            "\u001b[0;32m/usr/local/lib/python3.10/dist-packages/pandas/_libs/parsers.pyx\u001b[0m in \u001b[0;36mpandas._libs.parsers.raise_parser_error\u001b[0;34m()\u001b[0m\n",
            "\u001b[0;31mParserError\u001b[0m: Error tokenizing data. C error: EOF inside string starting at row 112655"
          ]
        }
      ],
      "source": [
        "import torch\n",
        "from transformers import AutoTokenizer, AutoModelForCausalLM\n",
        "import pandas as pd\n",
        "\n",
        "# Load your model and tokenizer\n",
        "model_path = \"mustafaaljadery/gemma-2B-10M\"\n",
        "tokenizer = AutoTokenizer.from_pretrained(model_path)\n",
        "model = AutoModelForCausalLM.from_pretrained(\n",
        "    model_path,\n",
        "    torch_dtype=torch.bfloat16\n",
        ")\n",
        "\n",
        "def translate(text, max_length=512, temperature=0.8):\n",
        "    prompt_text = f\"Translate this to Arabic: {text}\"\n",
        "    inputs = tokenizer(prompt_text, return_tensors=\"pt\")\n",
        "    input_ids = inputs[\"input_ids\"].to(model.device)\n",
        "\n",
        "    with torch.no_grad():\n",
        "        outputs = model.generate(\n",
        "            input_ids,\n",
        "            max_length=max_length,\n",
        "            temperature=temperature,\n",
        "            num_beams=5,\n",
        "            no_repeat_ngram_size=2,\n",
        "            early_stopping=True\n",
        "        )\n",
        "\n",
        "    translated_text = tokenizer.decode(outputs[0], skip_special_tokens=True)\n",
        "    return translated_text\n",
        "\n",
        "# Load your dataset\n",
        "input_csv_path = 'train.csv'\n",
        "output_csv_path = 'arabic.csv'\n",
        "\n",
        "df = pd.read_csv(input_csv_path)\n",
        "\n",
        "# Print the column names to verify\n",
        "print(df.columns)\n",
        "\n",
        "# Assuming the column to translate is named 'text'\n",
        "# Replace 'text' with the actual column name if different\n",
        "df['translated_description'] = df['DESCRIPTION'].apply(translate)\n",
        "\n",
        "# Save the translated dataset to a new CSV file\n",
        "df.to_csv(output_csv_path, index=False)\n",
        "\n",
        "print(\"Translation complete. Translated dataset saved to:\", output_csv_path)\n"
      ],
      "id": "GA6TMXg73G0F"
    }
  ],
  "metadata": {
    "accelerator": "TPU",
    "colab": {
      "gpuType": "V28",
      "provenance": []
    },
    "kernelspec": {
      "display_name": "base",
      "language": "python",
      "name": "base"
    },
    "language_info": {
      "codemirror_mode": {
        "name": "ipython",
        "version": 3
      },
      "file_extension": ".py",
      "mimetype": "text/x-python",
      "name": "python",
      "nbconvert_exporter": "python",
      "pygments_lexer": "ipython3",
      "version": "3.9.13"
    },
    "widgets": {
      "application/vnd.jupyter.widget-state+json": {}
    }
  },
  "nbformat": 4,
  "nbformat_minor": 5
}